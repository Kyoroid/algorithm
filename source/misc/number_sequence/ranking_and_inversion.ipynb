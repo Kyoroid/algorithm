{
 "metadata": {
  "language_info": {
   "codemirror_mode": {
    "name": "ipython",
    "version": 3
   },
   "file_extension": ".py",
   "mimetype": "text/x-python",
   "name": "python",
   "nbconvert_exporter": "python",
   "pygments_lexer": "ipython3",
   "version": "3.8.10"
  },
  "orig_nbformat": 2,
  "kernelspec": {
   "name": "python3",
   "display_name": "Python 3.8.10 64-bit ('py38env': venv)",
   "metadata": {
    "interpreter": {
     "hash": "fa0e30685626637fcda81ebca9982750cef985a3d7ed2872bf400038cee5904e"
    }
   }
  }
 },
 "nbformat": 4,
 "nbformat_minor": 2,
 "cells": [
  {
   "cell_type": "markdown",
   "source": [
    "# ランキングと転倒数\r\n",
    "\r\n",
    "Code: [ranking_and_inversion.py](https://github.com/Kyoroid/algorithm/blob/master/lib/misc/ranking_and_inversion.py)  \r\n",
    "Test: [test_ranking_and_inversion.py](https://github.com/Kyoroid/algorithm/blob/master/test/misc/test_ranking_and_inversion.py)"
   ],
   "metadata": {}
  },
  {
   "cell_type": "markdown",
   "source": [
    "## ランキング・順序付け\n",
    "\n",
    "https://en.wikipedia.org/wiki/Ranking\n",
    "\n",
    "\n",
    "ランキング (ranking) または順序付けは、順列のある値が「何番目に小さいか(順位)」を求めることをいう。  \n",
    "同じ値に同じ順位を割り当てる順位付けを dense ranking、同じ値同士に対しても一貫した規則で順序付けしたものを ordinal ranking という。  \n",
    "\n",
    "特に Ordinal ranking は順序関係を保ったまま、順列を小さな値に置き換えることができるため、座標圧縮などに利用される。"
   ],
   "metadata": {}
  },
  {
   "cell_type": "markdown",
   "source": [
    "## 転倒数\r\n",
    "\r\n",
    "順列中のある2数に着目したとき、出現位置の大小関係と値の大小関係が一致していない組を「転倒」という。  \r\n",
    "例えば $\\{1, 4, 9, 6, 11\\}$ という数列において、2番目と3番目 (0-indexed) の値は自然な順番と逆順に並んでいる。このとき、$(i, j) = (2, 3)$ は転倒の1つである。  \r\n",
    "順列中の転倒の総和を「転倒数」という。\r\n",
    "\r\n",
    "また、それぞれの要素について、右側にある要素の転倒数を数えて作った数列を「転倒ベクトル」という。\r\n",
    "\r\n",
    "$$\r\n",
    "V_i = \\{(A_i, A_k) | (i \\lt k) \\wedge (A_i \\gt A_k)\\}\r\n",
    "$$\r\n",
    "\r\n",
    "転倒ベクトルの要素の和が転倒数となる。"
   ],
   "metadata": {}
  },
  {
   "cell_type": "markdown",
   "source": [
    "## 実装\n",
    "\n",
    "$0, 1, \\ldots n-1$ の序数を並び替えてできた数列 $A$ の転倒ベクトル $V_i$ は次の手順で求められる。  \n",
    "\n",
    "1. 過去にある値が出現したかどうかを管理するための、長さ $n$ のブール配列 $flag$ を用意する。\n",
    "1. 数列の右から $i=n-1, n-2, \\ldots$ の順に走査し、以下を繰り返す。\n",
    "    1. $i$ 番目の値 $A_i$ を見る。\n",
    "    1. $A_i$ が出現したことを表すためのフラグを立てる。つまり $flag_{A_i} = 1$ とする。\n",
    "    1. $A_i$ より小さな値が $A_i$ の右側にいくつ存在するか調べ、数え上げる。\n",
    "\n",
    "「$A_i$ より小さな値が $A_i$ の右側にいくつ存在するか」について、右側の数字はすべて $flag$ に記録されている。  \n",
    "よって、$[0, A_i)$ の範囲でいくつフラグが立っているかを数えれば、$A_i$ の右側に存在する $A_i$ より小さな値の個数を得ることができる。\n",
    "\n",
    "フラグの計数は愚直に数えると $\\mathcal{O}(n)$ だが、Fenwick Treeなどを使えば $\\mathcal{O}(\\log{n})$ に落ちる。  \n",
    "そのため転倒ベクトルは $\\mathcal{O}(n\\log{n})$ で求まる。\n",
    "\n",
    "任意の順列に対しても、順序付けをして $0, 1, \\ldots n-1$ の序数を並び替えた数列に変換すれば、以降は同じ手順で転倒ベクトルを求められる。"
   ],
   "metadata": {}
  },
  {
   "cell_type": "markdown",
   "source": [
    "## コード (Numpy + Numba)"
   ],
   "metadata": {}
  },
  {
   "cell_type": "code",
   "execution_count": 1,
   "source": [
    "import numpy as np\r\n",
    "from numba import njit, i8\r\n",
    "from lib.structure.fenwick_tree import FenwickTree\r\n",
    "\r\n",
    "\r\n",
    "@njit(\"i8[:](i8[:])\", cache=True)\r\n",
    "def rank_vector(a: i8[:]) -> i8[:]:\r\n",
    "    \"\"\"配列の各要素の順位を求めます。同じ値をもつ要素同士は、もとの順序を保ったまま順位づけされます。\r\n",
    "\r\n",
    "    Parameters\r\n",
    "    ----------\r\n",
    "    a : i8[:]\r\n",
    "        配列\r\n",
    "\r\n",
    "    Returns\r\n",
    "    -------\r\n",
    "    i8[:]\r\n",
    "        配列の各要素の順位\r\n",
    "    \"\"\"\r\n",
    "    order = np.argsort(a, kind=\"mergesort\")\r\n",
    "    rank = np.argsort(order, kind=\"mergesort\")\r\n",
    "    return rank\r\n",
    "\r\n",
    "\r\n",
    "\r\n",
    "@njit(\"i8[:](i8[:])\", cache=True)\r\n",
    "def inversion_vector(a: i8[:]) -> i8[:]:\r\n",
    "    \"\"\"配列の転倒ベクトル V[i] = #{(A[i], A[k]) | i < k and A[i] >= A[k]} を求めます。\r\n",
    "\r\n",
    "    Parameters\r\n",
    "    ----------\r\n",
    "    a : i8[:]\r\n",
    "        配列\r\n",
    "\r\n",
    "    Returns\r\n",
    "    -------\r\n",
    "    i8[:]\r\n",
    "        転倒ベクトル\r\n",
    "    \"\"\"\r\n",
    "    rank = rank_vector(a)\r\n",
    "    ft = FenwickTree(a.size)\r\n",
    "    inv_vec = np.zeros_like(a)\r\n",
    "    for i in range(ft.n - 1, -1, -1):\r\n",
    "        ri = rank[i]\r\n",
    "        inv_vec[i] = ft.sum(0, ri)\r\n",
    "        ft.add(ri, 1)\r\n",
    "    return inv_vec\r\n"
   ],
   "outputs": [],
   "metadata": {}
  },
  {
   "cell_type": "markdown",
   "source": [
    "## 実行例"
   ],
   "metadata": {}
  },
  {
   "cell_type": "code",
   "execution_count": 2,
   "source": [
    "A = np.array([3, 1, 5, 4, 2], dtype=np.int64)\n",
    "inv_vec = inversion_vector(A)\n",
    "# (i, j) = {(0, 1), (0, 4), (2, 3), (2, 4), (3, 4)} are inversions.\n",
    "print(*inv_vec)\n",
    "print(inv_vec.sum())"
   ],
   "outputs": [
    {
     "output_type": "stream",
     "name": "stdout",
     "text": [
      "2 0 2 1 0\n5\n"
     ]
    }
   ],
   "metadata": {}
  }
 ]
}