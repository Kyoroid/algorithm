{
 "cells": [
  {
   "cell_type": "markdown",
   "metadata": {},
   "source": [
    "# 最長増加部分列(LIS)\n",
    "\n",
    "[最長増加部分列](http://www.prefield.com/algorithm/dp/lis_fast.html) (Spaghetti Source)"
   ]
  },
  {
   "cell_type": "markdown",
   "metadata": {},
   "source": [
    "## 最長増加部分列\n",
    "\n",
    "最長増加部分列 (Longest Increasing Subsequence, LIS) は、数列の部分列として作ることができる単調増加部分列のうち、最も長いのものをいう。  \n",
    "例えば数列 $\\{a_i\\}$\n",
    "\n",
    "$$\n",
    "2, 3, 1, 7, 5, 2, 3, 0, 5\n",
    "$$\n",
    "\n",
    "に対して、その最長増加部分列は\n",
    "\n",
    "$$\n",
    "1, 2, 3, 5\n",
    "$$\n",
    "\n",
    "となる。"
   ]
  },
  {
   "cell_type": "markdown",
   "metadata": {},
   "source": [
    "## 実装\n",
    "\n",
    "動的計画法と二分探索を用いて、最長増加部分列の長さを計算量 $\\mathcal{O}(n\\log{n})$ で求めることができる。\n",
    "\n",
    "$dp[i]:$ 長さ $i$ の単調増加部分列の右端の数字のうち、最小の値"
   ]
  },
  {
   "cell_type": "code",
   "execution_count": 1,
   "metadata": {},
   "outputs": [],
   "source": [
    "from bisect import bisect_left\n",
    "\n",
    "def lis_length(A, INF=10**9):\n",
    "    dp = [INF for _ in A]\n",
    "    for a in A:\n",
    "        idx = bisect_left(dp, a)\n",
    "        dp[idx] = a\n",
    "    return bisect_left(dp, INF)"
   ]
  },
  {
   "cell_type": "code",
   "execution_count": 2,
   "metadata": {
    "tags": []
   },
   "outputs": [
    {
     "output_type": "stream",
     "name": "stdout",
     "text": "4\n"
    }
   ],
   "source": [
    "A = [2, 3, 1, 7, 5, 2, 3, 0, 5]\n",
    "print(lis_length(A))"
   ]
  },
  {
   "cell_type": "markdown",
   "metadata": {},
   "source": [
    "最長増加部分列そのものを求めるには、DPの更新時に更新箇所のインデックスも一緒にメモしておけばよい。"
   ]
  },
  {
   "cell_type": "code",
   "execution_count": 3,
   "metadata": {},
   "outputs": [],
   "source": [
    "from bisect import bisect_left\n",
    "\n",
    "def LIS(A, INF=10**9):\n",
    "    dp = [INF for _ in A]\n",
    "    b = [-1 for _ in A]\n",
    "    for i in range(len(A)):\n",
    "        idx = bisect_left(dp, A[i])\n",
    "        dp[idx] = A[i]\n",
    "        b[i] = idx + 1\n",
    "    l = bisect_left(dp, INF)\n",
    "    seq = [0 for i in range(l)]\n",
    "    for i in range(len(A)-1, -1, -1):\n",
    "        if b[i] == l:\n",
    "            l -= 1\n",
    "            seq[l] = A[i]\n",
    "    return seq"
   ]
  },
  {
   "cell_type": "code",
   "execution_count": 4,
   "metadata": {
    "tags": []
   },
   "outputs": [
    {
     "output_type": "stream",
     "name": "stdout",
     "text": "[1, 2, 3, 5]\n"
    }
   ],
   "source": [
    "print(LIS(A))"
   ]
  }
 ],
 "metadata": {
  "language_info": {
   "codemirror_mode": {
    "name": "ipython",
    "version": 3
   },
   "file_extension": ".py",
   "mimetype": "text/x-python",
   "name": "python",
   "nbconvert_exporter": "python",
   "pygments_lexer": "ipython3",
   "version": "3.8.1-final"
  },
  "orig_nbformat": 2,
  "kernelspec": {
   "name": "python38164bitpy38envvenvdb5a67ba2d164185bbc60d730ae2e1eb",
   "display_name": "Python 3.8.1 64-bit ('py38env': venv)"
  }
 },
 "nbformat": 4,
 "nbformat_minor": 2
}