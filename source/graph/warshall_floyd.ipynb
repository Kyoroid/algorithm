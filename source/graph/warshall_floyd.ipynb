{
 "metadata": {
  "language_info": {
   "codemirror_mode": {
    "name": "ipython",
    "version": 3
   },
   "file_extension": ".py",
   "mimetype": "text/x-python",
   "name": "python",
   "nbconvert_exporter": "python",
   "pygments_lexer": "ipython3",
   "version": "3.8.1-final"
  },
  "orig_nbformat": 2,
  "kernelspec": {
   "name": "python38164bitpy38envvenvdb5a67ba2d164185bbc60d730ae2e1eb",
   "display_name": "Python 3.8.1 64-bit ('py38env': venv)"
  }
 },
 "nbformat": 4,
 "nbformat_minor": 2,
 "cells": [
  {
   "cell_type": "markdown",
   "metadata": {},
   "source": [
    "# 全点対間最短経路"
   ]
  },
  {
   "cell_type": "markdown",
   "metadata": {},
   "source": [
    "## Warshall-Floyd法\n",
    "\n",
    "### 概要\n",
    "\n",
    "動的計画法により、グラフに含まれる全ての点対に対する最小移動コストを求めるアルゴリズム。  \n",
    "有向グラフ・無向グラフのいずれにも適用可能。また、辺の重みは負であってもよい。"
   ]
  },
  {
   "cell_type": "markdown",
   "metadata": {},
   "source": [
    "### アルゴリズム\n",
    "\n",
    "グラフ $G(V, E)$ 上のある2点 $(i, j)$ 間の移動に関して、中継ノード $k$ を考える。  \n",
    "「ノード $k$ を経由して、 $(i, k)$ と $(k, j)$ をこの順に移動するコスト」と「ノード $(i, j)$ を移動するコスト」を比較し、コストの小さいほうを最小コストとして採用する。  \n",
    "全てのノードを中継ノードとして順次採用し、コストを更新していく。  \n",
    "全中継ノードを調べ終わった時点で、全ての点対の最小コストが求まっている。\n",
    "\n",
    "計算量はノード数 $V$ に対し $\\mathcal{O}(V^3)$ となる。"
   ]
  },
  {
   "cell_type": "markdown",
   "metadata": {},
   "source": [
    "### 実装"
   ]
  },
  {
   "cell_type": "code",
   "execution_count": 1,
   "metadata": {},
   "outputs": [],
   "source": [
    "def warshall_floyd(N, G):\n",
    "    \"\"\"任意の2点間の最小移動コストを求める\n",
    "    N: ノード数\n",
    "    G: 隣接行列\n",
    "    return: 最小コストで更新された隣接行列\n",
    "    \"\"\"\n",
    "    for k in range(N):\n",
    "        for i in range(N):\n",
    "            for j in range(N):\n",
    "                if G[i][j] > G[i][k] + G[k][j]:\n",
    "                    G[i][j] = G[i][k] + G[k][j]\n",
    "    return G"
   ]
  },
  {
   "cell_type": "code",
   "execution_count": 2,
   "metadata": {
    "tags": []
   },
   "outputs": [
    {
     "output_type": "stream",
     "name": "stdout",
     "text": "12\n"
    }
   ],
   "source": [
    "INF=10**7\n",
    "N = 5\n",
    "G = [\n",
    "    [0, 4, 3, INF, INF],\n",
    "    [4, 0, 2, 5, INF],\n",
    "    [3, 2, 0, 7, 9],\n",
    "    [INF, 5, 7, 0, 11],\n",
    "    [INF, INF, 9, 11, 0]\n",
    "    ]\n",
    "H = warshall_floyd(N, G)\n",
    "print(H[0][4])"
   ]
  }
 ]
}