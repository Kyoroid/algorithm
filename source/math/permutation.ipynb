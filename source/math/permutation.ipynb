{
 "cells": [
  {
   "cell_type": "markdown",
   "metadata": {},
   "source": [
    "# 順列"
   ]
  },
  {
   "cell_type": "markdown",
   "metadata": {},
   "source": [
    "## 順列の生成\n",
    "\n",
    "https://cpprefjp.github.io/reference/algorithm/next_permutation.html  \n",
    "https://qiita.com/Nikkely/items/0ddca51b3c0e60afbaab"
   ]
  },
  {
   "cell_type": "code",
   "execution_count": null,
   "metadata": {},
   "outputs": [],
   "source": [
    "def next_permutation(a):\n",
    "    \"\"\"順列aを、辞書順で次の順列に書き換える\n",
    "    \"\"\"\n",
    "    i = len(a) - 2\n",
    "    while True:\n",
    "        if i < 0:\n",
    "            return False\n",
    "        if a[i] < a[i+1]:\n",
    "            break\n",
    "        i -= 1\n",
    "    if i == -1:\n",
    "        return False\n",
    "    for j in range(len(a)-1, -1, -1):\n",
    "        if a[i] < a[j]:\n",
    "            break\n",
    "    a[i], a[j] = a[j], a[i]\n",
    "    i += 1\n",
    "    j = len(a) - 1\n",
    "    while i < j:\n",
    "        a[i], a[j] = a[j], a[i]\n",
    "        i += 1\n",
    "        j -= 1\n",
    "    return True"
   ]
  },
  {
   "cell_type": "code",
   "execution_count": null,
   "metadata": {},
   "outputs": [],
   "source": [
    "S = [1, 2, 3]\n",
    "print(S)\n",
    "while next_permutation(S):\n",
    "    print(S)"
   ]
  }
 ],
 "metadata": {
  "language_info": {
   "codemirror_mode": {
    "name": "ipython",
    "version": 3
   },
   "file_extension": ".py",
   "mimetype": "text/x-python",
   "name": "python",
   "nbconvert_exporter": "python",
   "pygments_lexer": "ipython3",
   "version": "3.8.1-final"
  },
  "orig_nbformat": 2,
  "kernelspec": {
   "name": "python38164bitpy38envvenvdb5a67ba2d164185bbc60d730ae2e1eb",
   "display_name": "Python 3.8.1 64-bit ('py38env': venv)"
  }
 },
 "nbformat": 4,
 "nbformat_minor": 2
}