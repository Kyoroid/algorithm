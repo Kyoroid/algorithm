{
 "cells": [
  {
   "cell_type": "markdown",
   "metadata": {},
   "source": [
    "# 素数"
   ]
  },
  {
   "cell_type": "markdown",
   "metadata": {},
   "source": [
    "## 素数判定\n",
    "\n",
    "素数は $1$ 以外の約数を持たないことから、[約数列挙](multiple.ipynb#約数列挙)をベースに素数判定ができる。  \n",
    "計算量は約数列挙と同じく $\\mathcal{O}(\\sqrt{n})$。"
   ]
  },
  {
   "cell_type": "markdown",
   "metadata": {},
   "source": [
    "### 実装"
   ]
  },
  {
   "cell_type": "code",
   "execution_count": null,
   "metadata": {},
   "outputs": [],
   "source": [
    "def is_prime(n):\n",
    "    \"\"\"\n",
    "    nが素数であるかどうかを判定する\n",
    "    \"\"\"\n",
    "    i = 2\n",
    "    while i * i <= n:\n",
    "        if n % i == 0:\n",
    "            return False\n",
    "        i += 1\n",
    "    return True"
   ]
  },
  {
   "cell_type": "code",
   "execution_count": null,
   "metadata": {
    "tags": []
   },
   "outputs": [],
   "source": [
    "print(is_prime(2017))"
   ]
  },
  {
   "cell_type": "code",
   "execution_count": null,
   "metadata": {
    "tags": []
   },
   "outputs": [],
   "source": [
    "print(is_prime(2019))"
   ]
  },
  {
   "cell_type": "markdown",
   "metadata": {},
   "source": [
    "## 素数列挙\n",
    "\n",
    "[エラトステネスの篩](https://ja.wikipedia.org/wiki/%E3%82%A8%E3%83%A9%E3%83%88%E3%82%B9%E3%83%86%E3%83%8D%E3%82%B9%E3%81%AE%E7%AF%A9) (Wikipedia)\n",
    "\n",
    "$n$ 以下の素数を列挙する。  \n",
    "最も単純な方法としては素数判定(約数列挙)を $n$ 回試せばよい。  \n",
    "エラトステネスの篩と呼ばれる手法では、約数列挙より[倍数列挙](multiple.ipynb#倍数列挙)のほうが高速であることを利用し、もう少し効率的に列挙する。\n",
    "\n",
    "### アルゴリズム\n",
    "\n",
    "$n$以下の正の整数について「$1$の倍数」「$2$の倍数」$\\cdots$ 「$n$の倍数」の順で計 $n$ 回走査する。いずれの倍数でもないものが素数である。  \n",
    "ここで、小さい順に倍数判定を行うようにすると、$4$ などの合成数は走査の前に取り除かれる。  \n",
    "結局のところ走査は $n$ 回より少なく、素数に対してのみ走査を行うことになる。"
   ]
  },
  {
   "cell_type": "markdown",
   "metadata": {},
   "source": [
    "### 計算量\n",
    "\n",
    "エラトステネスの篩など、素数の出現数を考慮する計算量の見積もりは簡単ではない。ここでは大雑把な見積もりを扱う。\n",
    "\n",
    "$n$ 以下のすべての整数に対して「$1$の倍数」「$2$の倍数」$\\cdots$「$n$の倍数」を走査することを考える。  \n",
    "走査における計算量は $n$ 以下の倍数の個数の和となり、その値は\n",
    "\n",
    "$$\n",
    "H_n = \\sum^n_{k=1} \\frac{n}{k} = \\frac{n}{1} + \\frac{n}{2} + \\cdots + \\frac{n}{n}\n",
    "$$\n",
    "\n",
    "となる。$H_n$ は[調和数](<https://ja.wikipedia.org/wiki/%E8%AA%BF%E5%92%8C%E6%95%B0_(%E7%99%BA%E6%95%A3%E5%88%97)>)と呼ばれ、$H_n \\sim \\ln{n}$ と近似できる。  \n",
    "つまり、倍数の走査は計算量 $n\\mathcal{O}(n\\log{n})$ で行うことができる。\n",
    "\n",
    "素数倍数の走査だけを行うエラトステネスの篩については、これより小さな計算量となることが期待できる。  \n",
    "実際のところ、計算量 $\\mathcal{O}(n\\log{\\log{n}})$ であることが知られている。"
   ]
  },
  {
   "cell_type": "markdown",
   "metadata": {},
   "source": [
    "### 実装"
   ]
  },
  {
   "cell_type": "code",
   "execution_count": null,
   "metadata": {},
   "outputs": [],
   "source": [
    "def sieve(n):\n",
    "    \"\"\"\n",
    "    n以下の素数を昇順に列挙する\n",
    "    \"\"\"\n",
    "    is_prime = [True for i in range(n+1)]\n",
    "    primes = []\n",
    "    for i in range(2, n+1):\n",
    "        if is_prime[i]:\n",
    "            primes.append(i)\n",
    "            for j in range(i+i, n+1, i):\n",
    "                is_prime[j] = False\n",
    "    return primes"
   ]
  },
  {
   "cell_type": "code",
   "execution_count": null,
   "metadata": {
    "tags": []
   },
   "outputs": [],
   "source": [
    "print(sieve(37))"
   ]
  },
  {
   "cell_type": "markdown",
   "metadata": {},
   "source": [
    "## 素因数分解\n",
    "\n",
    "素因数分解は、整数 $n$ を素数の積で表したもの。  \n",
    "例えば $500$ の素因数分解は\n",
    "\n",
    "$$\n",
    "500 = 2^2 \\times 5^3\n",
    "$$\n",
    "\n",
    "と表される。右辺に現れる $2, 5$ (指数の底) を素因数という。 \n",
    "\n",
    "最も単純な方法は試し割り法による素数判定をベースにしたもので、素因数の個数を数え上げる処理が追加される。"
   ]
  },
  {
   "cell_type": "markdown",
   "metadata": {},
   "source": [
    "### 計算量\n",
    "\n",
    "試し割りベースの実装における計算量を考える。  \n",
    "計算量の見積もりにおいては [素因数の個数](https://ja.wikipedia.org/wiki/%E7%B4%A0%E5%9B%A0%E6%95%B0#%E7%B4%A0%E5%9B%A0%E6%95%B0%E3%81%AE%E5%80%8B%E6%95%B0) $\\Omega(n)$ を考える必要がある。  \n",
    "\n",
    "$$\n",
    "\\Omega(n) \\leq \\ln{n} / \\ln{2} = \\log_2{n}\n",
    "$$\n",
    "\n",
    "が成り立つという事実を利用すると、素因数 $p$ に対して数え上げ処理 (内側のwhileループに対応する) は高々 $\\log_2{p}$ 回実行されることがわかる。  \n",
    "よって計算量は $\\mathcal{O}(\\sqrt{n}\\log{n})$ 。"
   ]
  },
  {
   "cell_type": "markdown",
   "metadata": {},
   "source": [
    "### 実装"
   ]
  },
  {
   "cell_type": "code",
   "execution_count": null,
   "metadata": {},
   "outputs": [],
   "source": [
    "from collections import Counter\n",
    "\n",
    "\n",
    "def prime_factorization(n):\n",
    "    \"\"\"\n",
    "    nの素因数分解を求める\n",
    "    \"\"\"\n",
    "    c = Counter()\n",
    "    i = 2\n",
    "    while i * i <= n:\n",
    "        while n % i == 0:\n",
    "            n //= i\n",
    "            c[i] += 1\n",
    "        i += 1\n",
    "    if n > 1:\n",
    "        c[n] += 1\n",
    "    return c"
   ]
  },
  {
   "cell_type": "code",
   "execution_count": null,
   "metadata": {
    "tags": []
   },
   "outputs": [],
   "source": [
    "from operator import mul\n",
    "from functools import reduce\n",
    "\n",
    "factors = prime_factorization(500)\n",
    "print(factors)\n",
    "print(reduce(mul, [p**n for p, n in factors.items()]))\n",
    "factors = prime_factorization(10**9+7)\n",
    "print(factors)\n",
    "print(reduce(mul, [p**n for p, n in factors.items()]))"
   ]
  },
  {
   "cell_type": "markdown",
   "metadata": {},
   "source": [
    "### 素因数分解の高速化\n",
    "\n",
    "https://qiita.com/rsk0315_h4x/items/ff3b542a4468679fb409\n",
    "\n",
    "素因数分解したい数の上限が $n \\leq 10^6$ 程度に収まるならば、エラトステネスの篩を使って素因数分解の計算量を落とすことができる。  \n",
    "\n",
    "エラトステネスの篩において、「ある数が割り切れたかどうか (bool値)」 を記録する代わりに「ある数を割りきる素数のうち最小の数」を記録する。\n",
    "\n",
    "![sieve_int](images/sieve_int.svg)\n",
    "\n",
    "この篩を用いて素因数分解を行う。  \n",
    "数 $n$ の素因数分解は、篩の $n$ 番目に書かれた数で順次割ることにより求められる。  \n",
    "例えば $12$ の素因数分解は、次の図のように $12 \\rightarrow 6 \\rightarrow 3 \\rightarrow 1$ と割っていく。  \n",
    "割る数として使用した数が素因数であり、この場合は $\\{2, 2, 3\\}$ である。\n",
    "\n",
    "![sieve_int_trace](images/sieve_int_trace.svg)\n",
    "\n",
    "試し割法による素因数分解では 試し割りに $\\mathcal{O}(\\sqrt{n})$ 、素因数の数え上げに $\\mathcal{O}(\\log{n})$ かかるので、全体として $\\mathcal{O}(\\sqrt{n}\\log{n})$ の計算量となっていた。  \n",
    "エラトステネスの篩を使うと試し割りをせずに済むので、素因数分解のクエリは $\\mathcal{O}(\\log{n})$ で処理できるようになる。\n",
    "\n",
    "事前に篩の作成が必要なので、計算量は前処理 $\\mathcal{O}(n\\log{\\log{n}})$ 、クエリ $\\mathcal{O}(\\log{n})$ となる。"
   ]
  },
  {
   "cell_type": "code",
   "execution_count": null,
   "metadata": {},
   "outputs": [],
   "source": [
    "from collections import Counter\n",
    "\n",
    "\n",
    "def fast_prime_factorization_preprocess(n):\n",
    "    \"\"\"\n",
    "    素因数テーブルを作成する\n",
    "    \"\"\"\n",
    "    min_prime_factor = [i for i in range(n+1)]\n",
    "    for i in range(2, n+1):\n",
    "        if min_prime_factor[i] == i:\n",
    "            for j in range(i+i, n+1, i):\n",
    "                if min_prime_factor[j] == j:\n",
    "                    min_prime_factor[j] = i\n",
    "    return min_prime_factor\n",
    "\n",
    "def fast_prime_factorization(n, min_prime_factor):\n",
    "    \"\"\"\n",
    "    nの素因数分解を求める\n",
    "    \"\"\"\n",
    "    c = Counter()\n",
    "    while n > 1:\n",
    "        f = min_prime_factor[n]\n",
    "        c[f] += 1\n",
    "        n //= f\n",
    "    return c"
   ]
  },
  {
   "cell_type": "code",
   "execution_count": null,
   "metadata": {
    "tags": []
   },
   "outputs": [],
   "source": [
    "from operator import mul\n",
    "from functools import reduce\n",
    "\n",
    "pf = fast_prime_factorization_preprocess(10**6)\n",
    "factors = fast_prime_factorization(999982, pf)\n",
    "print(factors)\n",
    "print(reduce(mul, [p**n for p, n in factors.items()]))\n",
    "factors = fast_prime_factorization(999983, pf)\n",
    "print(factors)\n",
    "print(reduce(mul, [p**n for p, n in factors.items()]))"
   ]
  }
 ],
 "metadata": {
  "language_info": {
   "name": "python",
   "codemirror_mode": {
    "name": "ipython",
    "version": 3
   },
   "version": "3.8.1-final"
  },
  "orig_nbformat": 2,
  "file_extension": ".py",
  "mimetype": "text/x-python",
  "name": "python",
  "npconvert_exporter": "python",
  "pygments_lexer": "ipython3",
  "version": 3,
  "kernelspec": {
   "name": "python38164bitpy38envvenvdb5a67ba2d164185bbc60d730ae2e1eb",
   "display_name": "Python 3.8.1 64-bit ('py38env': venv)"
  }
 },
 "nbformat": 4,
 "nbformat_minor": 2
}