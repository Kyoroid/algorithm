{
 "cells": [
  {
   "cell_type": "markdown",
   "metadata": {},
   "source": [
    "# 二項係数・組み合わせ\n",
    "\n",
    "https://drken1215.hatenablog.com/entry/2018/06/08/210000"
   ]
  },
  {
   "cell_type": "markdown",
   "metadata": {},
   "source": [
    "## 二項係数・組み合わせ\n",
    "\n",
    "[二項係数](https://ja.wikipedia.org/wiki/%E4%BA%8C%E9%A0%85%E4%BF%82%E6%95%B0) (binomial coefficient) は、$(1+x)^n$ を展開した時に現れる係数のこと。  \n",
    "$_n\\mathrm{C}_k$ または $\\binom{n}{k}$ と表記する。  \n",
    "また、下記のような展開を二項定理と呼ぶ。\n",
    "\n",
    "$$\n",
    "\\begin{eqnarray}\n",
    "(1+x)^0 &=& 1 \\\\\n",
    "(1+x)^1 &=& 1 + x \\\\\n",
    "(1+x)^2 &=& 1 + 2x + x^2 \\\\\n",
    "(1+x)^3 &=& 1 + 3x + 3x^2 + x^3 \\\\\n",
    "&\\vdots& \\\\\n",
    "(1+x)^n &=& _n\\mathrm{C}_0x^0 + _n\\mathrm{C}_1x^1 + _n\\mathrm{C}_2x^2 + \\ldots + _n\\mathrm{C}_nx^n \\\\\n",
    "&=& \\sum^{n}_{k=0} \\binom{n}{k} x^k\n",
    "\\end{eqnarray}\n",
    "$$\n",
    "\n",
    "二項係数は組み合わせ (combinations) の数でもある。  \n",
    "二項係数は「 $n$ 個の中から $k$ 個を選ぶ組み合わせの総数(場合の数)」「 $n$ 個の要素を $k$ 個と $(n-k)$ 個に分割する方法の総数 」と言い換えることができる。\n",
    "\n",
    "$$\n",
    "\\begin{eqnarray}\n",
    "_n\\mathrm{C}_k = \\frac{_n\\mathrm{P}_k}{k!} = \\frac{n!}{k!(n-k)!}\n",
    "\\end{eqnarray}\n",
    "$$"
   ]
  },
  {
   "source": [
    "## 組み合わせの性質と計算\n",
    "\n",
    "https://mathtrain.jp/nikoukeisu\n",
    "\n",
    "### 対称性\n",
    "\n",
    "組み合わせは次のような対称性をもつ。\n",
    "\n",
    "$$\n",
    "\\begin{eqnarray}\n",
    "_n\\mathrm{C}_k = _n\\mathrm{C}_{n-k}\n",
    "\\end{eqnarray}\n",
    "$$\n",
    "\n",
    "対称性を用いることで、大きな $k$ に対して次節の乗法や加法を適用しやすくなる。\n",
    "\n",
    "### 乗法\n",
    "\n",
    "$_n\\mathrm{C}_k$ は次の漸化式が成り立つ。\n",
    "\n",
    "$$\n",
    "\\begin{eqnarray}\n",
    "_n\\mathrm{C}_k &=& \\frac{_n\\mathrm{P}_k}{k!} \\\\\n",
    "&=& \\frac{n}{k} \\times \\frac{_{n-1}\\mathrm{P}_{k-1}}{(k-1)!} \\\\\n",
    "&=& \\frac{n}{k} \\times _{n-1}\\mathrm{C}_{k-1}\n",
    "\\end{eqnarray}\n",
    "$$\n",
    "\n",
    "これは次式のように整理できる。  \n",
    "$_n\\mathrm{C}_k$ が必ず整数となることに着目しており、オーバーフローを可能な限り回避しつつ $\\mathcal{O}(k)$ で求めることができる。\n",
    "\n",
    "\n",
    "$$\n",
    "_n\\mathrm{C}_k = _{n-1}\\mathrm{C}_{k-1} \\times n \\div k\n",
    "$$"
   ],
   "cell_type": "markdown",
   "metadata": {}
  },
  {
   "cell_type": "code",
   "execution_count": 1,
   "metadata": {},
   "outputs": [],
   "source": [
    "def binom_mul(n, k):\n",
    "    if n < k or n < 0 or k < 0:\n",
    "        return 0\n",
    "    if k == 0:\n",
    "        return 1\n",
    "    return binom_mul(n-1, k-1) * n // k"
   ]
  },
  {
   "cell_type": "code",
   "execution_count": 2,
   "metadata": {},
   "outputs": [
    {
     "output_type": "stream",
     "name": "stdout",
     "text": [
      "387790074428411200\n"
     ]
    }
   ],
   "source": [
    "print(binom_mul(200, 11))"
   ]
  },
  {
   "source": [
    "### 加法\n",
    "\n",
    "加法を用いた以下の漸化式も成り立つ。  \n",
    "計算の際はキャッシュを効かせたり、動的計画法を用いて事前計算しておくなどするのが良い。\n",
    "\n",
    "$$\n",
    "\\begin{eqnarray}\n",
    "_n\\mathrm{C}_k = _{n-1}\\mathrm{C}_{k-1} + _{n-1}\\mathrm{C}_{k}\n",
    "\\end{eqnarray}\n",
    "$$"
   ],
   "cell_type": "markdown",
   "metadata": {}
  },
  {
   "cell_type": "code",
   "execution_count": 3,
   "metadata": {},
   "outputs": [],
   "source": [
    "from functools import lru_cache\n",
    "\n",
    "@lru_cache\n",
    "def binom_add(n, k):\n",
    "    if n < k or n < 0 or k < 0:\n",
    "        return 0\n",
    "    if k == 0:\n",
    "        return 1\n",
    "    return binom_add(n-1, k-1) + binom_add(n-1, k)"
   ]
  },
  {
   "cell_type": "code",
   "execution_count": 4,
   "metadata": {},
   "outputs": [
    {
     "output_type": "stream",
     "name": "stdout",
     "text": [
      "387790074428411200\n"
     ]
    }
   ],
   "source": [
    "print(binom_add(200, 11))"
   ]
  },
  {
   "source": [
    "加法が成り立つことは、二項係数を三角形状に並べた [パスカルの三角形](https://ja.wikipedia.org/wiki/%E3%83%91%E3%82%B9%E3%82%AB%E3%83%AB%E3%81%AE%E4%B8%89%E8%A7%92%E5%BD%A2) を用いるとわかりやすい。  \n",
    "$n-1$ 段目の隣接する2つの値を足した値が $n$ 段目の値となっている。\n",
    "\n",
    "![pascal.svg](images/pascal.svg)"
   ],
   "cell_type": "markdown",
   "metadata": {}
  },
  {
   "cell_type": "code",
   "execution_count": 5,
   "metadata": {},
   "outputs": [],
   "source": [
    "def binom(n, k):\n",
    "    if n < k or n < 0 or k < 0:\n",
    "        return 0\n",
    "    else:\n",
    "        return binom(n-1, k) * n // k"
   ]
  },
  {
   "source": [
    "### 階乗\n",
    "\n",
    "順列や階乗を直接計算する場合は、分母や分子の値が大きくなり、多倍長演算になりやすいことに注意する必要がある。\n",
    "\n",
    "$$\n",
    "\\begin{eqnarray}\n",
    "_n\\mathrm{C}_k = \\frac{_n\\mathrm{P}_k}{k!} = \\frac{n!}{k!(n-k)!}\n",
    "\\end{eqnarray}\n",
    "$$\n",
    "\n",
    "ただし、[二項係数の剰余を計算](mod_binom.ipynb) する場合は加法や乗法を使うより効率的で、 前処理 $\\mathcal{O}(n)$ 、クエリ $\\mathcal{O}(1)$ で求まる。"
   ],
   "cell_type": "markdown",
   "metadata": {}
  },
  {
   "cell_type": "markdown",
   "metadata": {},
   "source": [
    "## 重複組み合わせ\n",
    "\n",
    "「 $n$ 個の中から重複を許して $r$ 個を選ぶ組み合わせ」を重複組み合わせという。  \n",
    "\n",
    "例えば4つの数の集合 $\\{1, 2, 3, 4\\}$ について、重複を許して3個選ぶ組み合わせを考える。組み合わせには $1234$ や $1224$ などといった数列が含まれる。  \n",
    "これは、$3$ 個の $\\bigcirc$ と $(4-1)$ 本の仕切りを並べる方法と読み替えることができる。\n",
    "\n",
    "$$\n",
    "\\begin{array}{cccc}\n",
    "\\bigcirc & | & \\bigcirc & | & \\bigcirc & | & \\bigcirc \\\\\n",
    "\\\\\n",
    "| & \\bigcirc & \\bigcirc & \\bigcirc & | & | & \\bigcirc \\\\\n",
    "\\end{array}\n",
    "$$\n",
    "\n",
    "上記の並びは次の数列に対応する。\n",
    "\n",
    "$$\n",
    "\\begin{array}{cc}\n",
    "1 & 2 & 3 & 4 \\\\\n",
    "\\\\\n",
    "2 & 2 & 2 & 4 \\\\\n",
    "\\end{array}\n",
    "$$\n",
    "\n",
    "「 $n$ 個の中から重複を許して $r$ 個を選ぶ組み合わせ」は「$n$ 個の $\\bigcirc$ と $(r-1)$ 本の仕切りの並べ方」と言い換えることができ、場合の数は $_{n+r-1}\\mathrm{C}_r$ 通りとなる。"
   ]
  },
  {
   "cell_type": "markdown",
   "metadata": {},
   "source": [
    "## 全列挙"
   ]
  },
  {
   "cell_type": "markdown",
   "metadata": {},
   "source": [
    "### 組み合わせの全列挙\n",
    "\n",
    "組み合わせ $_n\\mathrm{C}_r$ の全状態を列挙する方法を示す。\n",
    "\n",
    "要素列 $A = a_1 a_2 \\ldots a_n$ を考える。  \n",
    "長さ $r$ の組み合わせを列挙するには、順序関係が $a_i \\prec a_{i+1}$ となるように要素を $r$ 個取り出して並べればよい。\n",
    "\n",
    "言い換えると、ある操作で取り出した要素が $a_i$ であるとき、次の操作では $(i+1)$ 番目以降の要素 $a_{i+1},  \\ldots, a_n$ のいずれかから選ぶことになる。"
   ]
  },
  {
   "cell_type": "code",
   "execution_count": 6,
   "metadata": {},
   "outputs": [],
   "source": [
    "def traverse_combinations(p, r):\n",
    "    \"\"\"組み合わせの列挙\"\"\"\n",
    "    a = list(p)\n",
    "    n = len(a)\n",
    "    combs = list()\n",
    "    state=[]\n",
    "\n",
    "    def dfs(depth, l=0):\n",
    "        if depth == r:\n",
    "            yield tuple(state)\n",
    "        else:\n",
    "            for i in range(l, n):\n",
    "                state.append(a[i])\n",
    "                yield from dfs(depth+1, i+1)\n",
    "                state.pop()\n",
    "    \n",
    "    yield from dfs(0)"
   ]
  },
  {
   "cell_type": "code",
   "execution_count": 7,
   "metadata": {
    "tags": []
   },
   "outputs": [
    {
     "output_type": "stream",
     "name": "stdout",
     "text": [
      "[(0, 1, 2), (0, 1, 3), (0, 2, 3), (1, 2, 3)]\n"
     ]
    }
   ],
   "source": [
    "print(list(traverse_combinations(range(4), 3)))"
   ]
  },
  {
   "cell_type": "markdown",
   "metadata": {},
   "source": [
    "[itertools.combinations](https://docs.python.org/ja/3/library/itertools.html#itertools.combinations) を利用することもでき、こちらのほうが高速。"
   ]
  },
  {
   "cell_type": "code",
   "execution_count": 8,
   "metadata": {
    "tags": []
   },
   "outputs": [
    {
     "output_type": "stream",
     "name": "stdout",
     "text": [
      "[(0, 1, 2), (0, 1, 3), (0, 2, 3), (1, 2, 3)]\n"
     ]
    }
   ],
   "source": [
    "from itertools import combinations\n",
    "print(list(combinations(range(4), 3)))"
   ]
  },
  {
   "cell_type": "markdown",
   "metadata": {},
   "source": [
    "### 重複組み合わせの全列挙\n",
    "\n",
    "重複組み合わせ $_{n+r-1}\\mathrm{C}_r$ の全状態を列挙する方法を示す。\n",
    "\n",
    "組み合わせをベースに、順序関係が $a_i \\preceq a_{i+1}$ となるように並べればよい。"
   ]
  },
  {
   "cell_type": "code",
   "execution_count": 9,
   "metadata": {},
   "outputs": [],
   "source": [
    "def traverse_combinations_with_replacement(p, r):\n",
    "    \"\"\"重複組み合わせの列挙\"\"\"\n",
    "    a = list(p)\n",
    "    n = len(a)\n",
    "    combs = list()\n",
    "    state=[]\n",
    "\n",
    "    def dfs(depth, l=0):\n",
    "        if depth == r:\n",
    "            yield tuple(state)\n",
    "        else:\n",
    "            for i in range(l, n):\n",
    "                state.append(a[i])\n",
    "                yield from dfs(depth+1, i)\n",
    "                state.pop()\n",
    "    \n",
    "    yield from dfs(0)"
   ]
  },
  {
   "cell_type": "code",
   "execution_count": 10,
   "metadata": {
    "tags": []
   },
   "outputs": [
    {
     "output_type": "stream",
     "name": "stdout",
     "text": [
      "[(0, 0), (0, 1), (0, 2), (1, 1), (1, 2), (2, 2)]\n"
     ]
    }
   ],
   "source": [
    "print(list(traverse_combinations_with_replacement(range(3), 2)))"
   ]
  },
  {
   "cell_type": "markdown",
   "metadata": {},
   "source": [
    "こちらも [itertools.combinations_with_replacement](https://docs.python.org/ja/3/library/itertools.html#itertools.combinations_with_replacement) のほうが高速。"
   ]
  },
  {
   "cell_type": "code",
   "execution_count": 11,
   "metadata": {
    "tags": []
   },
   "outputs": [
    {
     "output_type": "stream",
     "name": "stdout",
     "text": [
      "[(0, 0), (0, 1), (0, 2), (1, 1), (1, 2), (2, 2)]\n"
     ]
    }
   ],
   "source": [
    "from itertools import combinations_with_replacement\n",
    "print(list(combinations_with_replacement(range(3), 2)))"
   ]
  },
  {
   "cell_type": "markdown",
   "metadata": {},
   "source": [
    "## 二項係数の和\n",
    "\n",
    "### $n$ を固定したときの和\n",
    "\n",
    "二項定理を利用する。\n",
    "\n",
    "$$\n",
    "\\sum^{n}_{k=0} \\binom{n}{k} x^k = (1+x)^n\n",
    "$$\n",
    "\n",
    "に対して $x=1$ を代入すると\n",
    "\n",
    "$$\n",
    "\\begin{eqnarray}\n",
    "\\sum^{n}_{k=0} \\binom{n}{k} 1^k &=& (1+1)^n \\\\\n",
    "\\sum^{n}_{k=0} \\binom{n}{k} &=& 2^n \\\\\n",
    "\\end{eqnarray}\n",
    "$$\n",
    "\n",
    "となる。  \n",
    "つまり、パスカルの三角形の $n$ 段目の値をすべて足すと $2^n$ となる。\n",
    "\n",
    "### $k$ を固定した時の和\n",
    "\n",
    "二項係数に関して $k=1$ または $k=2$ としたときの和は、和の公式や[三角数](https://ja.wikipedia.org/wiki/%E4%B8%89%E8%A7%92%E6%95%B0)と呼ばれる。  \n",
    "$\\gcd(n, m)=1$となる法 $m$ に関して計算量 $\\mathcal{O}(\\log{m})$ で和が求まる。\n",
    "\n",
    "$$\n",
    "\\begin{eqnarray}\n",
    "1 + 2 + 3 + 4 + \\ldots + \\binom{n}{1} &=& \\frac{n(n+1)}{2} \\\\\n",
    "1 + 3 + 6 + 10 + \\ldots + \\binom{n}{2} &=& \\frac{n(n+1)(n+2)}{6} \\\\\n",
    "\\end{eqnarray}\n",
    "$$\n",
    "\n",
    "任意の $k$ に対しては、[二項係数を計算](#二項係数の計算)してその和をとればよい。この場合は計算量が少し落ち、 $\\mathcal{O}(n\\log{m})$ となる。\n",
    "\n",
    "パスカルの三角形においては、右上から左下に向けて値を足していくことに相当する。"
   ]
  }
 ],
 "metadata": {
  "language_info": {
   "name": "python",
   "codemirror_mode": {
    "name": "ipython",
    "version": 3
   },
   "version": "3.8.1-final"
  },
  "orig_nbformat": 2,
  "file_extension": ".py",
  "mimetype": "text/x-python",
  "name": "python",
  "npconvert_exporter": "python",
  "pygments_lexer": "ipython3",
  "version": 3,
  "kernelspec": {
   "name": "python3",
   "display_name": "Python 3.8.1 64-bit ('py38env')",
   "metadata": {
    "interpreter": {
     "hash": "fa0e30685626637fcda81ebca9982750cef985a3d7ed2872bf400038cee5904e"
    }
   }
  }
 },
 "nbformat": 4,
 "nbformat_minor": 2
}