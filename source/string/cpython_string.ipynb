{
 "cells": [
  {
   "cell_type": "markdown",
   "metadata": {},
   "source": [
    "# Pythonにおける文字列検索の実装"
   ]
  },
  {
   "cell_type": "markdown",
   "metadata": {},
   "source": [
    "## 検索用メソッドの実装\n",
    "\n",
    "[The stringlib Library](http://effbot.org/zone/stringlib.htm)\n",
    "\n",
    "CPythonでは文字列操作のうち`__contains__`や`find`の実装に、Boyer-Moore法をベースとしたアルゴリズム (BMHBNFS) を使用している。  \n",
    "実装は[fastsearch.h](https://github.com/python/cpython/blob/v3.8.3/Objects/stringlib/fastsearch.h)を参照。  \n",
    "これにより、文字列検索を平均計算量 $\\mathcal{O}(n/m)$、最悪計算量 $\\mathcal{O}(nm)$ で行うことが可能となっている。"
   ]
  },
  {
   "cell_type": "code",
   "execution_count": null,
   "metadata": {},
   "outputs": [],
   "source": [
    "has_string = \"ssi\" in \"mississippi\"\n",
    "print(has_string)"
   ]
  },
  {
   "cell_type": "markdown",
   "metadata": {},
   "source": [
    "## 辞書の実装と文字列検索\n",
    "\n",
    "[Python の dict の実装詳解](http://dsas.blog.klab.org/archives/python-dict-internal.html)  \n",
    "[pythonの辞書型の実装 - stackoverflow](https://ja.stackoverflow.com/questions/7703/python%E3%81%AE%E8%BE%9E%E6%9B%B8%E5%9E%8B%E3%81%AE%E5%AE%9F%E8%A3%85)\n",
    "\n",
    "CPythonにおいては、辞書はハッシュテーブルとして実装されている。  \n",
    "辞書のキーには文字列を使うことを前提として高速化が図られており、文字列用のハッシュが[pyhash.c](https://github.com/python/cpython/blob/v3.8.3/Python/pyhash.c#L145-L191)で実装されている。\n",
    "\n",
    "例えば同一部分文字列の出現判定を`dict`で実装する際に、ローリングハッシュの代わりに文字列そのものをキーに指定することで、同程度の検索性能を得ることができる場合がある。"
   ]
  },
  {
   "cell_type": "code",
   "execution_count": null,
   "metadata": {},
   "outputs": [],
   "source": [
    "from pprint import pprint\n",
    "from collections import defaultdict\n",
    "\n",
    "S = \"mississippi\"\n",
    "N = len(S)\n",
    "# 長さ3の文字列を検索\n",
    "size = 3\n",
    "\n",
    "d = defaultdict(list)\n",
    "for i in range(N-size+1):\n",
    "    d[S[i:i+size]].append(i)\n",
    "pprint(d)"
   ]
  }
 ],
 "metadata": {
  "language_info": {
   "codemirror_mode": {
    "name": "ipython",
    "version": 3
   },
   "file_extension": ".py",
   "mimetype": "text/x-python",
   "name": "python",
   "nbconvert_exporter": "python",
   "pygments_lexer": "ipython3",
   "version": "3.8.1-final"
  },
  "orig_nbformat": 2,
  "kernelspec": {
   "name": "python38164bitpy38envvenvdb5a67ba2d164185bbc60d730ae2e1eb",
   "display_name": "Python 3.8.1 64-bit ('py38env': venv)"
  }
 },
 "nbformat": 4,
 "nbformat_minor": 2
}