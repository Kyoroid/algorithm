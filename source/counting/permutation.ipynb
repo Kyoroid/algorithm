{
 "cells": [
  {
   "cell_type": "markdown",
   "metadata": {},
   "source": [
    "# 順列"
   ]
  },
  {
   "cell_type": "markdown",
   "metadata": {},
   "source": [
    "[Wikipedia](https://ja.wikipedia.org/wiki/%E9%A0%86%E5%88%97)  \n",
    "集合からいくつかの要素を順番に取り出すとき、取り出す順序を順列 (Permutation) という。  \n",
    "一方、順番を無視して並べたものは[組み合わせ](binom.ipynb)という。"
   ]
  },
  {
   "cell_type": "markdown",
   "metadata": {},
   "source": [
    "## 順列の数え上げ\n",
    "\n",
    "$n$ 個の集合から $k$ 個の要素を順番に取り出すときの順列の総数は、記号 $_n \\mathrm{P} _k$ または $P(n, k)$ で表される。\n",
    "\n",
    "順列 (取り出し方) の総数を考える。 $n$ 個から1つ、残った$(n-1)$ 個から1つ、... と要素の取り出しを繰り返す。取り出し操作を合計 $k$ 回行うとき、順列の総数は次のように表される。\n",
    "\n",
    "$$\n",
    "_n \\mathrm{P} _k = \\frac{n!}{(n-k)!}\n",
    "$$"
   ]
  },
  {
   "cell_type": "markdown",
   "metadata": {},
   "source": [
    "## 順列の列挙"
   ]
  },
  {
   "cell_type": "markdown",
   "metadata": {},
   "source": [
    "順列を列挙する場合は、[itertools.permutations](https://docs.python.org/ja/3/library/itertools.html#itertools.permutations)が使える。"
   ]
  },
  {
   "cell_type": "code",
   "execution_count": 1,
   "metadata": {
    "tags": []
   },
   "outputs": [
    {
     "output_type": "stream",
     "name": "stdout",
     "text": "(1, 2, 3)\n(1, 3, 2)\n(2, 1, 3)\n(2, 3, 1)\n(3, 1, 2)\n(3, 2, 1)\n"
    }
   ],
   "source": [
    "import itertools\n",
    "\n",
    "S = [1, 2, 3]\n",
    "for a in itertools.permutations(S):\n",
    "    print(a)"
   ]
  },
  {
   "cell_type": "markdown",
   "metadata": {},
   "source": [
    "## 次の順列の生成\n",
    "\n",
    "ある順列が与えられたとき、辞書順に次の順列を生成することもできる。"
   ]
  },
  {
   "cell_type": "markdown",
   "metadata": {},
   "source": [
    "### アルゴリズム\n",
    "\n",
    "[next_permutation](https://cpprefjp.github.io/reference/algorithm/next_permutation.html) (C++日本語リファレンス)  \n",
    "https://qiita.com/Nikkely/items/0ddca51b3c0e60afbaab\n",
    "\n",
    "1. 与えられた順列 $S$ について、「辞書順最大を満たすsuffix」のうち最長のものを求める。このsuffixを $S_{i+1 \\ldots}$ とする。  \n",
    "![permutation_1](images/permutation_1.svg)  \n",
    "\n",
    "2. suffixの1文字左にある文字 $S_{i}$ を含めたsuffixに着目する。  \n",
    "![permutation_2](images/permutation_2.svg)  \n",
    "$S_{i}$ の右側は辞書順最大であるから、「次の順列」を作るには先頭の文字 $S_{i}$ をそれより大きい文字に入れ替えて、 $S_{i+1 \\ldots}$ を辞書順最小となるように並べればよい。  \n",
    "なお、順列 $S$ そのものが辞書順最大のときは「次の順列」がないので、ここで処理を打ち切る。\n",
    "\n",
    "3. $i<j$ かつ $S_{i} < S_{j}$ を満たす $j$ のうち、辞書順最小の $S_{j}$ を選び、$S_{i}$ と$S_{j}$ を交換する。  \n",
    "![permutation_3](images/permutation_3.svg) \n",
    "\n",
    "4. suffix $S_{i \\ldots}$ の順序を、辞書順最小となるよう入れ替える。  \n",
    "実は交換前後でsuffixに含まれる文字の順序関係が変わらないので、suffixを辞書順最小にするにはsuffix全体を逆順にするだけでよい。  \n",
    "![permutation_4](images/permutation_4.svg)  \n",
    "反転後の順列が「$S$ の次の順列」となる。  \n",
    "![permutation_5](images/permutation_5.svg)"
   ]
  },
  {
   "cell_type": "markdown",
   "metadata": {},
   "source": [
    "### 実装"
   ]
  },
  {
   "cell_type": "code",
   "execution_count": 2,
   "metadata": {},
   "outputs": [],
   "source": [
    "def next_permutation(a):\n",
    "    \"\"\"順列aを、辞書順で次の順列に書き換える\n",
    "    \"\"\"\n",
    "    i = len(a) - 2\n",
    "    while True:\n",
    "        if i < 0:\n",
    "            return False\n",
    "        if a[i] < a[i+1]:\n",
    "            break\n",
    "        i -= 1\n",
    "    if i == -1:\n",
    "        return False\n",
    "    for j in range(len(a)-1, -1, -1):\n",
    "        if a[i] < a[j]:\n",
    "            break\n",
    "    a[i], a[j] = a[j], a[i]\n",
    "    i += 1\n",
    "    j = len(a) - 1\n",
    "    while i < j:\n",
    "        a[i], a[j] = a[j], a[i]\n",
    "        i += 1\n",
    "        j -= 1\n",
    "    return True"
   ]
  },
  {
   "cell_type": "code",
   "execution_count": 3,
   "metadata": {
    "tags": []
   },
   "outputs": [
    {
     "output_type": "stream",
     "name": "stdout",
     "text": "[1, 2, 3]\n[1, 3, 2]\n[2, 1, 3]\n[2, 3, 1]\n[3, 1, 2]\n[3, 2, 1]\n"
    }
   ],
   "source": [
    "S = [1, 2, 3]\n",
    "print(S)\n",
    "while next_permutation(S):\n",
    "    print(S)"
   ]
  }
 ],
 "metadata": {
  "language_info": {
   "codemirror_mode": {
    "name": "ipython",
    "version": 3
   },
   "file_extension": ".py",
   "mimetype": "text/x-python",
   "name": "python",
   "nbconvert_exporter": "python",
   "pygments_lexer": "ipython3",
   "version": "3.8.1-final"
  },
  "orig_nbformat": 2,
  "kernelspec": {
   "name": "python38164bitpy38envvenvdb5a67ba2d164185bbc60d730ae2e1eb",
   "display_name": "Python 3.8.1 64-bit ('py38env': venv)"
  }
 },
 "nbformat": 4,
 "nbformat_minor": 2
}