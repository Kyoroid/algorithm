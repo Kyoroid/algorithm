{
 "metadata": {
  "language_info": {
   "codemirror_mode": {
    "name": "ipython",
    "version": 3
   },
   "file_extension": ".py",
   "mimetype": "text/x-python",
   "name": "python",
   "nbconvert_exporter": "python",
   "pygments_lexer": "ipython3",
   "version": 3
  },
  "orig_nbformat": 2
 },
 "nbformat": 4,
 "nbformat_minor": 2,
 "cells": [
  {
   "source": [
    "# 重複組み合わせ\n",
    "\n",
    "Code: [combination.py](https://github.com/Kyoroid/algorithm/blob/master/lib/combinatorics/combination.py)  \n",
    "Test: [test_combination.py](https://github.com/Kyoroid/algorithm/blob/master/lib/combinatorics/test_combination.py)"
   ],
   "cell_type": "markdown",
   "metadata": {}
  },
  {
   "source": [
    "## 重複組み合わせとは\n",
    "\n",
    "[Number of combinations with repetition](https://en.wikipedia.org/wiki/Combination#Number_of_combinations_with_repetition) (Wikipedia)\n",
    "\n",
    "重複を許してものを取り出すときの、取り出し方のことをいう。"
   ],
   "cell_type": "markdown",
   "metadata": {}
  },
  {
   "source": [
    "## 重複組み合わせの場合の数\n",
    "\n",
    "$n$ 個から重複を許して $k$ 個を取り出すとき、重複組み合わせの場合の数は\n",
    "\n",
    "$$\n",
    "C(n+k-1, k) = \\frac{(n+k-1)!}{k!(n-1)!}\n",
    "$$\n",
    "\n",
    "となる。  \n",
    "左辺は重複組み合わせが「 $n+k-1$ 個から $k$ 個を取り出す場合の数」 であることを示している。  \n",
    "これは次の図のように、$k$ 個の要素と $n-1$ 個の仕切りを使って説明できる。\n",
    "\n",
    "![comb_with_repl](images/comb_with_repl.svg)"
   ],
   "cell_type": "markdown",
   "metadata": {}
  },
  {
   "source": [
    "## 実装\n",
    "\n",
    "### 概要\n",
    "\n",
    "素数の法 $p$ のもとで、重複組み合わせの場合の数を求める。\n",
    "\n",
    "### 実装のポイント\n",
    "\n",
    "階乗を予め計算しておくことで、クエリ計算量 $\\mathcal{O}(1)$ で計算できる。  \n",
    "\n",
    "### 計算量\n",
    "\n",
    "- 前処理\n",
    "    - `list_mod_facts(n+k, p)` $\\mathcal{O}(n+k)$\n",
    "    - `list_mod_inv_facts(n+k, p)` $\\mathcal{O}(n + k + \\log{(n+k)})$\n",
    "- クエリ\n",
    "    - `mod_comb_with_repl(n, k, p)` $\\mathcal{O}(1)$"
   ],
   "cell_type": "markdown",
   "metadata": {}
  },
  {
   "source": [
    "## コード"
   ],
   "cell_type": "markdown",
   "metadata": {}
  },
  {
   "cell_type": "code",
   "execution_count": null,
   "metadata": {},
   "outputs": [],
   "source": [
    "from __future__ import annotations\n",
    "\n",
    "\n",
    "def list_mod_facts(n: int, p: int) -> list[int]:\n",
    "    f = [1 for i in range(n+1)]\n",
    "    for i in range(2, n+1):\n",
    "        f[i] = f[i-1] * i % p\n",
    "    return f\n",
    "\n",
    "\n",
    "def list_mod_inv_facts(n: int, p: int) -> list[int]:\n",
    "    invf = [1 for i in range(n+1)]\n",
    "    fn = 1\n",
    "    for i in range(2, n+1):\n",
    "        fn = fn * i % p\n",
    "    invf[n] = pow(fn, p-2, p)\n",
    "    for i in range(n, 2, -1):\n",
    "        invf[i-1] = invf[i] * i % p\n",
    "    return invf\n",
    "\n",
    "\n",
    "def mod_comb_with_repl(n: int, k: int, p: int, f: list[int], invf: list[int]) -> int:\n",
    "    c = f[n+k-1]\n",
    "    c = c * invf[k] % p\n",
    "    c = c * invf[n-1] % p\n",
    "    return c"
   ]
  },
  {
   "source": [
    "## 使用例\n",
    "\n",
    "階乗は少なくとも $(n+k-1)!$ まで準備しておく必要があることに注意。"
   ],
   "cell_type": "markdown",
   "metadata": {}
  },
  {
   "cell_type": "code",
   "execution_count": null,
   "metadata": {},
   "outputs": [],
   "source": [
    "f = list_mod_facts(200000, 1000000007)\n",
    "invf = list_mod_inv_facts(100000, 1000000007)\n",
    "c = mod_comb_with_repl(10, 3, 1000000007, f, invf)\n",
    "print(c)"
   ]
  }
 ]
}