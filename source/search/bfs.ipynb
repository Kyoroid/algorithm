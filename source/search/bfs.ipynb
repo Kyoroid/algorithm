{
 "cells": [
  {
   "cell_type": "markdown",
   "metadata": {},
   "source": [
    "# 幅優先探索 (BFS)\n",
    "\n",
    "グラフの探索手法の1つ。グラフ上のあるノードから開始し、開始ノードに近いノードから順に訪れる。"
   ]
  },
  {
   "cell_type": "markdown",
   "metadata": {},
   "source": [
    "説明のため、次のグラフを用いる。"
   ]
  },
  {
   "cell_type": "code",
   "execution_count": null,
   "metadata": {},
   "outputs": [],
   "source": [
    "import numpy\n",
    "import networkx as nx\n",
    "from networkx.generators.small import *\n",
    "import matplotlib.pyplot as plt\n",
    "\n",
    "G = bull_graph()\n",
    "N = len(G)\n",
    "numpy.random.seed(3)\n",
    "pos = nx.spring_layout(G)\n",
    "\n",
    "nx.draw_networkx(G, pos, with_labels=True, node_color='w')\n",
    "ax = plt.title(\"Node ID\")"
   ]
  },
  {
   "cell_type": "markdown",
   "metadata": {},
   "source": [
    "## 単一始点最短経路\n",
    "\n",
    "辺の重みがないグラフにおいては、あるノードからその他のノードへの最短距離がBFSで求まる。"
   ]
  },
  {
   "cell_type": "code",
   "execution_count": null,
   "metadata": {},
   "outputs": [],
   "source": [
    "from collections import deque\n",
    "\n",
    "def bfs(N, G, start=0):\n",
    "    q = deque()\n",
    "    depth = [-1 for i in range(N)]\n",
    "    prev = [-1 for i in range(N)]\n",
    "\n",
    "    u = start\n",
    "    depth[u] = 0\n",
    "    q.append(u)\n",
    "\n",
    "    while q:\n",
    "        u = q.popleft()\n",
    "        for v in G[u]:\n",
    "            if depth[v] == -1:\n",
    "                depth[v] = depth[u] + 1\n",
    "                prev[v] = u\n",
    "                q.append(v)\n",
    "    return depth, prev"
   ]
  },
  {
   "cell_type": "code",
   "execution_count": null,
   "metadata": {},
   "outputs": [],
   "source": [
    "start = 0\n",
    "depth, prev = bfs(N, G, start)\n",
    "\n",
    "pos = nx.spring_layout(G)\n",
    "labels = dict(zip(range(N), depth))\n",
    "\n",
    "nx.draw_networkx(G, pos, with_labels=True, labels=labels, node_color='w')\n",
    "ax = plt.title(\"Distance from node %d\" % start)"
   ]
  },
  {
   "cell_type": "markdown",
   "metadata": {},
   "source": [
    "最短経路を出力するには、直前に訪れたノードの配列 `prev` を逆に辿ればよい。"
   ]
  },
  {
   "cell_type": "code",
   "execution_count": null,
   "metadata": {},
   "outputs": [],
   "source": [
    "def make_route(x, prev):\n",
    "    route = [x]\n",
    "    while prev[x] != -1:\n",
    "        x = prev[x]\n",
    "        route.append(x)\n",
    "    return route"
   ]
  },
  {
   "cell_type": "code",
   "execution_count": null,
   "metadata": {},
   "outputs": [],
   "source": [
    "goal = 3\n",
    "route = make_route(goal, prev)\n",
    "print(route)"
   ]
  },
  {
   "cell_type": "code",
   "execution_count": null,
   "metadata": {},
   "outputs": [],
   "source": [
    "edgelist = list(zip(route[:-1], route[1:]))\n",
    "nx.draw_networkx(G, pos, with_labels=True, labels=labels, node_color=\"w\")\n",
    "nx.draw_networkx_edges(G, pos, edgelist=edgelist, edge_color=\"r\")\n",
    "ax = plt.title(\"Route from node %d to %d\" % (start, goal))"
   ]
  }
 ],
 "metadata": {
  "language_info": {
   "codemirror_mode": {
    "name": "ipython",
    "version": 3
   },
   "file_extension": ".py",
   "mimetype": "text/x-python",
   "name": "python",
   "nbconvert_exporter": "python",
   "pygments_lexer": "ipython3",
   "version": "3.8.1-final"
  },
  "orig_nbformat": 2,
  "kernelspec": {
   "name": "python38164bitpy38envvenvdb5a67ba2d164185bbc60d730ae2e1eb",
   "display_name": "Python 3.8.1 64-bit ('py38env': venv)"
  }
 },
 "nbformat": 4,
 "nbformat_minor": 2
}