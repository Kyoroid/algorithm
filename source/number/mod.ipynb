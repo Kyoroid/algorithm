{
 "cells": [
  {
   "cell_type": "markdown",
   "metadata": {},
   "source": [
    "# 合同"
   ]
  },
  {
   "cell_type": "markdown",
   "metadata": {},
   "source": [
    "## 合同\n",
    "\n",
    "[Wikipedia](https://ja.wikibooks.org/wiki/%E5%88%9D%E7%AD%89%E6%95%B4%E6%95%B0%E8%AB%96/%E5%90%88%E5%90%8C%E5%BC%8F#%E5%AE%9A%E7%BE%A9)\n",
    "\n",
    "### 定義\n",
    "\n",
    "整数 $a, b, m$ に関して\n",
    "$$\n",
    "a-b \\in \\{km \\mid k=0, \\pm 1, \\pm 2, \\pm 3, \\ldots\\}\n",
    "$$\n",
    "が成り立つとき、「整数 $a, b$ が法 $m$ に関して合同である」という。\n",
    "\n",
    "### 表記\n",
    "\n",
    "「整数 $a, b$ が法 $m$ に関して合同である」ことを、次のように表記する。\n",
    "$$\n",
    "\\begin{eqnarray}\n",
    "a &\\equiv& b \\pmod{m} \\\\\n",
    "a &\\equiv& b\n",
    "\\end{eqnarray}\n",
    "$$\n",
    "などと書く。\n",
    "\n",
    "### 加算・乗算・減算・べき乗\n",
    "\n",
    "$n$を整数とする。$a_1 \\equiv b_1 , a_2 \\equiv b_2$のとき、加法・乗法が定義される。\n",
    "$$\n",
    "\\begin{eqnarray}\n",
    "a_1 + a_2 &\\equiv& b_1 + b_2 \\\\\n",
    "a_1 a_2 &\\equiv& b_1 b_2 \\\\\n",
    "\\end{eqnarray}\n",
    "$$\n",
    "\n",
    "加減算、乗算、べき乗は次のようになる。\n",
    "\n",
    "$$\n",
    "\\begin{eqnarray}\n",
    "a \\pm x &\\equiv& b \\pm x && \\\\\n",
    "ax &\\equiv& bx && \\\\\n",
    "a^x &\\equiv& b^x && (x>0) \\\\\n",
    "\\end{eqnarray}\n",
    "$$\n",
    "\n",
    "### 逆数と除算\n",
    "\n",
    "合同式では$\\gcd(a, m) = 1$ (整数$a$と法$m$が互いに素) のときに限り、逆数 $a^{-1}$が次のように定義される。\n",
    "\n",
    "$$\n",
    "a a^{-1} \\equiv 1 \\pmod{m}\n",
    "$$\n",
    "\n",
    "除算は$\\gcd(x, m) = 1$となる$x$に対して定義される。\n",
    "$$\n",
    "\\begin{eqnarray}\n",
    "a \\div x &\\equiv& b \\div x \\\\\n",
    "a x^{-1} &\\equiv& b x^{-1} \\\\\n",
    "\\end{eqnarray}\n",
    "$$\n"
   ]
  },
  {
   "cell_type": "markdown",
   "metadata": {},
   "source": [
    "## 素数を法とする合同式"
   ]
  },
  {
   "cell_type": "markdown",
   "metadata": {},
   "source": [
    "### 除算\n",
    "\n",
    "\n",
    "\n",
    "素数$p$をおく。[フェルマーの小定理](https://ja.wikipedia.org/wiki/%E3%83%95%E3%82%A7%E3%83%AB%E3%83%9E%E3%83%BC%E3%81%AE%E5%B0%8F%E5%AE%9A%E7%90%86)\n",
    "\n",
    "$$\n",
    "a^{p-1} \\equiv 1 \\pmod{p}\n",
    "$$\n",
    "\n",
    "より、逆数に関する次の合同式が成り立つ。つまり、法$p$に関して常に除算できる。\n",
    "\n",
    "$$\n",
    "\\begin{eqnarray}\n",
    "a^{-1} \\equiv a^{p-2} \\pmod{p}\n",
    "\\end{eqnarray}\n",
    "$$"
   ]
  },
  {
   "cell_type": "markdown",
   "metadata": {},
   "source": [
    "### ModIntの実装\n",
    "\n",
    "[operator overload](https://tell-k.github.io/pyconjp2016/#49)\n",
    "\n",
    "素数の法$p$における整数を`ModInt`として定義する。  \n",
    "`int`はイミュータブルオブジェクトなので、`__init__`では初期化できないことに注意。"
   ]
  },
  {
   "cell_type": "code",
   "execution_count": null,
   "metadata": {},
   "outputs": [],
   "source": [
    "class ModInt(int):\n",
    "    \n",
    "    MOD = 10**9+7\n",
    "\n",
    "    def __new__(cls, x, *args, **kwargs):\n",
    "        return super().__new__(cls, x % ModInt.MOD)\n",
    "\n",
    "    def __add__(self, other):\n",
    "        return ModInt(super().__add__(other) % ModInt.MOD)\n",
    "    \n",
    "    def __radd__(self, other):\n",
    "        return ModInt(super().__radd__(other) % ModInt.MOD)\n",
    "    \n",
    "    def __mul__(self, other):\n",
    "        return ModInt(super().__mul__(other) % ModInt.MOD)\n",
    "    \n",
    "    def __rmul__(self, other):\n",
    "        return ModInt(super().__rmul__(other) % ModInt.MOD)\n",
    "    \n",
    "    def __pow__(self, other, *args):\n",
    "        return ModInt(super().__pow__(other, ModInt.MOD))\n",
    "\n",
    "    def __rpow__(self, other, *args):\n",
    "        raise NotImplementedError()\n",
    "    \n",
    "    def __truediv__(self, other):\n",
    "        return ModInt(super().__mul__(pow(other, ModInt.MOD-2, ModInt.MOD)))\n",
    "    \n",
    "    def __floordiv__(self, other):\n",
    "        return self.__truediv__(other)\n",
    "    \n",
    "    def __rtruediv__(self, other):\n",
    "        return ModInt(self.__pow__(ModInt.MOD-2).__mul__(other))\n",
    "    \n",
    "    def __rfloordiv__(self, other):\n",
    "        return self.__rtruediv__(other)"
   ]
  }
 ],
 "metadata": {
  "language_info": {
   "name": "python",
   "codemirror_mode": {
    "name": "ipython",
    "version": 3
   },
   "version": "3.8.1-final"
  },
  "orig_nbformat": 2,
  "file_extension": ".py",
  "mimetype": "text/x-python",
  "name": "python",
  "npconvert_exporter": "python",
  "pygments_lexer": "ipython3",
  "version": 3,
  "kernelspec": {
   "name": "python38164bitpy38envvenvdb5a67ba2d164185bbc60d730ae2e1eb",
   "display_name": "Python 3.8.1 64-bit ('py38env': venv)"
  }
 },
 "nbformat": 4,
 "nbformat_minor": 2
}