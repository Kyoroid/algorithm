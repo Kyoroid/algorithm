{
 "nbformat": 4,
 "nbformat_minor": 2,
 "metadata": {
  "language_info": {
   "name": "python",
   "codemirror_mode": {
    "name": "ipython",
    "version": 3
   },
   "version": "3.8.1-final"
  },
  "orig_nbformat": 2,
  "file_extension": ".py",
  "mimetype": "text/x-python",
  "name": "python",
  "npconvert_exporter": "python",
  "pygments_lexer": "ipython3",
  "version": 3,
  "kernelspec": {
   "name": "python38164bitpy38envvenvdb5a67ba2d164185bbc60d730ae2e1eb",
   "display_name": "Python 3.8.1 64-bit ('py38env': venv)"
  }
 },
 "cells": [
  {
   "cell_type": "markdown",
   "metadata": {},
   "source": [
    "# 合同式"
   ],
   "execution_count": null,
   "outputs": []
  },
  {
   "cell_type": "markdown",
   "metadata": {},
   "source": [
    "## 任意の整数を法とする合同式\n",
    "\n",
    "### 合同式の定義\n",
    "\n",
    "[Wikipedia](https://ja.wikibooks.org/wiki/%E5%88%9D%E7%AD%89%E6%95%B4%E6%95%B0%E8%AB%96/%E5%90%88%E5%90%8C%E5%BC%8F#%E5%AE%9A%E7%BE%A9)より\n",
    "\n",
    "「$a, b$を$c$で割った余りが等しい」または「$c \\mid a-b$」であるとき、「$a, b$は$c$を法として合同」であるといい\n",
    "$$\n",
    "a \\equiv b \\pmod{c}\n",
    "$$\n",
    "と書く。$c \\mid a-b$ は「$c$は$a-b$の約数」と読む。\n",
    "\n",
    "### 加算・減算・乗算\n",
    "\n",
    "$n$を整数とする。$a \\equiv b \\pmod{n}$のとき、$n$が素数の場合と同様に以下の合同式が成り立つ。\n",
    "$$\n",
    "\\begin{eqnarray}\n",
    "a_1 + b_1 &\\equiv& b_1 + b_2 \\pmod{n} \\\\\n",
    "a_1 - a_2 &\\equiv& b_1 - b_2 \\pmod{n} \\\\\n",
    "a_1 \\times a_2 &\\equiv& b_1 \\times b_2 \\pmod{n} \\\\\n",
    "\\end{eqnarray}\n",
    "$$\n",
    "\n",
    "### 除算\n",
    "\n",
    "$ab \\equiv ac \\pmod{p}$ かつ $\\gcd(a, n)=1$ のとき、$b \\equiv c \\pmod{p}$ が成り立つ。\n",
    "\n",
    "つまり、$a$と法$n$が互いに素であれば、両辺を$a$で割ることができる。その一方で、$a$の値によっては除算できないことがある。\n",
    "\n",
    "特に$n$が素数ならば、$0\\leq a \\leq n-1$ となる$a$に対して$\\gcd(a, n)=1$ が常に成り立つため、全ての整数値に対して除算が定義できる。"
   ],
   "execution_count": null,
   "outputs": []
  },
  {
   "cell_type": "markdown",
   "metadata": {},
   "source": [
    "## 素数を法とする合同式"
   ],
   "execution_count": null,
   "outputs": []
  },
  {
   "cell_type": "markdown",
   "metadata": {},
   "source": [
    "### 除算と逆数\n",
    "[フェルマーの小定理](https://ja.wikipedia.org/wiki/%E3%83%95%E3%82%A7%E3%83%AB%E3%83%9E%E3%83%BC%E3%81%AE%E5%B0%8F%E5%AE%9A%E7%90%86)より、除算と逆数に関して以下の合同式が成り立つ。\n",
    "\n",
    "$$\n",
    "\\begin{eqnarray}\n",
    "a_1 \\div a_2 \\equiv a_1 \\times a_2^{-1} \\equiv a_1 \\times a_2^{p-2} \\equiv b_2 \\times b_2^{p-2}\\pmod{p} \\\\\n",
    "\\end{eqnarray}\n",
    "$$"
   ],
   "execution_count": null,
   "outputs": []
  },
  {
   "cell_type": "markdown",
   "metadata": {},
   "source": [
    "### ModIntの実装\n",
    "\n",
    "[operator](https://docs.python.org/ja/3/library/operator.html)モジュールを使って実装する。\n",
    "\n",
    "`int`はイミュータブルオブジェクトなので、`__init__`では初期化できないことに注意。\n",
    "\n",
    "[operator overload](https://tell-k.github.io/pyconjp2016/#49)"
   ],
   "execution_count": null,
   "outputs": []
  },
  {
   "cell_type": "code",
   "execution_count": null,
   "metadata": {},
   "outputs": [],
   "source": [
    "class ModInt(int):\n",
    "    \n",
    "    MOD = 10**9+7\n",
    "\n",
    "    def __new__(cls, x, *args, **kwargs):\n",
    "        return super().__new__(cls, x % ModInt.MOD)\n",
    "\n",
    "    def __add__(self, other):\n",
    "        return ModInt(super().__add__(other) % ModInt.MOD)\n",
    "    \n",
    "    def __radd__(self, other):\n",
    "        return ModInt(super().__radd__(other) % ModInt.MOD)\n",
    "    \n",
    "    def __mul__(self, other):\n",
    "        return ModInt(super().__mul__(other) % ModInt.MOD)\n",
    "    \n",
    "    def __rmul__(self, other):\n",
    "        return ModInt(super().__rmul__(other) % ModInt.MOD)\n",
    "    \n",
    "    def __pow__(self, other, *args):\n",
    "        return ModInt(super().__pow__(other, ModInt.MOD))\n",
    "\n",
    "    def __rpow__(self, other, *args):\n",
    "        raise NotImplementedError()\n",
    "    \n",
    "    def __truediv__(self, other):\n",
    "        return ModInt(super().__mul__(pow(other, ModInt.MOD-2, ModInt.MOD)))\n",
    "    \n",
    "    def __floordiv__(self, other):\n",
    "        return self.__truediv__(other)\n",
    "    \n",
    "    def __rtruediv__(self, other):\n",
    "        return ModInt(self.__pow__(ModInt.MOD-2).__mul__(other))\n",
    "    \n",
    "    def __rfloordiv__(self, other):\n",
    "        return self.__rtruediv__(other)"
   ]
  }
 ]
}