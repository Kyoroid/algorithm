{
 "cells": [
  {
   "cell_type": "markdown",
   "metadata": {},
   "source": [
    "# ユークリッドの互除法の証明\n",
    "\n",
    "[http://k-kyogoku2.com/cn306/corner657/pg11.html](http://k-kyogoku2.com/cn306/corner657/pg11.html)"
   ]
  },
  {
   "cell_type": "markdown",
   "metadata": {},
   "source": [
    "## アルゴリズム\n",
    "\n",
    "2つの自然数 $a, b (a \\geq b)$ と、$a$ を$b$ で割った時の剰余 $r$ について\n",
    "$\\gcd(a, b) = \\gcd(b, r)$ となる。  \n",
    "$a \\geq b$ となるよう $a, b$ を入れ替えつつ上式を再帰的に適用すると、剰余 $r'$ が$0$になったときの除数 $b'$ が最大公約数となる。"
   ]
  },
  {
   "cell_type": "markdown",
   "metadata": {},
   "source": [
    "## 証明方針\n",
    "\n",
    "1. $\\gcd(a, b) = \\gcd(b, r)$ の証明\n",
    "2. 等式を再帰的に適用すると最大公約数が求まることの証明"
   ]
  },
  {
   "cell_type": "markdown",
   "metadata": {},
   "source": [
    "## 証明"
   ]
  },
  {
   "cell_type": "markdown",
   "metadata": {},
   "source": [
    "### 1. $\\gcd(a, b) = \\gcd(b, r)$ の証明\n",
    "\n",
    "最大公約数(GCD) は公約数の一つ。そこで、集合の同値関係\n",
    "\n",
    "$$\n",
    "(a, bの公約数) = (b, rの公約数)\n",
    "$$\n",
    "\n",
    "を示すことができれば、そこから等式が成り立つことを証明できる。\n",
    "\n",
    "$a$ を$b (a \\geq b)$ で割ったときの[商と剰余](https://ja.wikipedia.org/wiki/%E9%99%A4%E6%B3%95#%E6%95%B4%E6%95%B0%E3%81%AE%E9%99%A4%E6%B3%95)をそれぞれ $q, r (0 \\leq r < b)$ とおくと、$a, b, q, r$ は次のように表される。\n",
    "\n",
    "$$\n",
    "a = bq + r\n",
    "$$\n",
    "\n",
    "#### 1.1. $(a, bの公約数) \\subseteq (b, rの公約数)$\n",
    "\n",
    "$a, b$ のどちらも約数 $m$ を持つとする。(つまり、$a, b$ の公約数の1つを $m$ とする。)  \n",
    "すると、整数$a', b'$を用いて $r$ を次のように表すことができる。\n",
    "\n",
    "$$\n",
    "\\begin{eqnarray}\n",
    "r &=& a - bq \\\\\n",
    "  &=& a'm - b'mq \\\\\n",
    "  &=& m(a' - b'q) \\\\\n",
    "\\end{eqnarray}\n",
    "$$\n",
    "\n",
    "上式より、$r$ も同じく $m$ を約数にもつ。  \n",
    "よって、$b, r$ のどちらも $m$ を約数にもつ。  \n",
    "以上より $(a, bの公約数) \\subseteq (b, rの公約数)$ が成り立つ。\n",
    "\n",
    "#### 1.2. $(a, bの公約数) \\supseteq (b, rの公約数)$\n",
    "\n",
    "$b, r$ のどちらも約数 $m$ を持つとする。\n",
    "すると、整数 $b', r'$ を用いて $a$ を次のように表すことができる。\n",
    "\n",
    "$$\n",
    "\\begin{eqnarray}\n",
    "a &=& bq + r \\\\\n",
    "  &=& b'mq + r'm \\\\\n",
    "  &=& m(b'q + r') \\\\\n",
    "\\end{eqnarray}\n",
    "$$\n",
    "\n",
    "上式より、$a$ も同じく $m$ を約数にもつ。  \n",
    "よって、$a, b$ のどちらも $m$ を約数にもつ。  \n",
    "以上より $(a, bの公約数) \\supseteq (b, rの公約数)$ が成り立つ。\n",
    "\n",
    "以上の包含関係より $(a, bの公約数) = (b, rの公約数)$ が成り立つ。  \n",
    "\n",
    "ところで、整数は順序をもつので、公約数の集合に対して最大公約数は一意に定まる。  \n",
    "よって、 $\\gcd(a, b) = \\gcd(b, r)$ が成り立つ。"
   ]
  },
  {
   "cell_type": "markdown",
   "metadata": {},
   "source": [
    "### 2. 等式を再帰的に適用すると最大公約数が求まることの証明\n",
    "\n",
    "$a \\geq b, b > r \\geq 0$ より、$\\gcd(a, b) = \\gcd(b, r)$ を繰り返し適用すると、右辺の$r$ は$b > r$を維持しつつ常に減少し、$r=0$ で停止する。  \n",
    "つまり、上式を再帰的に適用したときに\n",
    "\n",
    "$$\n",
    "\\gcd(a, b) = \\gcd(b, r) = \\ldots = \\gcd(m, 0)\n",
    "$$\n",
    "\n",
    "となる整数 $m > 0$ が存在する。ここで\n",
    "\n",
    "$$\n",
    "0はmの倍数 \\Leftrightarrow mは0の約数 (m \\mid 0)\n",
    "$$\n",
    "\n",
    "であるから、$m$と$0$の最大公約数は$m$である。すなわち\n",
    "\n",
    "$$\n",
    "\\gcd(a, b) = \\gcd(b, r) = \\ldots = \\gcd(m, 0) = m\n",
    "$$\n",
    "\n",
    "であるから、剰余が$0$のときに除数は$m = \\gcd(a, b)$となる。"
   ]
  }
 ],
 "metadata": {
  "language_info": {
   "codemirror_mode": {
    "name": "ipython",
    "version": 3
   },
   "file_extension": ".py",
   "mimetype": "text/x-python",
   "name": "python",
   "nbconvert_exporter": "python",
   "pygments_lexer": "ipython3",
   "version": 3
  },
  "orig_nbformat": 2
 },
 "nbformat": 4,
 "nbformat_minor": 2
}