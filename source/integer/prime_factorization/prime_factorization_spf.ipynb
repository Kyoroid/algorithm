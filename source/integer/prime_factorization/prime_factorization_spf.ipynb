{
 "metadata": {
  "language_info": {
   "codemirror_mode": {
    "name": "ipython",
    "version": 3
   },
   "file_extension": ".py",
   "mimetype": "text/x-python",
   "name": "python",
   "nbconvert_exporter": "python",
   "pygments_lexer": "ipython3",
   "version": 3
  },
  "orig_nbformat": 2
 },
 "nbformat": 4,
 "nbformat_minor": 2,
 "cells": [
  {
   "source": [
    "# 素因数分解 (数表)"
   ],
   "cell_type": "markdown",
   "metadata": {}
  },
  {
   "source": [
    "## 数表を用いた高速化\n",
    "\n",
    "$10^6$ 程度の数に対する素因数分解であれば、数表を用いてクエリ計算量 $\\mathcal{O}(\\log{n})$ で求めることができる。\n",
    "\n",
    "まず、それぞれの数に対する最小の素因数を記録した数表を作成する。  \n",
    "数表はエラトステネスの篩と同じ計算量 $\\mathcal{O}(n\\ln{\\ln{n}})$ で作成できる。 \n",
    "\n",
    "![prime_factorization_spf](images/prime_factorization_spf.svg)\n",
    "\n",
    "素因数分解を求めるには、数に対応する最小の素因数で割ることを繰り返せばよい。  \n",
    "割る過程で通過した最小の素因数を列挙したものが、求めるべき素因数である。\n",
    "\n",
    "例えば次の例では、 $12$ の素因数 $2, 2, 3$ がこの順で得られる。\n",
    "\n",
    "![prime_factorization_12](images/prime_factorization_12.svg)"
   ],
   "cell_type": "markdown",
   "metadata": {}
  },
  {
   "source": [
    "## 実装\n",
    "\n",
    "### 概要\n",
    "\n",
    "整数 $a \\in [2, n]$ に対し、その素因数分解を求めるためのテーブルを作成する。\n",
    "\n",
    "### 実装のポイント\n",
    " \n",
    "エラトステネスの篩では、素数かどうかを表すbool値を数表に記録した。  \n",
    "bool値の代わりに最小の素因数を記録することで、最小の素因数の数表を作ることができる。、\n",
    "\n",
    "### 計算量\n",
    "\n",
    "- 前処理\n",
    "    - `list_spf(n)` $\\mathcal{O}(n\\ln{\\ln{n}})$\n",
    "- クエリ\n",
    "    - `prime_factorization_spf(n)` $\\mathcal{O}(\\log{n})$"
   ],
   "cell_type": "markdown",
   "metadata": {}
  },
  {
   "source": [
    "## コード"
   ],
   "cell_type": "markdown",
   "metadata": {}
  },
  {
   "source": [],
   "cell_type": "code",
   "metadata": {},
   "execution_count": null,
   "outputs": []
  }
 ]
}