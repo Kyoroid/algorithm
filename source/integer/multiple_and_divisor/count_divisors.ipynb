{
 "metadata": {
  "language_info": {
   "codemirror_mode": {
    "name": "ipython",
    "version": 3
   },
   "file_extension": ".py",
   "mimetype": "text/x-python",
   "name": "python",
   "nbconvert_exporter": "python",
   "pygments_lexer": "ipython3",
   "version": "3.8.1-final"
  },
  "orig_nbformat": 2,
  "kernelspec": {
   "name": "python3",
   "display_name": "Python 3",
   "language": "python"
  }
 },
 "nbformat": 4,
 "nbformat_minor": 2,
 "cells": [
  {
   "source": [
    "# 約数の個数\n",
    "\n",
    "Code: [multiple_and_divisor.py](https://github.com/Kyoroid/algorithm/blob/master/lib/integer/multiple_and_divisor.py)  \n",
    "Test: [test_multiple_and_divisor.py](https://github.com/Kyoroid/algorithm/blob/master/lib/integer/test_multiple_and_divisor.py)"
   ],
   "cell_type": "markdown",
   "metadata": {}
  },
  {
   "source": [
    "## 数表を用いた高速化\n",
    "\n",
    "約数の個数を求めるクエリが複数あるとき、数表を用いることで約数列挙を繰り返すよりも高速に答えることができる。\n",
    "\n",
    "まず、倍数を列挙した数表を考える。この表は倍数列挙を繰り返し用いて、$\\mathcal{O}(nH_n) \\sim \\mathcal{O}(n \\ln{n})$ で埋めることができる。  \n",
    "($H_n$ は $n$ の調和数)\n",
    "\n",
    "![multiples_table](images/multiples_table.svg)\n",
    "\n",
    "約数の個数は、数表のうち着色セルの✔を数え上げたものとなる。  \n",
    "このとき、倍数は $a \\in [1, \\sqrt{n}]$ の倍数だけを走査すればよい。\n",
    "\n",
    "赤色のセルは $a$ の倍数における $a^2$ を表す。  \n",
    "個数をカウントする際、赤色セルの✔は1個、緑色セルの✔は2個としてカウントする。  \n",
    "\n",
    "![divisors_table](images/divisors_table.svg)"
   ],
   "cell_type": "markdown",
   "metadata": {}
  },
  {
   "source": [
    "## 実装\n",
    "\n",
    "### 概要\n",
    "\n",
    "整数 $a \\in [0, n]$ に対し、その約数の個数を求めるためのテーブルを作成する。\n",
    "\n",
    "### 実装のポイント\n",
    " \n",
    "数表を走査する際、直前までに得られた個数がわかれば十分なので、数表は1次元でよい。\n",
    "\n",
    "### 計算量\n",
    "\n",
    "- 前処理\n",
    "    - `count_divisors(n)` $\\mathcal{O}(\\sqrt{n} \\ln{n})$\n",
    "- クエリ\n",
    "    - 約数の個数を取得 $\\mathcal{O}(1)$"
   ],
   "cell_type": "markdown",
   "metadata": {}
  },
  {
   "source": [
    "## コード"
   ],
   "cell_type": "markdown",
   "metadata": {}
  },
  {
   "cell_type": "code",
   "execution_count": null,
   "metadata": {},
   "outputs": [],
   "source": [
    "from __future__ import annotations\n",
    "\n",
    "\n",
    "def count_divisors(n: int) -> list[int]:\n",
    "    counts = [0] * (n+1)\n",
    "    a = 1\n",
    "    while a * a <= n:\n",
    "        counts[a*a] += 1\n",
    "        for i in range(a*(a+1), n+1, a):\n",
    "            counts[i] += 2\n",
    "        a += 1\n",
    "    return counts"
   ]
  },
  {
   "source": [
    "## 使用例"
   ],
   "cell_type": "markdown",
   "metadata": {}
  },
  {
   "cell_type": "code",
   "execution_count": null,
   "metadata": {},
   "outputs": [],
   "source": [
    "counts = count_divisors(17)\n",
    "print(*counts[1:])"
   ]
  }
 ]
}