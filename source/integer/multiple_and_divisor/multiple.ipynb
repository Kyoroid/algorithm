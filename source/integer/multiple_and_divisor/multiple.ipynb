{
 "metadata": {
  "language_info": {
   "codemirror_mode": {
    "name": "ipython",
    "version": 3
   },
   "file_extension": ".py",
   "mimetype": "text/x-python",
   "name": "python",
   "nbconvert_exporter": "python",
   "pygments_lexer": "ipython3",
   "version": "3.8.1-final"
  },
  "orig_nbformat": 2,
  "kernelspec": {
   "name": "python3",
   "display_name": "Python 3",
   "language": "python"
  }
 },
 "nbformat": 4,
 "nbformat_minor": 2,
 "cells": [
  {
   "source": [
    "# 倍数列挙\n",
    "\n",
    "Code: [multiple_and_divisor.py](lib/integer/multiple_and_divisor.py)  \n",
    "Test: [test_multiple_and_divisor.py](lib/integer/test_multiple_and_divisor.py)"
   ],
   "cell_type": "markdown",
   "metadata": {}
  },
  {
   "source": [
    "## 倍数列挙とは\n",
    "\n",
    "$a$ の倍数は、$a$ を整数倍した数として定義される。これらを列挙する。\n",
    "\n",
    "$$\n",
    "\\cdots, -3a, -2a, -a, 0, a, 2a, 3a, \\cdots\n",
    "$$"
   ],
   "cell_type": "markdown",
   "metadata": {}
  },
  {
   "source": [
    "## 実装\n",
    "\n",
    "### 概要\n",
    "\n",
    "区間 $[0, n]$ に含まれる倍数を列挙する。\n",
    "\n",
    "### 実装のポイント\n",
    " \n",
    "$a$ から始めて $a$ ずつ足していけばよい。$n$ 以下の $a$ の正の倍数は $\\lfloor \\frac{n}{a} \\rfloor$ 個なので、$a$ が大きいほど短時間で列挙できる。\n",
    "\n",
    "### 計算量\n",
    "\n",
    "- `list_multiples(n, a)` $\\mathcal{O}(\\frac{n}{a})$"
   ],
   "cell_type": "markdown",
   "metadata": {}
  },
  {
   "source": [
    "## コード"
   ],
   "cell_type": "markdown",
   "metadata": {}
  },
  {
   "cell_type": "code",
   "execution_count": null,
   "metadata": {},
   "outputs": [],
   "source": [
    "from __future__ import annotations\n",
    "\n",
    "\n",
    "def list_multiples(a: int, n: int) -> list[int]:\n",
    "    multiples = []\n",
    "    for a in range(a, n+1, a):\n",
    "        multiples.append(a)\n",
    "    return multiples"
   ]
  },
  {
   "source": [
    "## 使用例"
   ],
   "cell_type": "markdown",
   "metadata": {}
  },
  {
   "cell_type": "code",
   "execution_count": null,
   "metadata": {},
   "outputs": [],
   "source": [
    "multiples = list_multiples(3, 24)\n",
    "print(multiples)"
   ]
  }
 ]
}