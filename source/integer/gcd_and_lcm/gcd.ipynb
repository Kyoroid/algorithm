{
 "metadata": {
  "language_info": {
   "codemirror_mode": {
    "name": "ipython",
    "version": 3
   },
   "file_extension": ".py",
   "mimetype": "text/x-python",
   "name": "python",
   "nbconvert_exporter": "python",
   "pygments_lexer": "ipython3",
   "version": "3.8.1-final"
  },
  "orig_nbformat": 2,
  "kernelspec": {
   "name": "python3",
   "display_name": "Python 3",
   "language": "python"
  }
 },
 "nbformat": 4,
 "nbformat_minor": 2,
 "cells": [
  {
   "source": [
    "# 最大公約数\n",
    "\n",
    "Code: [gcd_and_lcm.py](https://github.com/Kyoroid/algorithm/blob/master/lib/integer/gcd_and_lcm.py)  \n",
    "Test: [test_gcd_and_lcm.py](https://github.com/Kyoroid/algorithm/blob/master/lib/integer/test_gcd_and_lcm.py)"
   ],
   "cell_type": "markdown",
   "metadata": {}
  },
  {
   "source": [
    "## 最大公約数とは\n",
    "\n",
    "[Greatest common divisor](https://en.wikipedia.org/wiki/Greatest_common_divisor) (Wikipedea)\n",
    "\n",
    "2つ以上の整数の公約数のうち、最も大きい数のことをいう。  \n",
    "例えば $12, 18, 24$ の公約数は $1, 2, 3, 6$ であり、最大公約数は $6$ である。"
   ],
   "cell_type": "markdown",
   "metadata": {}
  },
  {
   "source": [
    "## 法則\n",
    "\n",
    "最大公約数は交換則と結合則が成り立つ。\n",
    "\n",
    "- 交換則 $\\gcd(a, b) = \\gcd(b, a)$\n",
    "- 結合則 $\\gcd(a, \\gcd(b, c)) = \\gcd(\\gcd(a, b), c)$\n",
    "\n",
    "また、次の法則が成り立つ。これらはユークリッドの互除法の要である。\n",
    "\n",
    "- $\\gcd(a, 0) = a$\n",
    "- $\\gcd(a, b) = \\gcd(b, a \\bmod b) \\quad (a > b)$"
   ],
   "cell_type": "markdown",
   "metadata": {}
  },
  {
   "source": [
    "## ユークリッドの互除法\n",
    "\n",
    "ユークリッドの互除法は、2つの整数の最大公約数を求めるアルゴリズム。\n",
    "\n",
    "自然数 $a, b \\quad (a > b)$ について $\\gcd(a, b) = \\gcd(a, a \\bmod b)$ が成り立つことを利用する。  \n",
    "常に $a \\geq b$ となるよう $a, b$ を入れ替えつつ上式を再帰的に適用すると、剰余 $r'$ が$0$になったときの除数 $b'$ が最大公約数となる。\n",
    "\n",
    "例えば、$\\gcd(12, 18)=6$ の導出過程は次の通り。\n",
    "\n",
    "$$\n",
    "\\begin{eqnarray}\n",
    "\\gcd(12, 18) &=& \\gcd(18, 12) \\\\\n",
    "  &=& \\gcd(12, 18 \\bmod 12) = \\gcd(12, 6) \\\\\n",
    "  &=& \\gcd(6, 12 \\bmod 6) = \\gcd(6, 0) \\\\\n",
    "  &=& 6 \\\\\n",
    "\\end{eqnarray}\n",
    "$$"
   ],
   "cell_type": "markdown",
   "metadata": {}
  },
  {
   "source": [
    "## 実装\n",
    "\n",
    "### 概要\n",
    "\n",
    "複数の整数の最大公約数を求める。\n",
    "\n",
    "### 実装のポイント\n",
    "\n",
    "`math.gcd`と異なり、3数以上を引数にとれるようにした。  \n",
    "(※Python3.9以上では3数以上を引数にとれる)\n",
    "\n",
    "### 計算量\n",
    "\n",
    "- `gcd(a, b)` $\\mathcal{O}(\\log{\\min(a, b)})$"
   ],
   "cell_type": "markdown",
   "metadata": {}
  },
  {
   "source": [
    "## コード"
   ],
   "cell_type": "markdown",
   "metadata": {}
  },
  {
   "cell_type": "code",
   "execution_count": null,
   "metadata": {},
   "outputs": [],
   "source": [
    "def gcd(a: int, *args: int) -> int:\n",
    "    for b in args:\n",
    "        if a < b:\n",
    "            a, b = b, a\n",
    "        while b > 0:\n",
    "            a, b = b, a % b\n",
    "    return a"
   ]
  },
  {
   "source": [
    "## 使用例"
   ],
   "cell_type": "markdown",
   "metadata": {}
  },
  {
   "cell_type": "code",
   "execution_count": null,
   "metadata": {},
   "outputs": [],
   "source": [
    "g = gcd(12, 18, 24)\n",
    "print(g)"
   ]
  }
 ]
}