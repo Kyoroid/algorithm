{
 "nbformat": 4,
 "nbformat_minor": 2,
 "metadata": {
  "language_info": {
   "name": "python",
   "codemirror_mode": {
    "name": "ipython",
    "version": 3
   },
   "version": "3.6.4-final"
  },
  "orig_nbformat": 2,
  "file_extension": ".py",
  "mimetype": "text/x-python",
  "name": "python",
  "npconvert_exporter": "python",
  "pygments_lexer": "ipython3",
  "version": 3,
  "kernelspec": {
   "name": "python36464bitvenvvenv2e100f1a661b4e10b2626b46fe401f6c",
   "display_name": "Python 3.6.4 64-bit ('venv': venv)"
  }
 },
 "cells": [
  {
   "cell_type": "markdown",
   "metadata": {},
   "source": [
    "# 数え上げ"
   ]
  },
  {
   "cell_type": "markdown",
   "metadata": {},
   "source": [
    "## $nCk \\pmod{p}$ の計算\n",
    "\n",
    "https://drken1215.hatenablog.com/entry/2018/06/08/210000"
   ]
  },
  {
   "cell_type": "markdown",
   "metadata": {},
   "source": [
    "### 方法1\n",
    "\n",
    "$min(k, n-k) \\leq 10^6$ 程度まで対応可能。\n",
    "\n",
    "$$\n",
    "\\begin{align}\n",
    "    _nC_k &= \\frac{n!}{k!(n-k)!} = \\frac{n(n-1) \\ldots (n-k+1)}{k(k-1) \\ldots 1} \\\\\n",
    "    &= \\left( \\prod_{i=1}^{k} n-k+i \\right) \\left( \\prod_{i=1}^{k} i \\right)^{-1}\n",
    "\\end{align}\n",
    "$$\n",
    "\n",
    "分母、分子とも$k$個の整数の積なので、全体の計算量はクエリ毎に$O(k)$。"
   ]
  },
  {
   "cell_type": "code",
   "execution_count": 1,
   "metadata": {},
   "outputs": [],
   "source": [
    "def nCk_mod_v1(n, k, p=10**9+7):\n",
    "    k = min(k, n-k)\n",
    "    a = 1\n",
    "    for i in range(n-k+1, n+1):\n",
    "        a = a * i % p\n",
    "    b = 1\n",
    "    for i in range(1, k+1):\n",
    "        b = b * i % p\n",
    "    return a * pow(b, p-2, p) % p"
   ]
  },
  {
   "cell_type": "code",
   "execution_count": 2,
   "metadata": {},
   "outputs": [
    {
     "data": {
      "text/plain": "210"
     },
     "execution_count": 2,
     "metadata": {},
     "output_type": "execute_result"
    }
   ],
   "source": [
    "nCk_mod_v1(10, 4)"
   ]
  },
  {
   "cell_type": "code",
   "execution_count": 3,
   "metadata": {},
   "outputs": [
    {
     "data": {
      "text/plain": "344082972"
     },
     "execution_count": 3,
     "metadata": {},
     "output_type": "execute_result"
    }
   ],
   "source": [
    "nCk_mod_v1(10**12, 10**6)"
   ]
  },
  {
   "cell_type": "code",
   "execution_count": 4,
   "metadata": {},
   "outputs": [
    {
     "name": "stdout",
     "output_type": "stream",
     "text": "328 ms ± 55.7 ms per loop (mean ± std. dev. of 7 runs, 1 loop each)\n"
    }
   ],
   "source": [
    "%timeit nCk_mod_v1(10**12, 10**6)"
   ]
  },
  {
   "cell_type": "markdown",
   "metadata": {},
   "source": [
    "### 方法2\n",
    "\n",
    "$n$が小さければ、方法1に比べてさらに高速化できる。  \n",
    "$n \\leq 10^6$ 程度まで対応可能。\n",
    "\n",
    "$$_nC_k = \\frac{n!}{k!(n-k)!} = n!(k!)^{-1}((n-k)!)^{-1}$$\n",
    "\n",
    "$n$以下の全ての$k'$に対して$k'!, (k'!)^{-1}$ の2種類の値を事前計算しておくことで、クエリ毎に$O(1)$で計算可能となる。\n",
    "\n",
    "$k'!$については逐次計算し、その値を記憶しておく。\n",
    "\n",
    "$(k'!)^{-1}$の計算については、逆元を使って求めると計算量は$O(\\log(p))$となる。  "
   ]
  },
  {
   "cell_type": "code",
   "execution_count": 5,
   "metadata": {},
   "outputs": [],
   "source": [
    "def nCk_mod_v2_preprocess(n, p=10**9+7):\n",
    "    f = [0 for i in range(n+1)]  # n!\n",
    "    invf = [0 for i in range(n+1)]  # (n!)^-1\n",
    "    f[0] = 1\n",
    "    f[1] = 1\n",
    "    invf[0] = 1\n",
    "    invf[1] = 1\n",
    "    for i in range(2, n+1):\n",
    "        f[i] = f[i-1] * i % p\n",
    "        invf[i] = pow(f[i], p-2, p)\n",
    "    return f, invf\n",
    "\n",
    "def nCk_mod_v2(it, p=10**9+7):\n",
    "    nmax = max([n for n, k in it])\n",
    "    f, invf = nCk_mod_v2_preprocess(nmax, p)\n",
    "    for n, k in it:\n",
    "        if n < k or n < 0 or k < 0:\n",
    "            yield 0\n",
    "        else:\n",
    "            yield (f[n] * invf[k] % p) * invf[n-k] % p"
   ]
  },
  {
   "cell_type": "markdown",
   "metadata": {},
   "source": [
    "前処理の `pow(f[i], p-2, p)` を含むループはさらに計算量を落とすことができる。  \n",
    "$a_k = (k!)^{-1}$ とおけば、漸化式 $a_{k-1} = k \\cdot a_k$ が成り立つので、 $a_n = (n!)^{-1}$ だけ計算すれば他は漸化式から求まる。\n",
    "\n",
    "事前計算は$O(n)$、クエリ毎に$O(1)$。"
   ]
  },
  {
   "cell_type": "code",
   "execution_count": 6,
   "metadata": {},
   "outputs": [],
   "source": [
    "def nCk_mod_v2_preprocess(n, p=10**9+7):\n",
    "    f = [0 for i in range(n+1)]  # n!\n",
    "    invf = [0 for i in range(n+1)]  # (n!)^-1\n",
    "    f[0] = 1\n",
    "    f[1] = 1\n",
    "    invf[0] = 1\n",
    "    invf[1] = 1\n",
    "    for i in range(2, n+1):\n",
    "        f[i] = f[i-1] * i % p\n",
    "    invf[n] = pow(f[n], p-2, p)\n",
    "    for i in range(n, 2, -1):\n",
    "        invf[i-1] = invf[i] * i % p\n",
    "    return f, invf"
   ]
  },
  {
   "cell_type": "code",
   "execution_count": 7,
   "metadata": {},
   "outputs": [
    {
     "data": {
      "text/plain": "210"
     },
     "execution_count": 7,
     "metadata": {},
     "output_type": "execute_result"
    }
   ],
   "source": [
    "next(nCk_mod_v2([[10, 4], ]))"
   ]
  },
  {
   "cell_type": "code",
   "execution_count": 8,
   "metadata": {},
   "outputs": [
    {
     "data": {
      "text/plain": "85121780"
     },
     "execution_count": 8,
     "metadata": {},
     "output_type": "execute_result"
    }
   ],
   "source": [
    "next(nCk_mod_v2([[10**6, 4], ]))"
   ]
  },
  {
   "cell_type": "code",
   "execution_count": 9,
   "metadata": {},
   "outputs": [
    {
     "name": "stdout",
     "output_type": "stream",
     "text": "439 ms ± 8.36 ms per loop (mean ± std. dev. of 7 runs, 1 loop each)\n"
    }
   ],
   "source": [
    "%timeit next(nCk_mod_v2([[10**6, 4], ]))"
   ]
  }
 ]
}