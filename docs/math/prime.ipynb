{
 "cells": [
  {
   "cell_type": "markdown",
   "metadata": {},
   "source": [
    "# 素数"
   ]
  },
  {
   "cell_type": "markdown",
   "metadata": {},
   "source": [
    "## 素数列挙\n",
    "\n",
    "[エラトステネスの篩](https://ja.wikipedia.org/wiki/%E3%82%A8%E3%83%A9%E3%83%88%E3%82%B9%E3%83%86%E3%83%8D%E3%82%B9%E3%81%AE%E7%AF%A9) により素数を列挙する。  \n",
    "エラトステネスの篩は、数列から「$2$の倍数」「$3$の倍数」$\\ldots$ 「$n$の倍数」をこの順に取り除き、残った数を列挙する手法である。\n",
    "\n",
    "計算量は$\\mathcal{O}(n\\log{\\log{n}})$。"
   ]
  },
  {
   "cell_type": "code",
   "execution_count": 1,
   "metadata": {},
   "outputs": [],
   "source": [
    "def sieve(n):\n",
    "    \"\"\"\n",
    "    n以下の素数を昇順に列挙する\n",
    "    \"\"\"\n",
    "    is_prime = [True for i in range(n+1)]\n",
    "    primes = []\n",
    "    for i in range(2, n+1):\n",
    "        if is_prime[i]:\n",
    "            primes.append(i)\n",
    "            for j in range(i+i, n+1, i):\n",
    "                is_prime[j] = False\n",
    "    return primes"
   ]
  },
  {
   "cell_type": "code",
   "execution_count": 2,
   "metadata": {},
   "outputs": [
    {
     "name": "stdout",
     "output_type": "stream",
     "text": [
      "[2, 3, 5, 7, 11, 13, 17, 19, 23, 29, 31, 37]\n"
     ]
    }
   ],
   "source": [
    "print(sieve(37))"
   ]
  },
  {
   "cell_type": "markdown",
   "metadata": {},
   "source": [
    "## 素数判定\n",
    "\n",
    "ある値が素数かどうかは、[試し割り法](https://ja.wikipedia.org/wiki/%E8%A9%A6%E3%81%97%E5%89%B2%E3%82%8A%E6%B3%95) で判定できる。  \n",
    "\n",
    "### アルゴリズム\n",
    "\n",
    "試し割り法では、1から順に整数 $p$ を取り出し、$n$ をその数で割り切れるかどうか実際に試す。  \n",
    "「$n$ より小さい整数 $p$ が $n$ の倍数かどうかを、小さい順に確かめる」と読み替えてもよい。\n",
    "\n",
    "ここで、素数判定に用いる除数の範囲を考える。  \n",
    "例えば $31$ を整数 $p$ で割って商 $q$ を得るとき、$p$ が小さい順に\n",
    "\n",
    "$$\n",
    "\\begin{eqnarray}\n",
    "31 \\div 2 &=& 16 \\ldots 1 && (p=2, q=16) \\\\\n",
    "31 \\div 3 &=& 10 \\ldots 1 && (p=3, q=10) \\\\\n",
    "31 \\div 4 &=& 7 \\ldots 3 && (p=4, q=7) \\\\\n",
    "31 \\div 5 &=& 6 \\ldots 1 && (p=5, q=6) \\\\\n",
    "31 \\div 6 &=& 5 \\ldots 1 && (p=6, q=5) \\\\\n",
    "31 \\div 7 &=& 4 \\ldots 3 && (p=7, q=4) \\\\\n",
    "31 \\div 8 &=& 3 \\ldots 7 && (p=8, q=3) \\\\\n",
    "31 \\div 9 &=& 3 \\ldots 4 && (p=9, q=3) \\\\\n",
    "31 \\div 10 &=& 3 \\ldots 1 && (p=10, q=3) \\\\\n",
    "&\\vdots& \\\\\n",
    "\\end{eqnarray}\n",
    "$$\n",
    "\n",
    "と順に割っていくことになる。  \n",
    "ここで、$p > q$ の範囲に着目する。「$6$ で割り切れるかどうか」は、その商が $5$ であることから、「$5$ で割り切れるかどうか」がわかればそれと同じ判定結果が得られる。  \n",
    "同様に $7$ 以上の除数についても、商は除数より小さくなるから、その商で割り切れたかどうかで判定できたことになる。  \n",
    "\n",
    "また、試し割りは素数のみ試せばよい。 これは、ある合成数で割り切れるとき、その素因数でも割り切れるからである。\n",
    "\n",
    "一般に素数 $p \\in [1, \\sqrt{n}]$ を調べれば、全ての範囲で素数判定を行ったとみなせる。これにより、エラトステネスの篩の大きさの2乗まで素数判定が可能となる。"
   ]
  },
  {
   "cell_type": "markdown",
   "metadata": {},
   "source": [
    "### 実装"
   ]
  },
  {
   "cell_type": "code",
   "execution_count": 3,
   "metadata": {},
   "outputs": [],
   "source": [
    "def trial_division(n, primes):\n",
    "    for p in primes:\n",
    "        if p * p > n:\n",
    "            break\n",
    "        if n % p == 0:\n",
    "            return False\n",
    "    return True"
   ]
  },
  {
   "cell_type": "code",
   "execution_count": 4,
   "metadata": {},
   "outputs": [
    {
     "name": "stdout",
     "output_type": "stream",
     "text": [
      "False\n"
     ]
    }
   ],
   "source": [
    "primes = sieve(10**5)\n",
    "print(trial_division(2010, primes))"
   ]
  },
  {
   "cell_type": "code",
   "execution_count": 5,
   "metadata": {},
   "outputs": [
    {
     "name": "stdout",
     "output_type": "stream",
     "text": [
      "True\n"
     ]
    }
   ],
   "source": [
    "print(trial_division(10**9+7, primes))"
   ]
  },
  {
   "cell_type": "markdown",
   "metadata": {},
   "source": [
    "## 素因数分解\n",
    "\n",
    "素因数分解についても、試し割り法で求めることができる。  \n",
    "素数判定では単に「ある素数で割れるか」を調べていたが、「ある素数で何回割れるか」まで調べれば素因数とその個数がわかる。\n",
    "\n",
    "計算量はクエリ毎に $\\mathcal{O}(\\pi(2^{d/2}))$ 。ここで $d$ は $n$ の2進表現における桁数、$\\pi(x)$ は[素数計数関数](https://ja.wikipedia.org/wiki/%E7%B4%A0%E6%95%B0%E8%A8%88%E6%95%B0%E9%96%A2%E6%95%B0)である。  \n",
    "nが32ビット符号なし整数のとき、試し割りの回数は最大で $\\pi(2^{32/2}) = 6542$ 程度である。"
   ]
  },
  {
   "cell_type": "code",
   "execution_count": 6,
   "metadata": {},
   "outputs": [],
   "source": [
    "from collections import defaultdict\n",
    "\n",
    "\n",
    "def prime_factorization(n, primes):\n",
    "    \"\"\"\n",
    "    nの素因数分解を求める\n",
    "    \"\"\"\n",
    "    prime_factors = defaultdict(int)\n",
    "    if n < 2:\n",
    "        return prime_factors\n",
    "    for p in primes:\n",
    "        if p * p > n:\n",
    "            break\n",
    "        while n % p == 0:\n",
    "            prime_factors[p] += 1\n",
    "            n //= p\n",
    "    if n > 1:\n",
    "        prime_factors[n] = 1\n",
    "    return prime_factors"
   ]
  },
  {
   "cell_type": "code",
   "execution_count": 7,
   "metadata": {},
   "outputs": [
    {
     "name": "stdout",
     "output_type": "stream",
     "text": [
      "defaultdict(<class 'int'>, {2: 1, 3: 2, 47: 1, 14593: 1})\n",
      "12345678\n"
     ]
    }
   ],
   "source": [
    "from operator import mul\n",
    "from functools import reduce\n",
    "\n",
    "primes = sieve(10**5)\n",
    "factors = prime_factorization(12345678, primes)\n",
    "print(factors)\n",
    "print(reduce(mul, [p**n for p, n in factors.items()]))"
   ]
  },
  {
   "cell_type": "code",
   "execution_count": 8,
   "metadata": {},
   "outputs": [
    {
     "name": "stdout",
     "output_type": "stream",
     "text": [
      "defaultdict(<class 'int'>, {1000000007: 1})\n",
      "1000000007\n"
     ]
    }
   ],
   "source": [
    "factors = prime_factorization(10**9+7, primes)\n",
    "print(factors)\n",
    "print(reduce(mul, [p**n for p, n in factors.items()]))"
   ]
  }
 ],
 "metadata": {
  "file_extension": ".py",
  "kernelspec": {
   "display_name": "Python 3.8.1 64-bit ('py38env': venv)",
   "name": "python38164bitpy38envvenvdb5a67ba2d164185bbc60d730ae2e1eb"
  },
  "language_info": {
   "codemirror_mode": {
    "name": "ipython",
    "version": 3
   },
   "file_extension": ".py",
   "mimetype": "text/x-python",
   "name": "python",
   "nbconvert_exporter": "python",
   "pygments_lexer": "ipython3",
   "version": "3.8.1"
  },
  "mimetype": "text/x-python",
  "name": "python",
  "npconvert_exporter": "python",
  "pygments_lexer": "ipython3",
  "version": 3
 },
 "nbformat": 4,
 "nbformat_minor": 2
}
