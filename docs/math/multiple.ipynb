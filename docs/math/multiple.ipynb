{
 "cells": [
  {
   "cell_type": "markdown",
   "metadata": {},
   "source": [
    "# 約数と倍数"
   ]
  },
  {
   "cell_type": "markdown",
   "metadata": {},
   "source": [
    "## 約数\n",
    "\n",
    "$n$ の約数は、$n$ を割り切る整数集合を指す。  \n",
    "「$n$ は $a$ の約数」を $a \\mid n$ と表す。\n",
    "\n",
    "例えば $12$ の正の約数は\n",
    "\n",
    "$$\n",
    "1, 2, 3, 4, 6, 12\n",
    "$$\n",
    "\n",
    "の6つである。"
   ]
  },
  {
   "cell_type": "markdown",
   "metadata": {},
   "source": [
    "## 約数列挙\n",
    "\n",
    "[試し割り法](https://ja.wikipedia.org/wiki/%E8%A9%A6%E3%81%97%E5%89%B2%E3%82%8A%E6%B3%95) (Wikipedia)\n",
    "\n",
    "$n$ の正の約数を列挙するには、$\\sqrt{n}$ 以下の整数で $n$ を割り切れるか試し、割り切れた数を順次加えていけばよい。  \n",
    "この手法を「試し割り法」という。計算量は $\\mathcal{O}(\\sqrt{n})$。"
   ]
  },
  {
   "cell_type": "code",
   "execution_count": 1,
   "metadata": {},
   "outputs": [],
   "source": [
    "def divisor(n):\n",
    "    \"\"\"\n",
    "    n以下の約数を列挙する\n",
    "    \"\"\"\n",
    "    divisors = []\n",
    "    i = 1\n",
    "    while i * i <= n:\n",
    "        if n % i == 0:\n",
    "            divisors.append(i)\n",
    "            if i * i != n:\n",
    "                divisors.append(n // i)\n",
    "        i += 1\n",
    "    return list(sorted(divisors))"
   ]
  },
  {
   "cell_type": "code",
   "execution_count": 2,
   "metadata": {
    "tags": []
   },
   "outputs": [
    {
     "name": "stdout",
     "output_type": "stream",
     "text": [
      "[1, 2, 3, 4, 6, 12]\n"
     ]
    }
   ],
   "source": [
    "print(divisor(12))"
   ]
  },
  {
   "cell_type": "markdown",
   "metadata": {},
   "source": [
    "## 倍数\n",
    "\n",
    "$a$ の倍数は、$a$ を整数倍した数として定義される。\n",
    "\n",
    "$$\n",
    "\\cdots, -3a, -2a, -a, 0, a, 2a, 3a, \\cdots\n",
    "$$"
   ]
  },
  {
   "cell_type": "markdown",
   "metadata": {},
   "source": [
    "## 倍数列挙\n",
    "\n",
    "$n$ 以下の $a$ の正の倍数を列挙するには、$1 \\le a \\le n$ の区間を $a$ ごとに走査すればよい。  \n",
    "$n$ 以下の $a$ の正の倍数は $\\lfloor \\frac{n}{a} \\rfloor$ 個存在するから、計算量は $\\mathcal{O}(\\frac{n}{a})$ となる。"
   ]
  },
  {
   "cell_type": "code",
   "execution_count": 3,
   "metadata": {},
   "outputs": [],
   "source": [
    "def multiple(a, n):\n",
    "    \"\"\"\n",
    "    n以下のaの倍数を列挙する\n",
    "    \"\"\"\n",
    "    multiple = []\n",
    "    for a in range(a, n+1, a):\n",
    "        multiple.append(a)\n",
    "    return multiple"
   ]
  },
  {
   "cell_type": "code",
   "execution_count": 4,
   "metadata": {
    "tags": []
   },
   "outputs": [
    {
     "name": "stdout",
     "output_type": "stream",
     "text": [
      "[3, 6, 9, 12, 15]\n"
     ]
    }
   ],
   "source": [
    "print(multiple(3, 17))"
   ]
  },
  {
   "cell_type": "markdown",
   "metadata": {},
   "source": [
    "倍数列挙の際に「1以外の倍数ではない」数だけを選んで列挙することで[素数列挙](prime.ipynb#素数列挙)ができる。"
   ]
  }
 ],
 "metadata": {
  "kernelspec": {
   "display_name": "Python 3.8.1 64-bit ('py38env': venv)",
   "name": "python38164bitpy38envvenvdb5a67ba2d164185bbc60d730ae2e1eb"
  },
  "language_info": {
   "codemirror_mode": {
    "name": "ipython",
    "version": 3
   },
   "file_extension": ".py",
   "mimetype": "text/x-python",
   "name": "python",
   "nbconvert_exporter": "python",
   "pygments_lexer": "ipython3",
   "version": "3.8.1"
  }
 },
 "nbformat": 4,
 "nbformat_minor": 2
}
