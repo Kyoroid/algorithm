{
 "cells": [
  {
   "cell_type": "markdown",
   "metadata": {},
   "source": [
    "# 可視化"
   ]
  },
  {
   "cell_type": "markdown",
   "metadata": {},
   "source": [
    "## セットアップ\n",
    "\n",
    "- Pycairo [Linux](https://pycairo.readthedocs.io/en/latest/)・[(非公式)Windows](https://www.lfd.uci.edu/~gohlke/pythonlibs/#pycairo)\n",
    "- igraph [python-igraph](https://igraph.org/python/)"
   ]
  },
  {
   "cell_type": "markdown",
   "metadata": {},
   "source": [
    "## 木構造\n",
    "\n",
    "Reingold Tilfordアルゴリズムを用いる。計算時間は$\\mathcal{O}(N)$。\n",
    "\n",
    "二分ヒープの可視化例を示す。"
   ]
  },
  {
   "cell_type": "code",
   "execution_count": null,
   "metadata": {},
   "outputs": [],
   "source": [
    "import io\n",
    "from pathlib import Path\n",
    "import igraph\n",
    "from igraph.drawing.utils import BoundingBox\n",
    "import cairo\n",
    "import IPython.display\n",
    "\n",
    "\n",
    "def heapplot(h, bbox=(200, 200), margin=(20, 20, 20, 20)):\n",
    "    \"\"\"Show heap as a binary tree.\n",
    "\n",
    "    \"\"\"\n",
    "    g = igraph.Graph()\n",
    "    g.add_vertices(len(h))\n",
    "    for i in range(len(h)):\n",
    "        l = (i<<1) + 1\n",
    "        r = (i<<1) + 2\n",
    "        edges = list()\n",
    "        if l < len(h):\n",
    "            edges.append((i, l))\n",
    "        if r < len(h):\n",
    "            edges.append((i, r))\n",
    "        g.add_edges(edges)\n",
    "    g.vs[\"label\"] = h\n",
    "    layout = g.layout_reingold_tilford(root=[0])\n",
    "    \n",
    "    bb = BoundingBox(bbox)\n",
    "    bio = io.BytesIO()\n",
    "    with cairo.ImageSurface(\n",
    "        cairo.FORMAT_ARGB32, int(bb.width), int(bb.height)) as surface:\n",
    "        igraph.plot(g, target=surface, bbox=bb, layout=layout, margin=margin).save(bio)\n",
    "        return IPython.display.Image(bio.getbuffer())"
   ]
  },
  {
   "cell_type": "code",
   "execution_count": 2,
   "metadata": {},
   "outputs": [],
   "source": [
    "from heapq import heappush, heappop\n",
    "\n",
    "h = []\n",
    "heappush(h, (5, 'write code'))\n",
    "heappush(h, (7, 'release product'))\n",
    "heappush(h, (1, 'write spec'))\n",
    "heappush(h, (3, 'create tests'))"
   ]
  },
  {
   "cell_type": "code",
   "execution_count": 3,
   "metadata": {},
   "outputs": [
    {
     "data": {
      "image/png": "[encoded data removed]",
      "text/plain": [
       "<IPython.core.display.Image object>"
      ]
     },
     "execution_count": 3,
     "metadata": {},
     "output_type": "execute_result"
    }
   ],
   "source": [
    "heapplot(h, bbox=(300, 250), margin=(75, 25, 75, 25))"
   ]
  },
  {
   "cell_type": "code",
   "execution_count": 4,
   "metadata": {},
   "outputs": [
    {
     "data": {
      "text/plain": [
       "(1, 'write spec')"
      ]
     },
     "execution_count": 4,
     "metadata": {},
     "output_type": "execute_result"
    }
   ],
   "source": [
    "heappop(h)"
   ]
  },
  {
   "cell_type": "code",
   "execution_count": 5,
   "metadata": {},
   "outputs": [
    {
     "data": {
      "image/png": "[encoded data removed]",
      "text/plain": [
       "<IPython.core.display.Image object>"
      ]
     },
     "execution_count": 5,
     "metadata": {},
     "output_type": "execute_result"
    }
   ],
   "source": [
    "heapplot(h, bbox=(300, 150), margin=(75, 25, 75, 25))"
   ]
  }
 ],
 "metadata": {
  "file_extension": ".py",
  "kernelspec": {
   "display_name": "Python 3.8.1 64-bit ('py38env': venv)",
   "name": "python38164bitpy38envvenvdb5a67ba2d164185bbc60d730ae2e1eb"
  },
  "language_info": {
   "codemirror_mode": {
    "name": "ipython",
    "version": 3
   },
   "file_extension": ".py",
   "mimetype": "text/x-python",
   "name": "python",
   "nbconvert_exporter": "python",
   "pygments_lexer": "ipython3",
   "version": "3.8.1"
  },
  "mimetype": "text/x-python",
  "name": "python",
  "npconvert_exporter": "python",
  "pygments_lexer": "ipython3",
  "version": 3
 },
 "nbformat": 4,
 "nbformat_minor": 2
}
