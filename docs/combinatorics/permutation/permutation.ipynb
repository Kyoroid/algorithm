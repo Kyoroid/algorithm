{
 "cells": [
  {
   "cell_type": "markdown",
   "metadata": {},
   "source": [
    "# 順列\n",
    "\n",
    "Code: [permutation.py](https://github.com/Kyoroid/algorithm/blob/master/lib/combinatorics/permutation.py)  \n",
    "Test: [test_permutation.py](https://github.com/Kyoroid/algorithm/blob/master/test/combinatorics/test_permutation.py)"
   ]
  },
  {
   "cell_type": "markdown",
   "metadata": {},
   "source": [
    "## 順列とは\n",
    "\n",
    "ものを取り出して並べるときの、可能な並べ方のことをいう。\n",
    "\n",
    "例えば、区別できる $5$ 個の要素から $3$ 個を取り出し、並べる操作は次の図のように表現できる。\n",
    "\n",
    "![permutation](images/permutation.svg)"
   ]
  },
  {
   "cell_type": "markdown",
   "metadata": {},
   "source": [
    "## 順列の場合の数\n",
    "\n",
    "$n$ 個から $k$ 個を取り出して順番に並べるとき、場合の数は記号 $_nP_k$ または $P(n,k)$ で表される。  \n",
    "右辺は $k$ 個の数の積となっている。\n",
    "\n",
    "$$\n",
    "P(n,k) = n \\times (n-1) \\times \\ldots \\times (n-k+1)\n",
    "$$\n",
    "\n",
    "または階乗を用いて、次のように表すこともできる。\n",
    "\n",
    "$$\n",
    "P(n,k) = \\frac{n!}{(n-k)!}\n",
    "$$\n",
    "\n",
    "2つ目の式は次のように解釈できる。\n",
    "\n",
    "- $n$ 個すべてを順番に並べる ($n!$ 通り)\n",
    "- $k$ 個目以降の $n-k$ 個の並べ方を無視する ($(n-k)!$ で割る)\n",
    "\n",
    "![interpret_permutation](images/interpret_permutation.svg)"
   ]
  },
  {
   "cell_type": "markdown",
   "metadata": {},
   "source": [
    "## 実装\n",
    "\n",
    "### 概要\n",
    "\n",
    "素数の法 $p$ のもとで、順列の場合の数 $P(n, k)$ を求める。\n",
    "\n",
    "### 実装のポイント\n",
    "\n",
    "階乗を予め計算しておくことで、クエリ計算量 $\\mathcal{O}(1)$ で計算できる。\n",
    "\n",
    "### 計算量\n",
    "\n",
    "- 前処理\n",
    "    - `list_mod_facts(n, p)` $\\mathcal{O}(n)$\n",
    "    - `list_mod_inv_facts(n, p)` $\\mathcal{O}(n + \\log{n})$\n",
    "- クエリ\n",
    "    - `mod_perm(n, k, p)` $\\mathcal{O}(1)$"
   ]
  },
  {
   "cell_type": "markdown",
   "metadata": {},
   "source": [
    "## コード"
   ]
  },
  {
   "cell_type": "code",
   "execution_count": 1,
   "metadata": {
    "execution": {
     "iopub.execute_input": "2021-02-27T20:44:34.266468Z",
     "iopub.status.busy": "2021-02-27T20:44:34.264469Z",
     "iopub.status.idle": "2021-02-27T20:44:34.290297Z",
     "shell.execute_reply": "2021-02-27T20:44:34.288342Z"
    }
   },
   "outputs": [],
   "source": [
    "from __future__ import annotations\n",
    "\n",
    "\n",
    "def list_mod_facts(n: int, p: int) -> list[int]:\n",
    "    f = [1 for i in range(n+1)]\n",
    "    for i in range(2, n+1):\n",
    "        f[i] = f[i-1] * i % p\n",
    "    return f\n",
    "\n",
    "\n",
    "def list_mod_inv_facts(n: int, p: int) -> list[int]:\n",
    "    invf = [1 for i in range(n+1)]\n",
    "    fn = 1\n",
    "    for i in range(2, n+1):\n",
    "        fn = fn * i % p\n",
    "    invf[n] = pow(fn, p-2, p)\n",
    "    for i in range(n, 2, -1):\n",
    "        invf[i-1] = invf[i] * i % p\n",
    "    return invf\n",
    "\n",
    "\n",
    "def mod_perm(n: int, k: int, p: int, f: list[int], invf: list[int]) -> int:\n",
    "    return f[n] * invf[n-k] % p"
   ]
  },
  {
   "cell_type": "markdown",
   "metadata": {},
   "source": [
    "## 使用例"
   ]
  },
  {
   "cell_type": "code",
   "execution_count": 2,
   "metadata": {
    "execution": {
     "iopub.execute_input": "2021-02-27T20:44:34.345281Z",
     "iopub.status.busy": "2021-02-27T20:44:34.330282Z",
     "iopub.status.idle": "2021-02-27T20:44:34.408313Z",
     "shell.execute_reply": "2021-02-27T20:44:34.409312Z"
    }
   },
   "outputs": [
    {
     "name": "stdout",
     "output_type": "stream",
     "text": [
      "720\n"
     ]
    }
   ],
   "source": [
    "f = list_mod_facts(100000, 1000000007)\n",
    "invf = list_mod_inv_facts(100000, 1000000007)\n",
    "p = mod_perm(10, 3, 1000000007, f, invf)\n",
    "print(p)"
   ]
  }
 ],
 "metadata": {
  "kernelspec": {
   "display_name": "py38env",
   "language": "python",
   "name": "py38env"
  },
  "language_info": {
   "codemirror_mode": {
    "name": "ipython",
    "version": 3
   },
   "file_extension": ".py",
   "mimetype": "text/x-python",
   "name": "python",
   "nbconvert_exporter": "python",
   "pygments_lexer": "ipython3",
   "version": "3.8.1"
  }
 },
 "nbformat": 4,
 "nbformat_minor": 2
}
