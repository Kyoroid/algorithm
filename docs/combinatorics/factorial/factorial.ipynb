{
 "cells": [
  {
   "cell_type": "markdown",
   "metadata": {},
   "source": [
    "# 階乗\n",
    "\n",
    "Code: [factorial.py](https://github.com/Kyoroid/algorithm/blob/master/lib/combinatorics/factorial.py)  \n",
    "Test: [test_factorial.py](https://github.com/Kyoroid/algorithm/blob/master/test/combinatorics/test_factorial.py)"
   ]
  },
  {
   "cell_type": "markdown",
   "metadata": {},
   "source": [
    "## 階乗とは\n",
    "\n",
    "[Factorial](https://en.wikipedia.org/wiki/Factorial) (Wikipedia)\n",
    "\n",
    "整数 $n$ について、$1$ 以上 $n$ 以下のすべての整数の積をとったもの。 $n!$ と表記する。\n",
    "\n",
    "$$\n",
    "n! = n \\times (n-1) \\times (n-2) \\times \\ldots \\times 2 \\times 1\n",
    "$$\n",
    "\n",
    "$n$ が小さくても大きな値になりやすく、例えば $10! = 3628800$ である。\n",
    "\n",
    "$n!$ を実際に求めるときは、次式のように再帰的に計算すればよい。\n",
    "\n",
    "$$\n",
    "\\begin{cases}\n",
    "0! = 1 \\\\\n",
    "n! = (n-1)! \\times n \\quad (n \\geq 1)\n",
    "\\end{cases}\n",
    "$$"
   ]
  },
  {
   "cell_type": "markdown",
   "metadata": {},
   "source": [
    "## 階乗の剰余\n",
    "\n",
    "[Wilson's theorem](https://en.wikipedia.org/wiki/Wilson%27s_theorem) (Wikipedia)\n",
    "\n",
    "競技プログラミングにおいては $n < p$ となる素数 $p$ を法とする剰余を扱うことが多い。  \n",
    "素数を法とするのは  $n!$ が様々な素因数を含むため、合成数で剰余をとると $0$ になりやすいためである。  \n",
    "また、法が素数でも $p! \\equiv 0$ より、 $n \\geq p$ の範囲で剰余は $0$ となる。\n",
    "\n",
    "なお、階乗の剰余については、次のウィルソンの定理が成り立つ。  \n",
    "実用的ではないが、素数であることの証明にも使える。\n",
    "\n",
    "$$\n",
    "\\begin{eqnarray}\n",
    "&& (n-1)! \\equiv -1 \\bmod n \\\\\n",
    "&\\Leftrightarrow& n \\ \\text{is a prime number}\n",
    "\\end{eqnarray}\n",
    "$$"
   ]
  },
  {
   "cell_type": "markdown",
   "metadata": {},
   "source": [
    "## 階乗の逆数\n",
    "\n",
    "階乗の剰余が $0$ でなければ、その逆数が定義される。  \n",
    "素数の法 $p$ のもとでは $n < p$ の条件下で逆数が定義される。\n",
    "\n",
    "階乗の逆数は順列の計算などで、分母に現れる階乗を計算するために利用する。"
   ]
  },
  {
   "cell_type": "markdown",
   "metadata": {},
   "source": [
    "## 実装\n",
    "\n",
    "### 概要\n",
    "\n",
    "素数の法 $p$ のもとで、 $[1, n] \\quad (n < p)$ に対する階乗 $n!$ とその逆数 $(n!)^{-1}$ を求める。\n",
    "\n",
    "### 実装のポイント\n",
    "\n",
    "逆数については最初に $n!$ の逆数を求めることで、それ以外の逆数は次式を用いて再帰的に求められる。\n",
    "\n",
    "$$\n",
    "((n-1)!)^{-1} = (n!)^{-1} \\times n \\quad (n \\geq 1)\n",
    "$$\n",
    "\n",
    "### 計算量\n",
    "\n",
    "- `list_mod_facts(n, p)` $\\mathcal{O}(n)$\n",
    "- `list_mod_inv_facts(n, p)` $\\mathcal{O}(n + \\log{n})$"
   ]
  },
  {
   "cell_type": "markdown",
   "metadata": {},
   "source": [
    "## コード"
   ]
  },
  {
   "cell_type": "code",
   "execution_count": 1,
   "metadata": {
    "execution": {
     "iopub.execute_input": "2021-02-27T20:44:31.902490Z",
     "iopub.status.busy": "2021-02-27T20:44:31.896490Z",
     "iopub.status.idle": "2021-02-27T20:44:31.907491Z",
     "shell.execute_reply": "2021-02-27T20:44:31.907491Z"
    }
   },
   "outputs": [],
   "source": [
    "from __future__ import annotations\n",
    "\n",
    "\n",
    "def list_mod_facts(n: int, p: int) -> list[int]:\n",
    "    f = [1 for i in range(n+1)]\n",
    "    for i in range(2, n+1):\n",
    "        f[i] = f[i-1] * i % p\n",
    "    return f\n",
    "\n",
    "\n",
    "def list_mod_inv_facts(n: int, p: int) -> list[int]:\n",
    "    invf = [1 for i in range(n+1)]\n",
    "    fn = 1\n",
    "    for i in range(2, n+1):\n",
    "        fn = fn * i % p\n",
    "    invf[n] = pow(fn, p-2, p)\n",
    "    for i in range(n, 2, -1):\n",
    "        invf[i-1] = invf[i] * i % p\n",
    "    return invf"
   ]
  },
  {
   "cell_type": "markdown",
   "metadata": {},
   "source": [
    "## 使用例"
   ]
  },
  {
   "cell_type": "code",
   "execution_count": 2,
   "metadata": {
    "execution": {
     "iopub.execute_input": "2021-02-27T20:44:31.912491Z",
     "iopub.status.busy": "2021-02-27T20:44:31.910490Z",
     "iopub.status.idle": "2021-02-27T20:44:31.923490Z",
     "shell.execute_reply": "2021-02-27T20:44:31.922491Z"
    }
   },
   "outputs": [
    {
     "name": "stdout",
     "output_type": "stream",
     "text": [
      "1 1 2 6 24 120 720 55 440 969 717\n"
     ]
    }
   ],
   "source": [
    "f = list_mod_facts(10, 997)\n",
    "print(*f[:11])"
   ]
  },
  {
   "cell_type": "code",
   "execution_count": 3,
   "metadata": {
    "execution": {
     "iopub.execute_input": "2021-02-27T20:44:31.928490Z",
     "iopub.status.busy": "2021-02-27T20:44:31.927492Z",
     "iopub.status.idle": "2021-02-27T20:44:31.939492Z",
     "shell.execute_reply": "2021-02-27T20:44:31.939492Z"
    }
   },
   "outputs": [
    {
     "name": "stdout",
     "output_type": "stream",
     "text": [
      "1 1 499 831 457 889 979 852 605 178 616\n"
     ]
    }
   ],
   "source": [
    "invf = list_mod_inv_facts(10, 997)\n",
    "print(*invf[:11])"
   ]
  }
 ],
 "metadata": {
  "kernelspec": {
   "display_name": "py38env",
   "language": "python",
   "name": "py38env"
  },
  "language_info": {
   "codemirror_mode": {
    "name": "ipython",
    "version": 3
   },
   "file_extension": ".py",
   "mimetype": "text/x-python",
   "name": "python",
   "nbconvert_exporter": "python",
   "pygments_lexer": "ipython3",
   "version": "3.8.1"
  }
 },
 "nbformat": 4,
 "nbformat_minor": 2
}
