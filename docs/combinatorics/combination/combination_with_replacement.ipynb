{
 "cells": [
  {
   "cell_type": "markdown",
   "metadata": {},
   "source": [
    "# 重複組み合わせ"
   ]
  },
  {
   "cell_type": "markdown",
   "metadata": {},
   "source": [
    "## 重複組み合わせとは\n",
    "\n",
    "[Number of combinations with repetition](https://en.wikipedia.org/wiki/Combination#Number_of_combinations_with_repetition) (Wikipedia)\n",
    "\n",
    "重複を許してものを取り出すときの、取り出し方のことをいう。"
   ]
  },
  {
   "cell_type": "markdown",
   "metadata": {},
   "source": [
    "## 重複組み合わせの場合の数\n",
    "\n",
    "$n$ 個から重複を許して $k$ 個を取り出すとき、重複組み合わせの場合の数は\n",
    "\n",
    "$$\n",
    "C(n+k-1, k) = \\frac{(n+k-1)!}{k!(n-1)!}\n",
    "$$\n",
    "\n",
    "となる。  \n",
    "左辺は重複組み合わせが「 $n+k-1$ 個から $k$ 個を取り出す場合の数」 であることを示している。  \n",
    "これは次の図のように、$k$ 個の要素と $n-1$ 個の仕切りを使って説明できる。\n",
    "\n",
    "![comb_with_repl](images/comb_with_repl.svg)"
   ]
  }
 ],
 "metadata": {
  "language_info": {
   "codemirror_mode": {
    "name": "ipython",
    "version": 3
   },
   "file_extension": ".py",
   "mimetype": "text/x-python",
   "name": "python",
   "nbconvert_exporter": "python",
   "pygments_lexer": "ipython3",
   "version": 3
  }
 },
 "nbformat": 4,
 "nbformat_minor": 2
}
