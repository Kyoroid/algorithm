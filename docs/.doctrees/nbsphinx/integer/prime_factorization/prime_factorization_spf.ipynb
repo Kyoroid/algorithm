{
 "cells": [
  {
   "cell_type": "markdown",
   "metadata": {},
   "source": [
    "# 素因数分解 (SPF)"
   ]
  },
  {
   "cell_type": "markdown",
   "metadata": {},
   "source": [
    "## 数表を用いた高速化\n",
    "\n",
    "$10^6$ 程度の数に対する素因数分解であれば、数表を用いてクエリ計算量 $\\mathcal{O}(\\log{n})$ で求めることができる。\n",
    "\n",
    "まず、それぞれの数に対する最小の素因数 (Smallest Prime Factor, SPF) を記録した数表を作成する。  \n",
    "数表はエラトステネスの篩と同じ計算量 $\\mathcal{O}(n\\log{\\log{n}})$ で作成できる。 \n",
    "\n",
    "![prime_factorization_spf](images/prime_factorization_spf.svg)\n",
    "\n",
    "素因数分解を求めるには、数に対応する最小の素因数で割ることを繰り返せばよい。  \n",
    "割る過程で通過した最小の素因数を列挙したものが、求めるべき素因数である。\n",
    "\n",
    "例えば次の例では、 $12$ の素因数 $2, 2, 3$ がこの順で得られる。\n",
    "\n",
    "![prime_factorization_12](images/prime_factorization_12.svg)"
   ]
  },
  {
   "cell_type": "markdown",
   "metadata": {},
   "source": [
    "## 実装\n",
    "\n",
    "### 概要\n",
    "\n",
    "整数 $a \\in [2, n]$ に対し、その素因数分解を求めるためのテーブルを作成する。\n",
    "\n",
    "### 実装のポイント\n",
    " \n",
    "エラトステネスの篩では、素数かどうかを表すbool値を数表に記録した。  \n",
    "bool値の代わりに最小の素因数を記録することで、最小の素因数の数表を作ることができる。\n",
    "\n",
    "### 計算量\n",
    "\n",
    "- 前処理\n",
    "    - `list_spf(n)` $\\mathcal{O}(n\\log{\\log{n}})$\n",
    "- クエリ\n",
    "    - `prime_factorization_spf(n)` $\\mathcal{O}(\\log{n})$"
   ]
  },
  {
   "cell_type": "markdown",
   "metadata": {},
   "source": [
    "## コード"
   ]
  },
  {
   "cell_type": "code",
   "execution_count": 1,
   "metadata": {
    "execution": {
     "iopub.execute_input": "2021-02-15T19:34:03.026453Z",
     "iopub.status.busy": "2021-02-15T19:34:03.017451Z",
     "iopub.status.idle": "2021-02-15T19:34:03.035297Z",
     "shell.execute_reply": "2021-02-15T19:34:03.036290Z"
    }
   },
   "outputs": [],
   "source": [
    "from __future__ import annotations\n",
    "\n",
    "\n",
    "def list_spf(n: int) -> list[int]:\n",
    "    spf = [1] * (n+1)\n",
    "    spf[0] = 0\n",
    "    spf[1] = 1\n",
    "    for a in range(2, n+1):\n",
    "        if spf[a] == 1:\n",
    "            spf[a] = a\n",
    "            for i in range(a*a, n+1, a):\n",
    "                if spf[i] == 1:\n",
    "                    spf[i] = a\n",
    "    return spf\n",
    "\n",
    "\n",
    "def prime_factorization_spf(n: int, spf: list[int]) -> tuple[list[int], list[int]]:\n",
    "    if n == 1:\n",
    "        return ([1], [1])\n",
    "    factors = []\n",
    "    counts = []\n",
    "    while n > 1:\n",
    "        factor = spf[n]\n",
    "        count = 1\n",
    "        n //= factor\n",
    "        while factor == spf[n]:\n",
    "            count += 1\n",
    "            n //= factor\n",
    "        factors.append(factor)\n",
    "        counts.append(count)\n",
    "    return factors, counts"
   ]
  },
  {
   "cell_type": "markdown",
   "metadata": {},
   "source": [
    "## 使用例"
   ]
  },
  {
   "cell_type": "code",
   "execution_count": 2,
   "metadata": {
    "execution": {
     "iopub.execute_input": "2021-02-15T19:34:03.044293Z",
     "iopub.status.busy": "2021-02-15T19:34:03.043293Z",
     "iopub.status.idle": "2021-02-15T19:34:03.049291Z",
     "shell.execute_reply": "2021-02-15T19:34:03.050293Z"
    }
   },
   "outputs": [
    {
     "name": "stdout",
     "output_type": "stream",
     "text": [
      "2^2 + 5^3\n"
     ]
    }
   ],
   "source": [
    "spf = list_spf(500)\n",
    "factors, counts = prime_factorization_spf(500, spf)\n",
    "print(\" + \".join([\"{}^{}\".format(f, c) for f, c in zip(factors, counts)]))"
   ]
  }
 ],
 "metadata": {
  "kernelspec": {
   "display_name": "Python 3",
   "language": "python",
   "name": "python3"
  },
  "language_info": {
   "codemirror_mode": {
    "name": "ipython",
    "version": 3
   },
   "file_extension": ".py",
   "mimetype": "text/x-python",
   "name": "python",
   "nbconvert_exporter": "python",
   "pygments_lexer": "ipython3",
   "version": "3.8.1"
  }
 },
 "nbformat": 4,
 "nbformat_minor": 2
}
