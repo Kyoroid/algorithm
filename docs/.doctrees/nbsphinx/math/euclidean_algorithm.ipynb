{
 "cells": [
  {
   "cell_type": "markdown",
   "metadata": {},
   "source": [
    "# 最大公約数\n",
    "\n",
    "## ユークリッドの互除法\n",
    "\n",
    "[ユークリッドの互除法](https://ja.wikipedia.org/wiki/%E3%83%A6%E3%83%BC%E3%82%AF%E3%83%AA%E3%83%83%E3%83%89%E3%81%AE%E4%BA%92%E9%99%A4%E6%B3%95)は、2つの整数の最大公約数を求めるアルゴリズムの一つ。\n",
    "\n",
    "### アルゴリズム\n",
    "\n",
    "2つの自然数 $a, b (a \\geq b)$ と、$a$ を$b$ で割った時の剰余 $r$ について\n",
    "$\\gcd(a, b) = \\gcd(b, r)$ となる。  \n",
    "$a \\geq b$ となるよう $a, b$ を入れ替えつつ上式を再帰的に適用すると、剰余 $r'$ が$0$になったときの除数 $b'$ が最大公約数となる。"
   ]
  },
  {
   "cell_type": "markdown",
   "metadata": {},
   "source": [
    "例えば、$\\gcd(12, 18)$ の導出過程は次の通り。\n",
    "\n",
    "$$\n",
    "\\begin{eqnarray}\n",
    "\\gcd(12, 18) &=& \\gcd(18, 12) \\\\\n",
    "  &=& \\gcd(12, 18 \\bmod 12) = \\gcd(12, 6) \\\\\n",
    "  &=& \\gcd(6, 12 \\bmod 6) = \\gcd(6, 0) \\\\\n",
    "  &=& 6 \\\\\n",
    "\\end{eqnarray}\n",
    "$$"
   ]
  },
  {
   "cell_type": "markdown",
   "metadata": {},
   "source": [
    "### 証明"
   ]
  },
  {
   "cell_type": "markdown",
   "metadata": {
    "nbsphinx-toctree": {
     "maxdepth": 1
    }
   },
   "source": [
    "[ユークリッドの互除法の証明](euclidean_algorithm_proof.ipynb)"
   ]
  },
  {
   "cell_type": "markdown",
   "metadata": {},
   "source": [
    "### 実装\n",
    "\n",
    "Python実装では、巨大な整数に対応した[Lehmer's algorithm](https://en.wikipedia.org/wiki/Lehmer%27s_GCD_algorithm)が使われている。\n",
    "\n",
    "[math.gcd](https://docs.python.org/ja/3/library/math.html#math.gcd) (>=Python3.5)  \n",
    "[fractions.gcd](https://docs.python.org/ja/3/library/fractions.html#fractions.gcd) (<Python3.5)\n",
    "\n",
    "ここでは、再帰を用いたユークリッドの互除法の実装例を示す。  \n",
    "計算量は $\\mathcal{O}(\\log_2{n})$。"
   ]
  },
  {
   "cell_type": "code",
   "execution_count": 1,
   "metadata": {},
   "outputs": [],
   "source": [
    "import sys\n",
    "sys.setrecursionlimit(200000)\n",
    "\n",
    "\n",
    "def gcd(a, b):\n",
    "    while a < b:\n",
    "        return gcd(b, a)\n",
    "    if b == 0:\n",
    "        return a\n",
    "    return gcd(b, a % b)"
   ]
  },
  {
   "cell_type": "code",
   "execution_count": 2,
   "metadata": {},
   "outputs": [
    {
     "name": "stdout",
     "output_type": "stream",
     "text": [
      "gcd(12, 18) = 6\n"
     ]
    }
   ],
   "source": [
    "a = 12\n",
    "b = 18\n",
    "d = gcd(a, b)\n",
    "print(\"gcd({a}, {b}) = {d}\".format(a=a, b=b, d=d))"
   ]
  },
  {
   "cell_type": "markdown",
   "metadata": {},
   "source": [
    "## 拡張ユークリッドの互除法\n",
    "\n",
    "蟻本p.108  \n",
    "[拡張ユークリッドの互除法](https://qiita.com/drken/items/b97ff231e43bce50199a) (Qiita)\n",
    "\n",
    "### 概要\n",
    "\n",
    "整数 $a, b$ の最大公約数 $\\gcd(a, b)$ に対して\n",
    "\n",
    "$$\n",
    "ax + by = \\gcd(a, b)\n",
    "$$\n",
    "\n",
    "を満たす整数の組 $(x, y)$ が存在する。この定理を[ベズーの等式](https://ja.wikipedia.org/wiki/%E3%83%99%E3%82%BA%E3%83%BC%E3%81%AE%E7%AD%89%E5%BC%8F)という。  \n",
    "ユークリッドの互除法を利用して、等式を満たす $(x, y)$ を1つ求めることができる。"
   ]
  },
  {
   "cell_type": "markdown",
   "metadata": {},
   "source": [
    "### 実装\n",
    "\n",
    "$m$ は最大公約数を、 $x, y$ は $ax + by = m$ の解の1つを表す。  \n",
    "計算量はユークリッドの互除法と同じく $\\mathcal{O}(\\log_2{n})$。"
   ]
  },
  {
   "cell_type": "code",
   "execution_count": 3,
   "metadata": {},
   "outputs": [],
   "source": [
    "import sys\n",
    "sys.setrecursionlimit(200000)\n",
    "\n",
    "\n",
    "def extgcd(a, b):\n",
    "    if a < b:\n",
    "        m, y, x = extgcd(b, a)\n",
    "        return (m, x, y)\n",
    "    if b == 0:\n",
    "        x = 1\n",
    "        y = 0\n",
    "        return (a, x, y)\n",
    "    m, y, x = extgcd(b, a % b)\n",
    "    y = y - a // b * x\n",
    "    return (m, x, y)"
   ]
  },
  {
   "cell_type": "code",
   "execution_count": 4,
   "metadata": {},
   "outputs": [
    {
     "name": "stdout",
     "output_type": "stream",
     "text": [
      "111x+30y=3, x=3, y=-11\n"
     ]
    }
   ],
   "source": [
    "a = 111\n",
    "b = 30\n",
    "m, x, y = extgcd(111, 30)\n",
    "print(\"{}x+{}y={}, x={}, y={}\".format(a, b, m, x, y))"
   ]
  }
 ],
 "metadata": {
  "kernelspec": {
   "display_name": "Python 3.8.1 64-bit ('py38env': venv)",
   "name": "python38164bitpy38envvenvdb5a67ba2d164185bbc60d730ae2e1eb"
  },
  "language_info": {
   "codemirror_mode": {
    "name": "ipython",
    "version": 3
   },
   "file_extension": ".py",
   "mimetype": "text/x-python",
   "name": "python",
   "nbconvert_exporter": "python",
   "pygments_lexer": "ipython3",
   "version": "3.8.1"
  }
 },
 "nbformat": 4,
 "nbformat_minor": 2
}
