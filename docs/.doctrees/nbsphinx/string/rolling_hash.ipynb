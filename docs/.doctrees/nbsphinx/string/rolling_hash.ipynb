{
 "cells": [
  {
   "cell_type": "markdown",
   "metadata": {},
   "source": [
    "# 文字列検索"
   ]
  },
  {
   "cell_type": "markdown",
   "metadata": {},
   "source": [
    "## ローリングハッシュ (Rabin-Karp)\n",
    "\n",
    "蟻本p.332  \n",
    "[Wikipedia](https://ja.wikipedia.org/wiki/%E3%83%A9%E3%83%93%E3%83%B3-%E3%82%AB%E3%83%BC%E3%83%97%E6%96%87%E5%AD%97%E5%88%97%E6%A4%9C%E7%B4%A2%E3%82%A2%E3%83%AB%E3%82%B4%E3%83%AA%E3%82%BA%E3%83%A0)\n",
    "\n",
    "あるルールに従って生成された文字列のハッシュ値を比較することで、文字列検索を高速に行う手法。  "
   ]
  },
  {
   "cell_type": "markdown",
   "metadata": {},
   "source": [
    "### アルゴリズム\n",
    "\n",
    "文字列に対応する数列 $C=c_0, c_1, \\ldots , c_{n-1}$ を考える。ただし、$n = |S|$ とする。  \n",
    "この数列 $C$ を入力とするハッシュ関数を次のように定義する。\n",
    "\n",
    "$$\n",
    "H(C) = (c_0 \\times b^{n-1} + c_1 \\times b^{n-2} + \\ldots + c_{n-1} \\times b^0) \\mod{m}\n",
    "$$\n",
    "\n",
    "ただし、基数 $b$ と法 $m$ は互いに素な整数 $(b<m)$ とする。  \n",
    "このハッシュ関数は、文字列の $b$ 進数 $\\pmod{m}$ を求める関数ともいえる。\n",
    "\n",
    "文字列検索では文章 $T$ の各位置を起点とする長さ $n$ の部分文字列 $T_i$ に対して、ハッシュ $H(C_S) = H(C_{T_i})$ を比較する。  \n",
    "愚直に計算すると計算量 $\\mathcal{O}(|S||T|)$ となってしまうが、ローリングハッシュでは文字列の差分を利用して計算時間を抑える。\n",
    "\n",
    "$S$ と $T_i = c_i, c_{i+1}, \\ldots, c_{i+n}$ のハッシュ比較を考える。  \n",
    "$T$ のある位置 $i=k$ で得られたハッシュ値を $T_k$ とすると、そのハッシュは\n",
    "\n",
    "$$\n",
    "H(C_k) = (c_k \\times b^{n-1} + c_{k+1} \\times b^{n-2} + \\ldots + c_{k+(n-1)} \\times b^0) \\mod{m}\n",
    "$$\n",
    "\n",
    "となる。ここで、1文字隣の文字列 $i=k+1$ のハッシュは\n",
    "\n",
    "$$\n",
    "H(C_{k+1}) = (c_{k+1} \\times b^n + c_{k+2} \\times b^{n-1} + \\ldots + c_{(k+1)+(n-1)} \\times b^1) \\mod{m}\n",
    "$$\n",
    "\n",
    "となる。すろと、2式からハッシュ関数の漸化式を作ることができ\n",
    "\n",
    "$$\n",
    "H(C_{k+1}) \\equiv b \\times H(C_k) - c_k \\times b^n + c_{k+n}\n",
    "$$\n",
    "\n",
    "となる。この式の計算量は $\\mathcal{O}(1)$ なので、ハッシュが衝突しなければ文字列検索全体を $\\mathcal{O}(|S|+|T|)$ で行うことができる。"
   ]
  },
  {
   "cell_type": "markdown",
   "metadata": {},
   "source": [
    "### 実装"
   ]
  },
  {
   "cell_type": "markdown",
   "metadata": {},
   "source": [
    "$m, b$ の選び方は以下の資料を参考に、$m$ が大きな素数、$b$ が $2 \\leq b < m$ となるようにした。\n",
    "\n",
    "https://www.slideshare.net/nagisaeto/rolling-hash-149990902"
   ]
  },
  {
   "cell_type": "code",
   "execution_count": 1,
   "metadata": {},
   "outputs": [],
   "source": [
    "import random\n",
    "\n",
    "\n",
    "class RollingHash():\n",
    "\n",
    "    def __init__(self, S, b=-1, m=10**9+7):\n",
    "        if b < 0:\n",
    "            b = random.randint(2, m-1)\n",
    "        self.rh = self.make_hash(S, m, b)\n",
    "        self.S = S\n",
    "        self.m = m\n",
    "        self.b = b\n",
    "    \n",
    "    def encode(self, c):\n",
    "        return ord(c) - ord(\"a\") + 1\n",
    "    \n",
    "    def make_hash(self, S, m, b):\n",
    "        h = 0\n",
    "        for s in S:\n",
    "            h *= b\n",
    "            h %= m\n",
    "            c = self.encode(s)\n",
    "            h += c\n",
    "            h %= m\n",
    "        return h\n",
    "\n",
    "    def match(self, T):\n",
    "        ns = len(self.S)\n",
    "        nt = len(T)\n",
    "        rh = self.make_hash(T[:ns], self.m, self.b)\n",
    "        b_ns = pow(self.b, ns, self.m)\n",
    "\n",
    "        i = 0\n",
    "        while i <= nt - ns:\n",
    "            if self.rh == rh:\n",
    "                yield i\n",
    "            if i < nt - ns:\n",
    "                rh = rh * self.b + self.encode(T[i+ns]) - self.encode(T[i]) * b_ns\n",
    "                rh %= self.m\n",
    "            i += 1"
   ]
  },
  {
   "cell_type": "code",
   "execution_count": 2,
   "metadata": {},
   "outputs": [],
   "source": [
    "rh = RollingHash(\"abc\")"
   ]
  },
  {
   "cell_type": "code",
   "execution_count": 3,
   "metadata": {},
   "outputs": [
    {
     "name": "stdout",
     "output_type": "stream",
     "text": [
      "[0, 5, 11]\n"
     ]
    }
   ],
   "source": [
    "print(list(rh.match(\"abcaaabcbbbabc\")))"
   ]
  }
 ],
 "metadata": {
  "kernelspec": {
   "display_name": "Python 3.8.1 64-bit ('py38env': venv)",
   "name": "python38164bitpy38envvenvdb5a67ba2d164185bbc60d730ae2e1eb"
  },
  "language_info": {
   "codemirror_mode": {
    "name": "ipython",
    "version": 3
   },
   "file_extension": ".py",
   "mimetype": "text/x-python",
   "name": "python",
   "nbconvert_exporter": "python",
   "pygments_lexer": "ipython3",
   "version": "3.8.1"
  }
 },
 "nbformat": 4,
 "nbformat_minor": 2
}
