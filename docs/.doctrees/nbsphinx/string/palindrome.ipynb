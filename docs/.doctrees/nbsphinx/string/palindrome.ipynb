{
 "cells": [
  {
   "cell_type": "markdown",
   "metadata": {},
   "source": [
    "# 回文\n",
    "\n",
    "## 回文半径\n",
    "\n",
    "文字列 $S$ が文字 $s_i$ の前後で回文であるとき、**奇数長**の回文であれば前後$r$ 個の文字で $s_{i+r} = s_{i-r}$ が成り立つ。  \n",
    "$r$ の最大値を回文半径という。最小半径は1。  \n",
    "言い換えると、回文半径は位置 $i$ の前後で作れる最長回文の長さを表す。"
   ]
  },
  {
   "cell_type": "code",
   "execution_count": 1,
   "metadata": {},
   "outputs": [],
   "source": [
    "def palindrome_radius(S):\n",
    "    rad = [1 for _ in S]\n",
    "    n = len(S)\n",
    "    for i in range(n):\n",
    "        r = 0\n",
    "        while i-r >= 0 and i+r < n and S[i+r] == S[i-r]:\n",
    "            r += 1\n",
    "        rad[i] = r\n",
    "    return rad"
   ]
  },
  {
   "cell_type": "markdown",
   "metadata": {},
   "source": [
    "例えば、文字列 \"abbaaa\" に含まれる奇数長回文の回文半径は次の通り。  "
   ]
  },
  {
   "cell_type": "code",
   "execution_count": 2,
   "metadata": {},
   "outputs": [
    {
     "data": {
      "text/plain": [
       "[1, 1, 1, 1, 2, 1]"
      ]
     },
     "execution_count": 2,
     "metadata": {},
     "output_type": "execute_result"
    }
   ],
   "source": [
    "palindrome_radius(\"abbaaa\")"
   ]
  },
  {
   "cell_type": "markdown",
   "metadata": {},
   "source": [
    "このままでは、\"abba\" のような偶数回文が検出されない。  \n",
    "これを検出する方法として、もとの文字列の各文字間にダミー文字を挟む方法がある。  "
   ]
  },
  {
   "cell_type": "code",
   "execution_count": 3,
   "metadata": {
    "tags": []
   },
   "outputs": [
    {
     "name": "stdout",
     "output_type": "stream",
     "text": [
      "$a$b$b$a$a$a$\n",
      "[1, 2, 1, 2, 5, 2, 1, 2, 3, 4, 3, 2, 1]\n"
     ]
    }
   ],
   "source": [
    "S = \"abbaaa\"\n",
    "T = \"$\" + \"$\".join(S) + \"$\"\n",
    "print(T)\n",
    "\n",
    "rad = palindrome_radius(T)\n",
    "print(rad)"
   ]
  },
  {
   "cell_type": "markdown",
   "metadata": {},
   "source": [
    "上記コードの $rad_{2i+1}$ は奇数長回文、$rad_{2i}$ (両端を除く) は偶数長回文に対応する。つまり、偶奇両方の最長回文を検出可能。  \n",
    "求めた回文半径 $rad_i$ は、次のようにダミー文字を含む回文半径となる。\n",
    "\n",
    "奇数長回文 \"\\$a\\$a\\$a\\$\", 回文半径4  \n",
    "偶数長回文 \"\\$a\\$b\\$b\\$a\\$\", 回文半径5\n",
    "\n",
    "ダミー文字のない回文を得るには、2文字目から1飛ばしで文字列を取り出せばよい。"
   ]
  },
  {
   "cell_type": "markdown",
   "metadata": {},
   "source": [
    "回文半径を利用して、文字列の連続部分列で構成される最長の回文を $\\mathcal{O}(|S|^2)$ で求めることができる。  \n",
    "なお、このような最長回文はManacherのアルゴリズムでより高速に求められる。"
   ]
  },
  {
   "cell_type": "code",
   "execution_count": 4,
   "metadata": {},
   "outputs": [],
   "source": [
    "def longest_palindrome(S):\n",
    "    T = \"$\" + \"$\".join(S) + \"$\"\n",
    "    rad = [1 for _ in T]\n",
    "    n = len(T)\n",
    "    for i in range(n):\n",
    "        r = 1\n",
    "        while i-r >= 0 and i+r < n and T[i+r] == T[i-r]:\n",
    "            r += 1\n",
    "        rad[i] = r\n",
    "    \n",
    "    mi = 0\n",
    "    mr = 0\n",
    "    for i, r in enumerate(rad):\n",
    "        if mr < r:\n",
    "            mi = i\n",
    "            mr = r\n",
    "    return T[mi-mr+1:mi+mr][1::2]"
   ]
  },
  {
   "cell_type": "code",
   "execution_count": 5,
   "metadata": {
    "tags": []
   },
   "outputs": [
    {
     "name": "stdout",
     "output_type": "stream",
     "text": [
      "ississi\n",
      "33\n"
     ]
    }
   ],
   "source": [
    "print(longest_palindrome(\"mississippi\"))\n",
    "print(longest_palindrome(\"1337\"))"
   ]
  },
  {
   "cell_type": "markdown",
   "metadata": {},
   "source": [
    "## Manacher\n",
    "\n",
    "https://snuke.hatenablog.com/entry/2014/12/02/235837\n",
    "\n",
    "文字列 $S$ の $i$ 番目の文字 $s_i$ に対する回文半径の配列 $r_1, r_2, \\ldots, r_n$ を、計算量 $\\mathcal{O}(|S|)$ で求めるアルゴリズム。"
   ]
  },
  {
   "cell_type": "markdown",
   "metadata": {},
   "source": [
    "### アルゴリズム\n",
    "\n",
    "奇数長回文を含む文字列 \"babacabac\" の連続部分列を考える。  \n",
    "左から3文字目で回文 \"aba\" (半径2)、5文字目で回文 \"abacaba\" (半径4) が検出される。  \n",
    "このとき回文の対称性より、5文字目の回文判定を終えた直後に以下のことがわかる。\n",
    "\n",
    "- 6文字目は 4文字目の結果(回文半径1)が3未満なので、回文半径 1\n",
    "- 7文字目は 3文字目の結果(回文半径2)が2以上なので、回文半径 2 以上\n",
    "- 8文字目は 2文字目の結果(回文半径2)が1以上なので、回文半径 1 以上\n",
    "\n",
    "この場合、回文半径が定まる文字をスキップすることができる。  \n",
    "一般化すると次の通り。\n",
    "\n",
    "- $i$ 文字目の回文半径が $r_i$ に定まったとき、$k \\in [1, r_i]$ について次のことがわかる。\n",
    "    - $k+r_{i-k} < r_i$ ならば、$i+k$ 文字目の回文半径は $r_{i+k} = r_{i-k}$ で確定する。$(k+r_{i+k} < r_i)$\n",
    "    - そうでない場合は $i+k$ 文字目の回文半径を $r_{i+k} \\geq r_i - k$ とする。\n"
   ]
  },
  {
   "cell_type": "markdown",
   "metadata": {},
   "source": [
    "### 実装\n",
    "\n",
    "偶数長の回文を考慮して実装する。\n",
    "\n",
    "$k+r_{i-k} < r_i$ が偽となった時点で次のステップに進んでいるが、それでも十分回文判定を減らすことができ、計算量 $\\mathcal{O}(|S|)$ で求めることができる。"
   ]
  },
  {
   "cell_type": "code",
   "execution_count": 6,
   "metadata": {},
   "outputs": [],
   "source": [
    "def longest_palindrome(S):\n",
    "    T = \"$\" + \"$\".join(S) + \"$\"\n",
    "    rad = [1 for _ in T]\n",
    "    longest = \"\"\n",
    "    n = len(T)\n",
    "    r = 1\n",
    "    for i in range(n):\n",
    "        r = rad[i]\n",
    "        while i-r >= 0 and i+r < n and T[i+r] == T[i-r]:\n",
    "            r += 1\n",
    "        rad[i] = r\n",
    "        \n",
    "        # Manacher\n",
    "        k = 1\n",
    "        while i-k >= 0 and k + rad[i-k] < rad[i]:\n",
    "            rad[i+k] = rad[i-k]\n",
    "            k += 1\n",
    "        if i + k < n:\n",
    "            rad[i+k] = rad[i] - k\n",
    "        i += k\n",
    "        \n",
    "    mi = 0\n",
    "    mr = 0\n",
    "    for i, r in enumerate(rad):\n",
    "        if mr < r:\n",
    "            mi = i\n",
    "            mr = r\n",
    "    return T[mi-mr+2:mi+mr:2]"
   ]
  },
  {
   "cell_type": "code",
   "execution_count": 7,
   "metadata": {
    "tags": []
   },
   "outputs": [
    {
     "name": "stdout",
     "output_type": "stream",
     "text": [
      "ississi\n",
      "33\n"
     ]
    }
   ],
   "source": [
    "print(longest_palindrome(\"mississippi\"))\n",
    "print(longest_palindrome(\"1337\"))"
   ]
  }
 ],
 "metadata": {
  "kernelspec": {
   "display_name": "Python 3.8.1 64-bit ('py38env': venv)",
   "name": "python38164bitpy38envvenvdb5a67ba2d164185bbc60d730ae2e1eb"
  },
  "language_info": {
   "codemirror_mode": {
    "name": "ipython",
    "version": 3
   },
   "file_extension": ".py",
   "mimetype": "text/x-python",
   "name": "python",
   "nbconvert_exporter": "python",
   "pygments_lexer": "ipython3",
   "version": "3.8.1-final"
  }
 },
 "nbformat": 4,
 "nbformat_minor": 2
}
