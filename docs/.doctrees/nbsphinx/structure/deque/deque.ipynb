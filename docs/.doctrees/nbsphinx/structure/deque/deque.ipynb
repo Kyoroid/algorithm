{
 "cells": [
  {
   "cell_type": "markdown",
   "metadata": {},
   "source": [
    "# 両端キュー"
   ]
  },
  {
   "cell_type": "markdown",
   "metadata": {},
   "source": [
    "## 両端キューとは\n",
    "\n",
    "[Double-ended queue](https://en.wikipedia.org/wiki/Double-ended_queue)\n",
    "\n",
    "末尾と先頭に対するデータの追加・削除を高速に行うことができるデータ構造のこと。"
   ]
  },
  {
   "cell_type": "markdown",
   "metadata": {},
   "source": [
    "## 実装\n",
    "\n",
    "### 概要\n",
    "\n",
    "Pythonには連結リストで実装された [collections.deque](https://docs.python.org/ja/3.8/library/collections.html) があり、これを利用できる。\n",
    "\n",
    "### 計算量\n",
    "\n",
    "| 操作 | メソッド | 計算量 |\n",
    "| --- | --- | --- |\n",
    "| 末尾に追加 | `append` | $\\mathcal{O}(1)$ |\n",
    "| 先頭に追加 | `appendleft` | $\\mathcal{O}(1)$ |\n",
    "| 末尾を削除 | `pop` | $\\mathcal{O}(1)$ |\n",
    "| 先頭を削除 | `popleft` | $\\mathcal{O}(1)$ |\n",
    "| 末尾を参照 | `q[-1]` | $\\mathcal{O}(1)$ |\n",
    "| 先頭を参照 | `q[0]` | $\\mathcal{O}(1)$ |\n",
    "| 要素数を取得 | `len(q)` | $\\mathcal{O}(1)$ |"
   ]
  },
  {
   "cell_type": "markdown",
   "metadata": {},
   "source": [
    "## 使用例"
   ]
  },
  {
   "cell_type": "code",
   "execution_count": 1,
   "metadata": {
    "execution": {
     "iopub.execute_input": "2021-05-23T07:54:55.410409Z",
     "iopub.status.busy": "2021-05-23T07:54:55.409437Z",
     "iopub.status.idle": "2021-05-23T07:54:55.425804Z",
     "shell.execute_reply": "2021-05-23T07:54:55.424806Z"
    }
   },
   "outputs": [
    {
     "name": "stdout",
     "output_type": "stream",
     "text": [
      "4\n",
      "3\n",
      "1\n",
      "2\n",
      "2\n"
     ]
    }
   ],
   "source": [
    "from collections import deque\n",
    "\n",
    "q = deque()\n",
    "q.append(1)\n",
    "q.append(2)\n",
    "q.append(3)\n",
    "q.append(4)\n",
    "print(q.pop())\n",
    "print(q[-1])\n",
    "print(q.popleft())\n",
    "print(q[0])\n",
    "print(len(q))"
   ]
  }
 ],
 "metadata": {
  "language_info": {
   "codemirror_mode": {
    "name": "ipython",
    "version": 3
   },
   "file_extension": ".py",
   "mimetype": "text/x-python",
   "name": "python",
   "nbconvert_exporter": "python",
   "pygments_lexer": "ipython3",
   "version": "3.8.10"
  }
 },
 "nbformat": 4,
 "nbformat_minor": 2
}
