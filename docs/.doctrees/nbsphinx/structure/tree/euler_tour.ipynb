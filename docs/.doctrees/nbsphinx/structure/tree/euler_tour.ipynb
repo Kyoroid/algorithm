{
 "cells": [
  {
   "cell_type": "markdown",
   "metadata": {},
   "source": [
    "# オイラーツアー\n",
    "\n",
    "Code: [euler_tour.py](https://github.com/Kyoroid/algorithm/blob/master/lib/structure/euler_tour.py)  \n",
    "Test: [test_euler_tour.py](https://github.com/Kyoroid/algorithm/blob/master/test/structure/test_euler_tour.py)\n",
    "\n",
    "## オイラーツアーとは\n",
    "\n",
    "[Euler tour technique](https://en.wikipedia.org/wiki/Euler_tour_technique) (Wikipedia)  \n",
    "[Nested set model](https://en.wikipedia.org/wiki/Nested_set_model) (Wikipedia)  \n",
    "蟻本 p294\n",
    "\n",
    "根付き木の表現方法の1つ、およびその作成手法。   \n",
    "二分探索やSegment Treeと組み合わせることにより、「n世代目の子孫の取得」や「2つのノードの最小共通祖先の取得」など、複雑なクエリを高速に処理できる。\n",
    "\n",
    "オイラーツアーでは根付き木を深さ優先探索で走査し、訪問順を一列に並べて記録する。  \n",
    "訪問順の記録には、頂点または辺に対する入時刻・出時刻を用いる。\n",
    "\n",
    "## 包含関係による階層表現\n",
    "\n",
    "包含関係を用いて、ノードの子孫に関する情報を抽出できる。  \n",
    "\n",
    "包含関係に置き換えるにはまず、ノード $i$ 、入時刻 $in_i$ 、出時刻 $out_i$、深さの情報を訪れた順に記録する。\n",
    "\n",
    "![euler_tour_tree](images/euler_tour_tree.svg)\n",
    "\n",
    "入時刻・出時刻を数直線上に並べ、$[in_i, out_i]$ の区間を描く。  \n",
    "区間は集合の1つなので、区間はすべて集合に置き換えることができ、区間の重なりは包含関係とみなすことができる。\n",
    "\n",
    "\n",
    "![euler_tour_nested_set](images/euler_tour_nested_set.svg)\n",
    "\n",
    "なお、関係データベースの分野にも同等の表現があり、こちらは Nested set model と呼ばれる。\n",
    "\n",
    "### 子孫の数\n",
    "\n",
    "ノード $i$ の子孫要素 $j$ すべてに対して $in_i < in_j < out_i$ が成り立つので、この式を用いて評価すればよい。  \n",
    "このとき、予め $in_j$ をソートしておくことで、二分探索を用いて $\\mathcal{O}(\\log(n))$ でクエリを処理できる。\n",
    "\n",
    "### 子の数\n",
    "\n",
    "包含関係に加え、深さの情報を組み合わせる。  \n",
    "$depth_i + 1 = depth_j$ かつ $in_i < in_j < out_i$ が成り立つノードを抽出すればよい。"
   ]
  },
  {
   "cell_type": "markdown",
   "metadata": {},
   "source": [
    "## 頂点の訪問順による表現\n",
    "\n",
    "包含関係を用いた表現では「訪問途中に通過した親」の情報が欠落している。  \n",
    "時刻 $t$ における訪問中のノードを $path[t]$ とすれば、経路上の親の情報がオイラーツアー表現に追加され、祖先に関するクエリを扱うことができるようになる。\n",
    "\n",
    "![euler_tour_vertex](images/euler_tour_vertex.svg)\n",
    "\n",
    "ノードから時刻を求めるときは上の表を、時刻からノードを求めるときは下の表を用いる。\n",
    "\n",
    "### 最小共通祖先\n",
    "\n",
    "ノード $u, v$ の最小共通祖先 (Lowest Common Ancestor, LCA) とは、共通の祖先のうち最も深さが大きいノードを指す。  \n",
    "オイラーツアーにおけるノード $u$ から $v$ への経路で通過したノードのうち、最も深さが大きいものを選択すればよい。  \n",
    "\n",
    "「区間 $u, v$ における深さ最大のノード」は、 $depth[t]$ をSegment Treeで管理することで $\\mathcal{O}(\\log(n))$ で処理できる。"
   ]
  },
  {
   "cell_type": "markdown",
   "metadata": {},
   "source": [
    "## 実装\n",
    "\n",
    "### 概要\n",
    "\n",
    "包含関係による階層表現の実装例を示す。  \n",
    "木を深さ優先探索で走査し、入時刻、出時刻、深さの情報をそれぞれ配列に記録する。"
   ]
  },
  {
   "cell_type": "markdown",
   "metadata": {},
   "source": [
    "## コード"
   ]
  },
  {
   "cell_type": "code",
   "execution_count": 1,
   "metadata": {
    "execution": {
     "iopub.execute_input": "2021-05-23T07:55:14.597306Z",
     "iopub.status.busy": "2021-05-23T07:55:14.596276Z",
     "iopub.status.idle": "2021-05-23T07:55:14.617137Z",
     "shell.execute_reply": "2021-05-23T07:55:14.615106Z"
    }
   },
   "outputs": [],
   "source": [
    "from __future__ import annotations\n",
    "\n",
    "\n",
    "def euler_tour(n: int, g: list[list[int]]) -> tuple[list[int], list[int], list[int]]:\n",
    "    t_in = [0] * n\n",
    "    t_out = [0] * n\n",
    "    depth = [-1] * n\n",
    "        \n",
    "    def dfs(u, t=0):\n",
    "        t_in[u] = t\n",
    "        t += 1\n",
    "        for v in g[u]:\n",
    "            if depth[v] == -1:\n",
    "                depth[v] = depth[u] + 1\n",
    "                t = dfs(v, t)\n",
    "        t_out[u] = t\n",
    "        t += 1\n",
    "        return t\n",
    "    \n",
    "    depth[0] = 0\n",
    "    dfs(0)\n",
    "    return t_in, t_out, depth"
   ]
  },
  {
   "cell_type": "code",
   "execution_count": 2,
   "metadata": {
    "execution": {
     "iopub.execute_input": "2021-05-23T07:55:14.625079Z",
     "iopub.status.busy": "2021-05-23T07:55:14.624083Z",
     "iopub.status.idle": "2021-05-23T07:55:14.647008Z",
     "shell.execute_reply": "2021-05-23T07:55:14.645975Z"
    }
   },
   "outputs": [
    {
     "name": "stdout",
     "output_type": "stream",
     "text": [
      "t_in:\t[0, 1, 11, 2, 6, 3, 8]\n",
      "t_out:\t[13, 10, 12, 5, 7, 4, 9]\n",
      "depth:\t[0, 1, 1, 2, 2, 3, 2]\n"
     ]
    }
   ],
   "source": [
    "N = 7\n",
    "G = [[1, 2], [3, 4, 6], [], [5,], [], [], []]\n",
    "t_in, t_out, depth = euler_tour(N, G)\n",
    "print(f\"t_in:\\t{t_in}\")\n",
    "print(f\"t_out:\\t{t_out}\")\n",
    "print(f\"depth:\\t{depth}\")"
   ]
  }
 ],
 "metadata": {
  "kernelspec": {
   "display_name": "Python 3.8.1  ('py38env': venv)",
   "language": "python",
   "name": "python3810jvsc74a57bd0fa0e30685626637fcda81ebca9982750cef985a3d7ed2872bf400038cee5904e"
  },
  "language_info": {
   "codemirror_mode": {
    "name": "ipython",
    "version": 3
   },
   "file_extension": ".py",
   "mimetype": "text/x-python",
   "name": "python",
   "nbconvert_exporter": "python",
   "pygments_lexer": "ipython3",
   "version": "3.8.10"
  }
 },
 "nbformat": 4,
 "nbformat_minor": 2
}
