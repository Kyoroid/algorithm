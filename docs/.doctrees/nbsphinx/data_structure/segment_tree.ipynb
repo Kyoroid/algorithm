{
 "cells": [
  {
   "cell_type": "markdown",
   "metadata": {},
   "source": [
    "# セグメント木\n",
    "\n"
   ]
  },
  {
   "cell_type": "markdown",
   "metadata": {},
   "source": [
    "## セグメント木\n",
    "\n",
    "蟻本p.153\n",
    "\n",
    "https://ikatakos.com/pot/programming_algorithm/data_structure/segment_tree\n",
    "\n",
    "セグメント木 (Segment Tree) は要素列を表現するデータ構造の1つ。  \n",
    "要素列 $A = a_1 a_2 a_3 \\ldots a_n$ に対して、区間 $A_{[l, r)}$ に対する操作を高速に行うことができる。"
   ]
  },
  {
   "cell_type": "markdown",
   "metadata": {},
   "source": [
    "## Range Minimum Query (RMQ)\n",
    "\n",
    "セグメント木の用途の1つ。  \n",
    "要素の更新に $\\mathcal{O}(\\log{n})$ 費やす代わりに、区間 $[l, r)$ の最小値を求める問い合わせを $\\mathcal{O}(\\log{n})$ で行うことができる。  \n",
    "\n",
    "セグメント木の実装を示す。操作用のメソッドは0-indexedだが、データを格納する配列は1-indexedとしていることに注意。  \n",
    "問い合わせ操作には分割統治法を用いている。"
   ]
  },
  {
   "cell_type": "code",
   "execution_count": 1,
   "metadata": {},
   "outputs": [],
   "source": [
    "class SegmentTree():\n",
    "\n",
    "    def __init__(self, size, op=min, init_value=10**8):\n",
    "        \"\"\"初期化\"\"\"\n",
    "        self.size = size\n",
    "        self.op = op\n",
    "        self.init_value = init_value\n",
    "        n = 2 ** ((size-1).bit_length())\n",
    "        treesize = n * 2\n",
    "        st = [init_value for i in range(treesize)]\n",
    "        self.st = st\n",
    "    \n",
    "    def update(self, key, value):\n",
    "        \"\"\"値の更新\"\"\"\n",
    "        offset = len(self.st) // 2\n",
    "        k = offset + key\n",
    "        self.st[k] = value\n",
    "        k >>= 1\n",
    "        while k > 0:\n",
    "            self.st[k] = self.op(self.st[k * 2], self.st[k * 2 + 1])\n",
    "            k >>= 1\n",
    "    \n",
    "    @classmethod\n",
    "    def from_array(cls, a, op=min, init_value=10**8):\n",
    "        st = cls(len(a), op=op, init_value=init_value)\n",
    "        for i, x in enumerate(a):\n",
    "            st.update(i, x)\n",
    "        return st\n",
    "    \n",
    "    def _query(self, a, b, k, l, r):\n",
    "        \"\"\"区間[a, b) に対する操作\n",
    "        k: 着目しているノード (1-indexed)\n",
    "        l: 探索区間 st[l, r) の左端 (0-indexed)\n",
    "        r: 探索区間 st[l, r) の右端 (0-indexed)\n",
    "        \"\"\"\n",
    "        if r <= a or b <= l:\n",
    "            return self.init_value\n",
    "        if a <= l and r <= b:\n",
    "            return self.st[k]\n",
    "        mid = (l + r) // 2\n",
    "        lv = self._query(a, b, k * 2, l, mid)\n",
    "        rv = self._query(a, b, k * 2 + 1, mid, r)\n",
    "        return self.op(lv, rv)\n",
    "\n",
    "    def query(self, a, b):\n",
    "        \"\"\"区間[a, b) に対する操作\"\"\"\n",
    "        if a > b:\n",
    "            raise ValueError(\"a must be less than equal b.\")\n",
    "        return self._query(a, b, k=1, l=0, r=len(self.st)//2)"
   ]
  },
  {
   "cell_type": "code",
   "execution_count": 2,
   "metadata": {},
   "outputs": [
    {
     "name": "stdout",
     "output_type": "stream",
     "text": [
      "[-10, 1, 4, 11]\n",
      "-10\n"
     ]
    }
   ],
   "source": [
    "A = [3, -5, 2, -10, 1, 4, 11]\n",
    "\n",
    "st = SegmentTree.from_array(A)\n",
    "\n",
    "a = 3\n",
    "b = 7\n",
    "print(A[a:b])\n",
    "print('{}'.format(st.query(a, b)))"
   ]
  },
  {
   "cell_type": "markdown",
   "metadata": {},
   "source": [
    "セグメント木による区間に対する操作は、最小値以外の操作でも利用できる。  \n",
    "具体的には、次の条件を満たせばよい。\n",
    "\n",
    "- 結合法則が成り立つ $(a \\cdot b) \\cdot c = a \\cdot (b \\cdot c)$\n",
    "- 単位元 $e$ をもつ $a \\cdot e = e \\cdot a = a$\n",
    "\n",
    "操作 `op` には二項演算子を、初期値 `init_value` には単位元を指定する。\n",
    "\n",
    "| クエリ | 操作 | 初期値 | 補足 |\n",
    "|:--|:--|:--:|:--|\n",
    "| 和 | `operator.add` | 0 | 累積和を使えば $\\mathcal{O}(1)$ |\n",
    "| 積 | `operator.mul` | 1 | 累積積を使えば $\\mathcal{O}(1)$ |\n",
    "| 最小値 | `min` | +INF | |\n",
    "| 最大値 | `max` | -INF | |\n",
    "| AND | `operator.and` | 1 | |\n",
    "| OR | `operator.and` | 0 | |\n",
    "| XOR | `operator.xor` | 0 | |\n",
    "| GCD | `math.gcd` | 0 | $\\gcd(x, 0) = x$ |\n",
    "| LCM | &#x2015; | 1 | $\\operatorname{lcm}(x, 1) = x$ |"
   ]
  }
 ],
 "metadata": {
  "kernelspec": {
   "display_name": "Python 3.8.1 64-bit ('py38env': venv)",
   "name": "python38164bitpy38envvenvdb5a67ba2d164185bbc60d730ae2e1eb"
  },
  "language_info": {
   "codemirror_mode": {
    "name": "ipython",
    "version": 3
   },
   "file_extension": ".py",
   "mimetype": "text/x-python",
   "name": "python",
   "nbconvert_exporter": "python",
   "pygments_lexer": "ipython3",
   "version": "3.8.1-final"
  }
 },
 "nbformat": 4,
 "nbformat_minor": 2
}
