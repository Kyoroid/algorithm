{
 "cells": [
  {
   "cell_type": "markdown",
   "metadata": {},
   "source": [
    "# Union-Find\n",
    "\n",
    "蟻本p.81"
   ]
  },
  {
   "cell_type": "markdown",
   "metadata": {},
   "source": [
    "グループを表すデータ構造の1つ。以下の操作を高速に実現する。\n",
    "\n",
    "- ある要素がどのグループに属しているかを調べる (find)\n",
    "- 2つのグループを併合する (union)"
   ]
  },
  {
   "cell_type": "markdown",
   "metadata": {},
   "source": [
    "## 実装\n",
    "\n",
    "それぞれのグループは木構造で管理する。\n",
    "\n",
    "findはある要素が所属するグループを返す関数だが、同時にUnion-Find木の高さを小さくする操作を行っている。  \n",
    "再帰的に親を繋ぎ変えることで、グループを表す木の高さを高々1に抑える。"
   ]
  },
  {
   "cell_type": "code",
   "execution_count": 1,
   "metadata": {},
   "outputs": [],
   "source": [
    "class UnionFind():\n",
    "    \"\"\"Union-Find木の実装\n",
    "    \"\"\"\n",
    "\n",
    "    def __init__(self, n):\n",
    "        self.n = n\n",
    "        self.parent = [-1 for i in range(n)]\n",
    "    \n",
    "    def find(self, x):\n",
    "        \"\"\"要素xが所属するグループを返す\n",
    "        \"\"\"\n",
    "        if self.parent[x] == -1:\n",
    "            return x\n",
    "        else:\n",
    "            self.parent[x] = self.find(self.parent[x])\n",
    "            return self.parent[x]\n",
    "    \n",
    "    def union(self, x, y):\n",
    "        \"\"\"要素x, yがそれぞれ所属するグループを併合する\n",
    "        \"\"\"\n",
    "        x = self.find(x)\n",
    "        y = self.find(y)\n",
    "        if x > y:\n",
    "            x, y = y, x\n",
    "        self.parent[y] = x\n",
    "    \n",
    "    def parents(self):\n",
    "        return self.parent"
   ]
  },
  {
   "cell_type": "code",
   "execution_count": 2,
   "metadata": {},
   "outputs": [
    {
     "name": "stdout",
     "output_type": "stream",
     "text": [
      "[0, 0, 2, 3, 2, 2]\n"
     ]
    }
   ],
   "source": [
    "N = 6\n",
    "uf = UnionFind(N)\n",
    "uf.union(0, 1)\n",
    "uf.union(5, 4)\n",
    "uf.union(2, 4)\n",
    "print([uf.find(x) for x in range(N)])"
   ]
  }
 ],
 "metadata": {
  "kernelspec": {
   "display_name": "Python 3.8.1 64-bit ('py38env': venv)",
   "name": "python38164bitpy38envvenvdb5a67ba2d164185bbc60d730ae2e1eb"
  },
  "language_info": {
   "codemirror_mode": {
    "name": "ipython",
    "version": 3
   },
   "file_extension": ".py",
   "mimetype": "text/x-python",
   "name": "python",
   "nbconvert_exporter": "python",
   "pygments_lexer": "ipython3",
   "version": "3.8.1"
  }
 },
 "nbformat": 4,
 "nbformat_minor": 2
}
