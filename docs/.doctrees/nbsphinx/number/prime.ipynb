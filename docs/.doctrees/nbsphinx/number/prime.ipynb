{
 "cells": [
  {
   "cell_type": "markdown",
   "metadata": {},
   "source": [
    "# 素数"
   ]
  },
  {
   "cell_type": "markdown",
   "metadata": {},
   "source": [
    "## 素数の列挙\n",
    "\n",
    "[エラトステネスの篩](https://ja.wikipedia.org/wiki/%E3%82%A8%E3%83%A9%E3%83%88%E3%82%B9%E3%83%86%E3%83%8D%E3%82%B9%E3%81%AE%E7%AF%A9) により素数を列挙する。\n",
    "\n",
    "計算量は$\\mathcal{O}(n\\log{\\log{n}})$。"
   ]
  },
  {
   "cell_type": "code",
   "execution_count": null,
   "metadata": {},
   "outputs": [],
   "source": [
    "import math\n",
    "\n",
    "\n",
    "def sieve(n):\n",
    "    \"\"\"\n",
    "    n以下の素数を昇順に列挙する\n",
    "    \"\"\"\n",
    "    is_prime = [True for i in range(n+1)]\n",
    "    m = math.floor(math.sqrt(n) + 1)\n",
    "    for i in range(2, m):\n",
    "        if is_prime[i]:\n",
    "            for j in range(i+i, n+1, i):\n",
    "                is_prime[j] = False\n",
    "    return [i for i in range(2, n+1) if is_prime[i]]"
   ]
  },
  {
   "cell_type": "code",
   "execution_count": 2,
   "metadata": {},
   "outputs": [
    {
     "name": "stdout",
     "output_type": "stream",
     "text": [
      "[2, 3, 5, 7, 11, 13, 17, 19, 23, 29, 31, 37]\n"
     ]
    }
   ],
   "source": [
    "print(sieve(37))"
   ]
  },
  {
   "cell_type": "markdown",
   "metadata": {},
   "source": [
    "## 素因数分解"
   ]
  },
  {
   "cell_type": "markdown",
   "metadata": {},
   "source": [
    "[試し割り法](https://ja.wikipedia.org/wiki/%E8%A9%A6%E3%81%97%E5%89%B2%E3%82%8A%E6%B3%95) により素因数分解を求める。  \n",
    "試し割りには素数テーブルが必要だが、$\\sqrt{n}$ 以下の素数があれば十分。  \n",
    "そのため、素数列挙よりも大きな数を扱うことができる。\n",
    "\n",
    "計算量はクエリ毎に $\\mathcal{O}(\\pi(2^{d/2}))$ 。ここで $d$ は $n$ の2進表現における桁数、$\\pi(x)$ は[素数計数関数](https://ja.wikipedia.org/wiki/%E7%B4%A0%E6%95%B0%E8%A8%88%E6%95%B0%E9%96%A2%E6%95%B0)である。  \n",
    "nが32ビット符号なし整数のとき、試し割りの回数は最大で $\\pi(2^{32/2}) = 6542$ 程度である。"
   ]
  },
  {
   "cell_type": "code",
   "execution_count": 3,
   "metadata": {},
   "outputs": [],
   "source": [
    "import math\n",
    "from collections import defaultdict\n",
    "\n",
    "\n",
    "def prime_factorization_preprocess(n):\n",
    "    return sieve(math.floor(math.sqrt(n) + 1))\n",
    "\n",
    "\n",
    "def prime_factorization(n, primes):\n",
    "    \"\"\"\n",
    "    nの素因数分解を求める\n",
    "    \"\"\"\n",
    "    prime_factors = defaultdict(int)\n",
    "    if n < 2:\n",
    "        return prime_factors\n",
    "    for p in primes:\n",
    "        if p * p > n:\n",
    "            break\n",
    "        while n % p == 0:\n",
    "            prime_factors[p] += 1\n",
    "            n //= p\n",
    "    if n > 1:\n",
    "        prime_factors[n] = 1\n",
    "    return prime_factors"
   ]
  },
  {
   "cell_type": "code",
   "execution_count": 4,
   "metadata": {},
   "outputs": [
    {
     "name": "stdout",
     "output_type": "stream",
     "text": [
      "defaultdict(<class 'int'>, {2: 3, 5: 1, 617: 1})\n",
      "24680\n"
     ]
    }
   ],
   "source": [
    "import math\n",
    "from operator import mul\n",
    "from functools import reduce\n",
    "\n",
    "primes = prime_factorization_preprocess(10**5)\n",
    "factors = prime_factorization(24680, primes)\n",
    "print(factors)\n",
    "print(reduce(mul, [p**n for p, n in factors.items()]))"
   ]
  }
 ],
 "metadata": {
  "file_extension": ".py",
  "kernelspec": {
   "display_name": "Python 3.8.1 64-bit ('py38env': venv)",
   "name": "python38164bitpy38envvenvdb5a67ba2d164185bbc60d730ae2e1eb"
  },
  "language_info": {
   "codemirror_mode": {
    "name": "ipython",
    "version": 3
   },
   "file_extension": ".py",
   "mimetype": "text/x-python",
   "name": "python",
   "nbconvert_exporter": "python",
   "pygments_lexer": "ipython3",
   "version": "3.8.1"
  },
  "mimetype": "text/x-python",
  "name": "python",
  "npconvert_exporter": "python",
  "pygments_lexer": "ipython3",
  "version": 3
 },
 "nbformat": 4,
 "nbformat_minor": 2
}
