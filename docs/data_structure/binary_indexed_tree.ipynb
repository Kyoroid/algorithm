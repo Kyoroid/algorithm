{
 "cells": [
  {
   "cell_type": "markdown",
   "metadata": {},
   "source": [
    "# Binary Indexed Tree (BIT)\n",
    "\n",
    "蟻本 p.159\n",
    "\n",
    "https://www.slideshare.net/hcpc_hokudai/binary-indexed-tree"
   ]
  },
  {
   "cell_type": "markdown",
   "metadata": {},
   "source": [
    "## 概要\n",
    "\n",
    "Binary Indexed Tree (BIT) または Fenwick Tree は、累積和に更新操作を加えたデータ構造。  \n",
    "セグメント木の機能を削り、実装を単純化したものともみなせる。\n",
    "\n",
    "$n$ 個の要素について、次の操作を行うことができる。\n",
    "\n",
    "- 初期化: $\\mathcal{O}(n)$\n",
    "- 要素1つに対する加算: $\\mathcal{O}(\\log{n})$\n",
    "- 部分和を求める問い合わせ: $\\mathcal{O}(\\log{n})$\n",
    "\n",
    "部分和では区間 $[1, r]$ の和が求まる。  \n",
    "任意の区間 $[l, r]$ の和を求めるには、累積和と同様に $[1, r]$ の部分和から $[1, l-1]$ の部分和を引けばよい。"
   ]
  },
  {
   "cell_type": "markdown",
   "metadata": {},
   "source": [
    "## 原理\n",
    "\n",
    "BITの加算操作・更新操作ではセグメント木と同様に、ノード間の移動が発生する。  \n",
    "セグメント木ではこれをビットシフトや再帰で計算していたが、BITではノードの添え字を2進数で表したときの\"1\"であるビットの位置を利用して計算する。\n",
    "\n",
    "ノード間の移動では特に、「最下位が\"1\"であるビットの位置」を順次取得することになる。  \n",
    "これは符号付き2進数を用いて $a \\land -a$ で求めることができる。\n",
    "\n",
    "$$\n",
    "\\begin{eqnarray}\n",
    "6 \\land -6 &=& 0110_{(2)} \\land 1010_{(2)} \\\\\n",
    "&=& 0010_{(2)} \\\\\n",
    "\\end{eqnarray}\n",
    "$$\n",
    "\n",
    "$a \\land -a$ の計算結果はビットが1か所だけ立つ。この場所が「最下位が\"1\"であるビットの位置」となる。"
   ]
  },
  {
   "cell_type": "markdown",
   "metadata": {},
   "source": [
    "## 実装\n",
    "\n",
    "BITは1-indexedで値を保持することに注意。"
   ]
  },
  {
   "cell_type": "code",
   "execution_count": 1,
   "metadata": {},
   "outputs": [],
   "source": [
    "def bit_init(a):\n",
    "    \"\"\"BITの初期化\"\"\"\n",
    "    n = len(a) + 1\n",
    "    bit = [0] * n\n",
    "    for i in range(n-1):\n",
    "        bit_add(bit, i+1, a[i])\n",
    "    return bit\n",
    "\n",
    "def bit_sum(bit, i):\n",
    "    \"\"\"[0, i)の区間和を求める(1-indexed)\"\"\"\n",
    "    s = 0\n",
    "    while i > 0:\n",
    "        s += bit[i]\n",
    "        i -= i & -i\n",
    "    return s\n",
    "\n",
    "def bit_add(bit, i, x):\n",
    "    \"\"\"i番目の値をxだけ増加させる(1-indexed)\"\"\"\n",
    "    while i < len(bit):\n",
    "        bit[i] += x\n",
    "        i += i & -i"
   ]
  },
  {
   "cell_type": "code",
   "execution_count": 2,
   "metadata": {
    "tags": []
   },
   "outputs": [
    {
     "name": "stdout",
     "output_type": "stream",
     "text": [
      "11\n",
      "16\n"
     ]
    }
   ],
   "source": [
    "A = [3, 5, 7, -4, 2, -3, 4]\n",
    "B = bit_init(A)\n",
    "print(bit_sum(B, 4))\n",
    "bit_add(B, 4, 5)\n",
    "bit_add(B, 5, 6)\n",
    "print(bit_sum(B, 4))"
   ]
  }
 ],
 "metadata": {
  "kernelspec": {
   "display_name": "Python 3.8.1 64-bit ('py38env': venv)",
   "name": "python38164bitpy38envvenvdb5a67ba2d164185bbc60d730ae2e1eb"
  },
  "language_info": {
   "codemirror_mode": {
    "name": "ipython",
    "version": 3
   },
   "file_extension": ".py",
   "mimetype": "text/x-python",
   "name": "python",
   "nbconvert_exporter": "python",
   "pygments_lexer": "ipython3",
   "version": "3.8.1"
  }
 },
 "nbformat": 4,
 "nbformat_minor": 2
}
