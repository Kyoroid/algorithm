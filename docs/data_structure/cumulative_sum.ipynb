{
 "cells": [
  {
   "cell_type": "markdown",
   "metadata": {},
   "source": [
    "# 累積和"
   ]
  },
  {
   "cell_type": "markdown",
   "metadata": {},
   "source": [
    "数列の部分和、およびその和を扱うデータ構造を指す。  \n",
    "累積和を利用すると、区間に対するクエリを $\\mathcal{O}(1)$ で処理できることがある。\n",
    "\n",
    "以下、扱う配列は0-indexedとする。  \n",
    "配列 $A = a_0, a_1, \\ldots, a_{n-1}$ の累積和は、区間 $[0, n)$ の 部分和\n",
    "\n",
    "$$\n",
    "s_i = \\sum_{i=0}^{n-1} a_i\n",
    "$$\n",
    "\n",
    "を並べた配列 $S = s_0, s_1, \\ldots, s_{n-1}$ として表現される。"
   ]
  },
  {
   "cell_type": "markdown",
   "metadata": {},
   "source": [
    "## 実装\n",
    "\n",
    "Pythonでは、リストやNumpy配列の累積和を求める関数が実装されている。"
   ]
  },
  {
   "cell_type": "code",
   "execution_count": 1,
   "metadata": {},
   "outputs": [
    {
     "name": "stdout",
     "output_type": "stream",
     "text": [
      "[3, 8, 7, 13, 8, 12]\n"
     ]
    }
   ],
   "source": [
    "from itertools import accumulate\n",
    "\n",
    "A = [3, 5, -1, 6, -5, 4]\n",
    "S = list(accumulate(A))\n",
    "print(S)"
   ]
  },
  {
   "cell_type": "code",
   "execution_count": 2,
   "metadata": {},
   "outputs": [
    {
     "name": "stdout",
     "output_type": "stream",
     "text": [
      "[ 3  8  7 13  8 12]\n"
     ]
    }
   ],
   "source": [
    "import numpy\n",
    "\n",
    "S = numpy.cumsum(A)\n",
    "print(S)"
   ]
  },
  {
   "cell_type": "markdown",
   "metadata": {},
   "source": [
    "和に限らず、条件\n",
    "\n",
    "- 結合法則が成り立つ $(a \\cdot b) \\cdot c = a \\cdot (b \\cdot c)$\n",
    "- 単位元 $e$ をもつ $a \\cdot e = e \\cdot a = a$\n",
    "\n",
    "を満たす二項演算であれば累積を定義できる。  \n",
    "\n",
    "累積ORの実装例を示す。"
   ]
  },
  {
   "cell_type": "code",
   "execution_count": 3,
   "metadata": {},
   "outputs": [
    {
     "name": "stdout",
     "output_type": "stream",
     "text": [
      "['010', '011', '011', '011', '111']\n"
     ]
    }
   ],
   "source": [
    "from itertools import accumulate\n",
    "import operator\n",
    "\n",
    "A = [0b010, 0b011, 0b010, 0b010, 0b101]\n",
    "S = list(accumulate(A, operator.or_))\n",
    "print(['{:03b}'.format(s) for s in S])"
   ]
  },
  {
   "cell_type": "markdown",
   "metadata": {},
   "source": [
    "## 部分和\n",
    "\n",
    "部分列 $[0, k)$ の和は、累積和の $k$ 番目の要素そのものである。  \n",
    "部分列 $[k, n)$ の和は、数列の逆順に対して累積和をとることで求められる。"
   ]
  },
  {
   "cell_type": "code",
   "execution_count": 4,
   "metadata": {},
   "outputs": [
    {
     "name": "stdout",
     "output_type": "stream",
     "text": [
      "[12, 9, 4, 5, -1, 4]\n"
     ]
    }
   ],
   "source": [
    "from itertools import accumulate\n",
    "\n",
    "A = [3, 5, -1, 6, -5, 4]\n",
    "S = list(accumulate(A[::-1]))[::-1]\n",
    "print(S)"
   ]
  },
  {
   "cell_type": "markdown",
   "metadata": {},
   "source": [
    "一部の演算については、任意の連続区間に対する累積を扱うことができる。\n",
    "\n",
    "$[l, r)$ で表される区間 $(l < r)$ の部分和は、累積和 $S$ を用いて次のように表される。\n",
    "\n",
    "$$\n",
    "\\sum_{i=l}^{r-1} a_i =\n",
    "\\left\\{\n",
    "    \\begin{array}{ll}\n",
    "        s_r & (l = 0) \\\\\n",
    "        s_{r-1} - s_{l-1} & (otherwise) \\\\\n",
    "    \\end{array}\n",
    "\\right .\n",
    "$$\n",
    "\n",
    "部分和以外でも、$s_r, s_l$ に対する逆演算 $s_r \\circ s_l$ が定義されていれば部分累積を $\\mathcal{O}(1)$ で求めることができる。乗算やXORが該当する。"
   ]
  },
  {
   "cell_type": "code",
   "execution_count": 5,
   "metadata": {},
   "outputs": [
    {
     "name": "stdout",
     "output_type": "stream",
     "text": [
      "5\n"
     ]
    }
   ],
   "source": [
    "from itertools import accumulate\n",
    "\n",
    "A = [3, 5, -1, 6, -5, 4]\n",
    "S = list(accumulate(A))\n",
    "l = 2\n",
    "r = 4\n",
    "print(S[r-1] - S[l-1] if l > 0 else S[r-1])"
   ]
  }
 ],
 "metadata": {
  "kernelspec": {
   "display_name": "Python 3.8.1 64-bit ('py38env': venv)",
   "name": "python38164bitpy38envvenvdb5a67ba2d164185bbc60d730ae2e1eb"
  },
  "language_info": {
   "codemirror_mode": {
    "name": "ipython",
    "version": 3
   },
   "file_extension": ".py",
   "mimetype": "text/x-python",
   "name": "python",
   "nbconvert_exporter": "python",
   "pygments_lexer": "ipython3",
   "version": "3.8.1"
  }
 },
 "nbformat": 4,
 "nbformat_minor": 2
}
