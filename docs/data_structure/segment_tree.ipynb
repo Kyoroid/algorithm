{
 "cells": [
  {
   "cell_type": "markdown",
   "metadata": {},
   "source": [
    "# セグメント木\n",
    "\n",
    "蟻本p.153\n",
    "\n",
    "https://ikatakos.com/pot/programming_algorithm/data_structure/segment_tree\n",
    "\n",
    "https://algo-logic.info/segment-tree/\n",
    "\n",
    "https://kujira16.hateblo.jp/entry/2016/12/15/000000\n",
    "\n",
    "セグメント木 (Segment Tree) は要素列を表現するデータ構造の1つ。  \n",
    "要素列 $A = a_1 a_2 a_3 \\ldots a_n$ に対して、区間 $A_{[l, r)}$ に対する操作を高速に行うことができる。\n",
    "\n",
    "初めに要素列が用意されていれば、クエリはオンラインであってもよい。  \n",
    "逆にオフラインの場合はクエリをソートすることで、別のデータ構造を用いたさらなる高速化ができる場合がある。"
   ]
  },
  {
   "cell_type": "markdown",
   "metadata": {},
   "source": [
    "## Range Minimum Query (RMQ)\n",
    "\n",
    "要素列をセグメント木に格納すると、区間に対する問い合わせを高速化できる。\n",
    "\n",
    "- 要素1つの更新: $\\mathcal{O}(\\log{n})$\n",
    "- 区間 $[l, r)$ の最小値を求める問い合わせ $\\mathcal{O}(\\log{n})$  \n",
    "\n",
    "RMQの実装を示す。操作用のメソッドは0-indexedだが、データを格納する配列は1-indexedとしていることに注意。  \n",
    "問い合わせ操作には分割統治法を用いている。\n",
    "\n",
    "Range Minimum Query (RMQ) - [AOJ DSL_2_A](http://judge.u-aizu.ac.jp/onlinejudge/description.jsp?id=DSL_2_A)"
   ]
  },
  {
   "cell_type": "code",
   "execution_count": 1,
   "metadata": {},
   "outputs": [],
   "source": [
    "class RMQ():\n",
    "\n",
    "    def __init__(self, size, op=min, init_value=10**8):\n",
    "        \"\"\"初期化\"\"\"\n",
    "        self.size = size\n",
    "        self.op = op\n",
    "        self.init_value = init_value\n",
    "        n = 2 ** ((size-1).bit_length())\n",
    "        treesize = n * 2\n",
    "        st = [init_value for i in range(treesize)]\n",
    "        self.st = st\n",
    "    \n",
    "    @classmethod\n",
    "    def from_array(cls, a, op=min, init_value=10**8):\n",
    "        st = cls(len(a), op=op, init_value=init_value)\n",
    "        for i, x in enumerate(a):\n",
    "            st.update(i, x)\n",
    "        return st\n",
    "    \n",
    "    def update(self, key, value):\n",
    "        \"\"\"値の更新\"\"\"\n",
    "        offset = len(self.st) // 2\n",
    "        k = offset + key\n",
    "        self.st[k] = value\n",
    "        k >>= 1\n",
    "        while k > 0:\n",
    "            self.st[k] = self.op(self.st[k * 2], self.st[k * 2 + 1])\n",
    "            k >>= 1\n",
    "    \n",
    "    def _query(self, a, b, k, l, r):\n",
    "        \"\"\"区間[a, b) に対する累積操作\n",
    "        k: 着目しているノード (1-indexed)\n",
    "        l: 探索区間 st[l, r) の左端 (0-indexed)\n",
    "        r: 探索区間 st[l, r) の右端 (0-indexed)\n",
    "        \"\"\"\n",
    "        if r <= a or b <= l:\n",
    "            return self.init_value\n",
    "        if a <= l and r <= b:\n",
    "            return self.st[k]\n",
    "        mid = (l + r) // 2\n",
    "        lv = self._query(a, b, k * 2, l, mid)\n",
    "        rv = self._query(a, b, k * 2 + 1, mid, r)\n",
    "        return self.op(lv, rv)\n",
    "\n",
    "    def query(self, a, b):\n",
    "        \"\"\"区間[a, b) に対する累積操作\"\"\"\n",
    "        if a > b:\n",
    "            raise ValueError(\"a must be less than equal b.\")\n",
    "        return self._query(a, b, k=1, l=0, r=len(self.st)//2)"
   ]
  },
  {
   "cell_type": "code",
   "execution_count": 2,
   "metadata": {},
   "outputs": [
    {
     "name": "stdout",
     "output_type": "stream",
     "text": [
      "-10\n",
      "[3, -5, 2, -10, 1, 4, 11]\n"
     ]
    }
   ],
   "source": [
    "A = [3, -5, 2, -10, 1, 4, 11]\n",
    "\n",
    "rmq = RMQ.from_array(A)\n",
    "print(rmq.query(3, 7))\n",
    "print([rmq.query(i, i+1) for i in range(len(A))])"
   ]
  },
  {
   "cell_type": "markdown",
   "metadata": {},
   "source": [
    "セグメント木による区間に対する操作は、最小値以外の操作でも利用できる。  \n",
    "具体的には、次の条件を満たせばよい。\n",
    "\n",
    "- 結合法則が成り立つ $(a \\cdot b) \\cdot c = a \\cdot (b \\cdot c)$\n",
    "- 単位元 $e$ をもつ $a \\cdot e = e \\cdot a = a$\n",
    "\n",
    "操作 `op` には二項演算子を、初期値 `init_value` には単位元を指定する。\n",
    "\n",
    "| クエリ | 操作 | 初期値 |\n",
    "|:--|:--|:--:|\n",
    "| 和 | `operator.add` | 0 |\n",
    "| 積 | `operator.mul` | 1 |\n",
    "| 最小値 | `min` | +INF |\n",
    "| 最大値 | `max` | -INF |\n",
    "| AND | `operator.and` | 1 |\n",
    "| OR | `operator.and` | 0 |\n",
    "| XOR | `operator.xor` | 0 |\n",
    "| GCD | `math.gcd` | 0 |\n",
    "| LCM | &#x2015; | 1 |"
   ]
  },
  {
   "cell_type": "markdown",
   "metadata": {},
   "source": [
    "## Range Add Query (RAQ)\n",
    "\n",
    "区間に対する更新操作を高速化することもできる。\n",
    "\n",
    "- 区間に対する加算 $\\mathcal{O}(\\log{n})$\n",
    "- 値の取得 $\\mathcal{O}(\\log{n})$"
   ]
  },
  {
   "cell_type": "markdown",
   "metadata": {},
   "source": [
    "### アルゴリズム\n",
    "\n",
    "RMQと異なり、区間ノード (内部ノード) には区間全体に加算すべき値を持たせる。\n",
    "\n",
    "加算処理は次の通り。 根から葉に向かって処理する。\n",
    "\n",
    "1. ノード $k$ を根とする。\n",
    "1. 以下の処理を再帰的に行う(*) 。\n",
    "    1. ノード $k$ が葉ならば、葉ノードに直接加算して終了。\n",
    "    1. ノード $k$ が区間ノードのとき\n",
    "        1. $k$ が表す区間 $[l, r)$ が $[a, b)$ に完全に含まれていれば、区間ノードに直接加算して終了。\n",
    "        1. 部分的に含まれていれば、区間を二分する。子ノード $2k, 2k+1$ をノードとして(*)に戻る。\n",
    "        1. まったく含まれていなければ、区間を破棄する。\n",
    "\n",
    "値の取得処理は次の通り。葉から根に向かって処理する。\n",
    "\n",
    "1. ノード $k$ を葉とする。\n",
    "1. 初期値 $v=0$ とおく。\n",
    "1. 以下の処理を再帰的に行う(*) 。\n",
    "    1. ノードの値を $v$ に加算する。\n",
    "    1. ノードが根であれば $v$ を出力して終了。\n",
    "    1. 親ノード $k/2$ をノードとして(*)に戻る。\n",
    "\n",
    "Range Add Query (RAQ) - [AOJ DSL_2_E](http://judge.u-aizu.ac.jp/onlinejudge/description.jsp?id=DSL_2_E)"
   ]
  },
  {
   "cell_type": "code",
   "execution_count": 3,
   "metadata": {},
   "outputs": [],
   "source": [
    "class RAQ():\n",
    "\n",
    "    def __init__(self, size):\n",
    "        \"\"\"初期化\"\"\"\n",
    "        self.size = size\n",
    "        n = 2 ** ((size-1).bit_length())\n",
    "        treesize = n * 2\n",
    "        self.st = [0 for i in range(treesize)]\n",
    "    \n",
    "    @classmethod\n",
    "    def from_array(cls, a):\n",
    "        st = cls(len(a))\n",
    "        for i, x in enumerate(a):\n",
    "            st.add(i, i+1, x)\n",
    "        return st\n",
    "    \n",
    "    def _add(self, a, b, value, k, l, r):\n",
    "        \"\"\"区間[a, b) に対する加算\n",
    "        k: 着目しているノード (1-indexed)\n",
    "        l: 探索区間 st[l, r) の左端 (0-indexed)\n",
    "        r: 探索区間 st[l, r) の右端 (0-indexed)\n",
    "        \"\"\"\n",
    "        if r <= a or b <= l:\n",
    "            return\n",
    "        if l == r - 1:\n",
    "            self.st[k] += value\n",
    "            return\n",
    "        if a <= l and r <= b:\n",
    "            self.st[k] += value\n",
    "            return\n",
    "        mid = (l + r) // 2\n",
    "        self._add(a, b, value, k * 2, l, mid)\n",
    "        self._add(a, b, value, k * 2 + 1, mid, r)\n",
    "\n",
    "    def add(self, a, b, value):\n",
    "        \"\"\"区間[a, b) に対する加算\"\"\"\n",
    "        if a > b:\n",
    "            raise ValueError(\"a must be less than equal b.\")\n",
    "        n = len(self.st) // 2\n",
    "        return self._add(a, b, value, k=1, l=0, r=n)\n",
    "\n",
    "    def get(self, key):\n",
    "        \"\"\"値の取得\"\"\"\n",
    "        offset = len(self.st) // 2\n",
    "        k = offset + key\n",
    "        v = self.st[k]\n",
    "        k >>= 1\n",
    "        while k > 0:\n",
    "            v += self.st[k]\n",
    "            k >>= 1\n",
    "        return v"
   ]
  },
  {
   "cell_type": "code",
   "execution_count": 4,
   "metadata": {},
   "outputs": [
    {
     "name": "stdout",
     "output_type": "stream",
     "text": [
      "[8, -5, 2, -10, 1, 4, 11]\n",
      "[8, -5, 7, -5, 6, 4, 11]\n"
     ]
    }
   ],
   "source": [
    "A = [8, -5, 2, -10, 1, 4, 11]\n",
    "\n",
    "raq = RAQ.from_array(A)\n",
    "print([raq.get(i) for i in range(len(A))])\n",
    "raq.add(2, 5, 5)\n",
    "print([raq.get(i) for i in range(len(A))])"
   ]
  }
 ],
 "metadata": {
  "kernelspec": {
   "display_name": "Python 3.8.1 64-bit ('py38env': venv)",
   "name": "python38164bitpy38envvenvdb5a67ba2d164185bbc60d730ae2e1eb"
  },
  "language_info": {
   "codemirror_mode": {
    "name": "ipython",
    "version": 3
   },
   "file_extension": ".py",
   "mimetype": "text/x-python",
   "name": "python",
   "nbconvert_exporter": "python",
   "pygments_lexer": "ipython3",
   "version": "3.8.1"
  }
 },
 "nbformat": 4,
 "nbformat_minor": 2
}
