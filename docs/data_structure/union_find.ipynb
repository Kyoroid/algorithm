{
 "cells": [
  {
   "cell_type": "markdown",
   "metadata": {},
   "source": [
    "# Union-Find\n",
    "\n",
    "蟻本p.81"
   ]
  },
  {
   "cell_type": "markdown",
   "metadata": {},
   "source": [
    "## Union-Find\n",
    "\n",
    "グループを表すデータ構造の1つ。以下の操作を高速に実現する。\n",
    "\n",
    "- ある要素がどのグループに属しているかを調べる (find)\n",
    "- 2つのグループを併合する (union)"
   ]
  },
  {
   "cell_type": "markdown",
   "metadata": {},
   "source": [
    "## 原理\n",
    "\n",
    "Union-Find木では、できるだけ木の高さが小さくなるようにノードの繋ぎ変えを行うことで、検索の高速化を実現している。  \n",
    "例えば、次のような $6$ つの要素に対してunion, findそれぞれの操作を考えてみる。\n",
    "\n",
    "![union_find_init](images/union_find_init.svg)\n",
    "\n",
    "unionでは、後述するfind操作によりそれぞれの親を調べた後、一方の親にまとめる。  \n",
    "この状態ではまだ、木の高さは最適化されていないことに注意。\n",
    "\n",
    "![union_find_union](images/union_find_union.svg)\n",
    "\n",
    "findでは、ノードの親を調べる。  \n",
    "このとき、findを再帰的に呼び出す過程で、通過したノードの親を繋ぎ変えるようにする。  \n",
    "この繋ぎ変えにより、findの呼び出しで通過した部分木の高さは高々1になり、次回以降のfindが高速化される。\n",
    "\n",
    "![union_find_find](images/union_find_find.svg)"
   ]
  },
  {
   "cell_type": "markdown",
   "metadata": {},
   "source": [
    "## 実装"
   ]
  },
  {
   "cell_type": "code",
   "execution_count": 1,
   "metadata": {},
   "outputs": [],
   "source": [
    "class UnionFind():\n",
    "    \"\"\"Union-Find木の実装\n",
    "    \"\"\"\n",
    "\n",
    "    def __init__(self, n):\n",
    "        self.n = n\n",
    "        self.parent = [x for x in range(n)]\n",
    "\n",
    "    def find(self, x):\n",
    "        \"\"\"要素xが所属するグループを返す\n",
    "        \"\"\"\n",
    "        if self.parent[x] == x:\n",
    "            return x\n",
    "        else:\n",
    "            self.parent[x] = self.find(self.parent[x])\n",
    "            return self.parent[x]\n",
    "\n",
    "    def union(self, x, y):\n",
    "        \"\"\"要素x, yがそれぞれ所属するグループを併合する\n",
    "        \"\"\"\n",
    "        x = self.find(x)\n",
    "        y = self.find(y)\n",
    "        if x > y:\n",
    "            x, y = y, x\n",
    "        self.parent[y] = x\n",
    "\n",
    "    def parents(self):\n",
    "        \"\"\"全てのノードについて、対応する親ノードを返す\"\"\"\n",
    "        return [self.find(x) for x in range(self.n)]"
   ]
  },
  {
   "cell_type": "code",
   "execution_count": 2,
   "metadata": {
    "tags": []
   },
   "outputs": [
    {
     "name": "stdout",
     "output_type": "stream",
     "text": [
      "[0, 0, 2, 3, 2, 2]\n"
     ]
    }
   ],
   "source": [
    "N = 6\n",
    "uf = UnionFind(N)\n",
    "uf.union(0, 1)\n",
    "uf.union(5, 4)\n",
    "uf.union(2, 4)\n",
    "print(uf.parents())"
   ]
  }
 ],
 "metadata": {
  "kernelspec": {
   "display_name": "Python 3.8.1 64-bit ('py38env': venv)",
   "name": "python38164bitpy38envvenvdb5a67ba2d164185bbc60d730ae2e1eb"
  },
  "language_info": {
   "codemirror_mode": {
    "name": "ipython",
    "version": 3
   },
   "file_extension": ".py",
   "mimetype": "text/x-python",
   "name": "python",
   "nbconvert_exporter": "python",
   "pygments_lexer": "ipython3",
   "version": "3.8.1"
  }
 },
 "nbformat": 4,
 "nbformat_minor": 2
}
