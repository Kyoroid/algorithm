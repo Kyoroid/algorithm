{
 "cells": [
  {
   "cell_type": "markdown",
   "metadata": {},
   "source": [
    "# 倍数列挙\n",
    "\n",
    "Code: [multiple_and_divisor.py](https://github.com/Kyoroid/algorithm/blob/master/lib/integer/multiple_and_divisor.py)  \n",
    "Test: [test_multiple_and_divisor.py](https://github.com/Kyoroid/algorithm/blob/master/lib/integer/test_multiple_and_divisor.py)"
   ]
  },
  {
   "cell_type": "markdown",
   "metadata": {},
   "source": [
    "## 倍数とは\n",
    "\n",
    "$a$ の倍数は、$a$ を整数倍した数として定義される。\n",
    "\n",
    "$$\n",
    "\\cdots, -3a, -2a, -a, 0, a, 2a, 3a, \\cdots\n",
    "$$"
   ]
  },
  {
   "cell_type": "markdown",
   "metadata": {},
   "source": [
    "## 実装\n",
    "\n",
    "### 概要\n",
    "\n",
    "区間 $[0, n]$ に含まれる倍数を列挙する。\n",
    "\n",
    "### 実装のポイント\n",
    " \n",
    "$a$ から始めて $a$ ずつ足していけばよい。$n$ 以下の $a$ の正の倍数は $\\lfloor \\frac{n}{a} \\rfloor$ 個なので、$a$ が大きいほど短時間で列挙できる。\n",
    "\n",
    "### 計算量\n",
    "\n",
    "- `list_multiples(n, a)` $\\mathcal{O}(\\frac{n}{a})$"
   ]
  },
  {
   "cell_type": "markdown",
   "metadata": {},
   "source": [
    "## コード"
   ]
  },
  {
   "cell_type": "code",
   "execution_count": 1,
   "metadata": {
    "execution": {
     "iopub.execute_input": "2021-02-15T19:33:58.933095Z",
     "iopub.status.busy": "2021-02-15T19:33:58.933095Z",
     "iopub.status.idle": "2021-02-15T19:33:58.937093Z",
     "shell.execute_reply": "2021-02-15T19:33:58.938126Z"
    }
   },
   "outputs": [],
   "source": [
    "from __future__ import annotations\n",
    "\n",
    "\n",
    "def list_multiples(a: int, n: int) -> list[int]:\n",
    "    multiples = []\n",
    "    for a in range(a, n+1, a):\n",
    "        multiples.append(a)\n",
    "    return multiples"
   ]
  },
  {
   "cell_type": "markdown",
   "metadata": {},
   "source": [
    "## 使用例"
   ]
  },
  {
   "cell_type": "code",
   "execution_count": 2,
   "metadata": {
    "execution": {
     "iopub.execute_input": "2021-02-15T19:33:58.948145Z",
     "iopub.status.busy": "2021-02-15T19:33:58.947113Z",
     "iopub.status.idle": "2021-02-15T19:33:58.973412Z",
     "shell.execute_reply": "2021-02-15T19:33:58.974401Z"
    }
   },
   "outputs": [
    {
     "name": "stdout",
     "output_type": "stream",
     "text": [
      "[3, 6, 9, 12, 15, 18, 21, 24]\n"
     ]
    }
   ],
   "source": [
    "multiples = list_multiples(3, 24)\n",
    "print(multiples)"
   ]
  }
 ],
 "metadata": {
  "kernelspec": {
   "display_name": "Python 3",
   "language": "python",
   "name": "python3"
  },
  "language_info": {
   "codemirror_mode": {
    "name": "ipython",
    "version": 3
   },
   "file_extension": ".py",
   "mimetype": "text/x-python",
   "name": "python",
   "nbconvert_exporter": "python",
   "pygments_lexer": "ipython3",
   "version": "3.8.1"
  }
 },
 "nbformat": 4,
 "nbformat_minor": 2
}
