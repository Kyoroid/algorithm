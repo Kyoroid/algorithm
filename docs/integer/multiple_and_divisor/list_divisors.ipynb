{
 "cells": [
  {
   "cell_type": "markdown",
   "metadata": {},
   "source": [
    "# 約数列挙\n",
    "\n",
    "Code: [multiple_and_divisor.py](https://github.com/Kyoroid/algorithm/blob/master/lib/integer/multiple_and_divisor.py)  \n",
    "Test: [test_multiple_and_divisor.py](https://github.com/Kyoroid/algorithm/blob/master/test/integer/test_multiple_and_divisor.py)"
   ]
  },
  {
   "cell_type": "markdown",
   "metadata": {},
   "source": [
    "## 約数とは\n",
    "\n",
    "整数 $n$ を割り切る整数のこと。  \n",
    "例えば $n=12$ のとき、約数は $1, 2, 3, 4, 6, 12$ である。"
   ]
  },
  {
   "cell_type": "markdown",
   "metadata": {},
   "source": [
    "## 実装\n",
    "\n",
    "### 概要\n",
    "\n",
    "[試し割り法](https://ja.wikipedia.org/wiki/%E8%A9%A6%E3%81%97%E5%89%B2%E3%82%8A%E6%B3%95) (Wikipedia)\n",
    "\n",
    "約数を列挙する。区間 $[1, n]$ の整数を使って実際に $n$ を割ってみる。  "
   ]
  },
  {
   "cell_type": "markdown",
   "metadata": {},
   "source": [
    "### 実装のポイント\n",
    "\n",
    "$n$ を $a$ で割り切れるか試すとき、同時に $n/a$ が得られる。これも $n$ の約数となる。  \n",
    "そのため、実際には 区間  $[1, \\sqrt{n}]$ に含まれる整数だけを試せば十分。\n",
    "\n",
    "### 計算量\n",
    "\n",
    "- `list_divisors(n, sorted=False)` $\\mathcal{O}(\\sqrt{n})$"
   ]
  },
  {
   "cell_type": "markdown",
   "metadata": {},
   "source": [
    "## コード"
   ]
  },
  {
   "cell_type": "code",
   "execution_count": 1,
   "metadata": {
    "execution": {
     "iopub.execute_input": "2021-02-27T18:32:27.047454Z",
     "iopub.status.busy": "2021-02-27T18:32:27.029291Z",
     "iopub.status.idle": "2021-02-27T18:32:27.066058Z",
     "shell.execute_reply": "2021-02-27T18:32:27.066058Z"
    }
   },
   "outputs": [],
   "source": [
    "from __future__ import annotations\n",
    "\n",
    "\n",
    "def list_divisors(n: int, sorted: bool = False) -> list[int]:\n",
    "    divisors = []\n",
    "    i = 1\n",
    "    while i * i <= n:\n",
    "        if n % i == 0:\n",
    "            divisors.append(i)\n",
    "            if i * i != n:\n",
    "                divisors.append(n // i)\n",
    "        i += 1\n",
    "    if sorted:\n",
    "        divisors.sort()\n",
    "    return divisors"
   ]
  },
  {
   "cell_type": "markdown",
   "metadata": {},
   "source": [
    "## 使用例"
   ]
  },
  {
   "cell_type": "code",
   "execution_count": 2,
   "metadata": {
    "execution": {
     "iopub.execute_input": "2021-02-27T18:32:27.066058Z",
     "iopub.status.busy": "2021-02-27T18:32:27.066058Z",
     "iopub.status.idle": "2021-02-27T18:32:27.081438Z",
     "shell.execute_reply": "2021-02-27T18:32:27.081438Z"
    }
   },
   "outputs": [
    {
     "name": "stdout",
     "output_type": "stream",
     "text": [
      "[1, 12, 2, 6, 3, 4]\n"
     ]
    }
   ],
   "source": [
    "divisors = list_divisors(12)\n",
    "print(divisors)"
   ]
  },
  {
   "cell_type": "code",
   "execution_count": 3,
   "metadata": {
    "execution": {
     "iopub.execute_input": "2021-02-27T18:32:27.081438Z",
     "iopub.status.busy": "2021-02-27T18:32:27.081438Z",
     "iopub.status.idle": "2021-02-27T18:32:27.097283Z",
     "shell.execute_reply": "2021-02-27T18:32:27.097283Z"
    }
   },
   "outputs": [
    {
     "name": "stdout",
     "output_type": "stream",
     "text": [
      "[1, 2, 3, 4, 6, 12]\n"
     ]
    }
   ],
   "source": [
    "divisors = list_divisors(12, sorted=True)\n",
    "print(divisors)"
   ]
  }
 ],
 "metadata": {
  "kernelspec": {
   "display_name": "Python 3",
   "language": "python",
   "name": "python3"
  },
  "language_info": {
   "codemirror_mode": {
    "name": "ipython",
    "version": 3
   },
   "file_extension": ".py",
   "mimetype": "text/x-python",
   "name": "python",
   "nbconvert_exporter": "python",
   "pygments_lexer": "ipython3",
   "version": "3.8.1"
  }
 },
 "nbformat": 4,
 "nbformat_minor": 2
}
