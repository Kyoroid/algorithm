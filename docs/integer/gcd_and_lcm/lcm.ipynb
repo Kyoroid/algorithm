{
 "cells": [
  {
   "cell_type": "markdown",
   "metadata": {},
   "source": [
    "# 最小公倍数\n",
    "\n",
    "Code: [gcd_and_lcm.py](https://github.com/Kyoroid/algorithm/blob/master/lib/integer/gcd_and_lcm.py)  \n",
    "Test: [test_gcd_and_lcm.py](https://github.com/Kyoroid/algorithm/blob/master/test/integer/test_gcd_and_lcm.py)"
   ]
  },
  {
   "cell_type": "markdown",
   "metadata": {},
   "source": [
    "## 最小公倍数とは\n",
    "\n",
    "[Least common multiple](https://en.wikipedia.org/wiki/Least_common_multiple) (Wikipedea)\n",
    "\n",
    "2つ以上の正の整数について、それぞれの正の倍数から共通する数を取り出したときの、最も小さな数のことをいう。  \n",
    "例えば、 $12, 18, 24$ の最小公倍数は $72$ である。実際、それぞれの倍数を列挙すると\n",
    "\n",
    "- 12の倍数 $12, 24, 36, 48, 60, \\mathbf{72}, \\ldots$\n",
    "- 18の倍数 $18, 36, 54, \\mathbf{72}, 90, \\ldots$\n",
    "- 24の倍数 $24, 48, \\mathbf{72}, 96, \\ldots$\n",
    "\n",
    "となり、共通の倍数のうち最小の数は $72$ である。"
   ]
  },
  {
   "cell_type": "markdown",
   "metadata": {},
   "source": [
    "## 法則\n",
    "\n",
    "最小公倍数は交換則と結合則が成り立つ。\n",
    "\n",
    "- 交換則 $\\mathrm{lcm}(a, b) = \\mathrm{lcm}(b, a)$\n",
    "- 結合則 $\\mathrm{lcm}(a, \\mathrm{lcm}(b, c)) = \\mathrm{lcm}(\\mathrm{lcm}(a, b), c)$\n",
    "\n",
    "また、2数の最大公約数と最小公倍数には次の関係がある。これは3数以上では成り立たない。\n",
    "\n",
    "- $ab = \\gcd(a, b) \\cdot \\mathrm{lcm}(a, b)$\n",
    "\n",
    "正の倍数に $0$ が含まれないので、 $0$ を含む最小公倍数は定義されない。  \n",
    "ただし、便宜上次のように定義することがある。\n",
    "\n",
    "- $\\mathrm{lcm}(a, 0) = 0$"
   ]
  },
  {
   "cell_type": "markdown",
   "metadata": {},
   "source": [
    "## 実装\n",
    "\n",
    "### 概要\n",
    "\n",
    "複数の整数の最小公倍数を求める。\n",
    "\n",
    "### 実装のポイント\n",
    "\n",
    "最小公倍数に関して、 $0$ を含む定義を採用した。\n",
    "\n",
    "### 計算量\n",
    "\n",
    "- `lcm(a, b)` $\\mathcal{O}(\\log{\\min(a, b)})$"
   ]
  },
  {
   "cell_type": "markdown",
   "metadata": {},
   "source": [
    "## コード"
   ]
  },
  {
   "cell_type": "code",
   "execution_count": 1,
   "metadata": {
    "execution": {
     "shell.execute_reply": "2021-05-23T07:54:32.534463Z"
    }
   },
   "outputs": [],
   "source": [
    "import math\n",
    "\n",
    "\n",
    "def lcm(a: int, *args: int) -> int:\n",
    "    for b in args:\n",
    "        if b == 0:\n",
    "            a = 0\n",
    "        else:\n",
    "            a = a * b // math.gcd(a, b)\n",
    "    return a"
   ]
  },
  {
   "cell_type": "markdown",
   "metadata": {},
   "source": [
    "## 使用例"
   ]
  },
  {
   "cell_type": "code",
   "execution_count": 2,
   "metadata": {
    "execution": {
     "iopub.execute_input": "2021-05-23T07:54:36.554892Z",
     "iopub.status.busy": "2021-05-23T07:54:36.552897Z",
     "iopub.status.idle": "2021-05-23T07:54:36.579653Z",
     "shell.execute_reply": "2021-05-23T07:54:36.578656Z"
    }
   },
   "outputs": [
    {
     "name": "stdout",
     "output_type": "stream",
     "text": [
      "72\n"
     ]
    }
   ],
   "source": [
    "l = lcm(12, 18, 24)\n",
    "print(l)"
   ]
  }
 ],
 "metadata": {
  "kernelspec": {
   "display_name": "Python 3",
   "language": "python",
   "name": "python3"
  },
  "language_info": {
   "codemirror_mode": {
    "name": "ipython",
    "version": 3
   },
   "file_extension": ".py",
   "mimetype": "text/x-python",
   "name": "python",
   "nbconvert_exporter": "python",
   "pygments_lexer": "ipython3",
   "version": "3.8.10"
  }
 },
 "nbformat": 4,
 "nbformat_minor": 2
}
