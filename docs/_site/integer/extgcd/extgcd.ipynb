{
 "cells": [
  {
   "cell_type": "markdown",
   "metadata": {},
   "source": [
    "# 一次不定方程式の整数解\n",
    "\n",
    "Code: [extgcd.py](https://github.com/Kyoroid/algorithm/blob/master/lib/integer/extgcd.py)  \n",
    "Test: [test_extgcd.py](https://github.com/Kyoroid/algorithm/blob/master/test/integer/test_extgcd.py)"
   ]
  },
  {
   "cell_type": "markdown",
   "metadata": {},
   "source": [
    "## 一次不定方程式とは\n",
    "\n",
    "$8x + 6y = 10$ などのように、変数の数が2つ以上の一次方程式のことをいう。\n",
    "\n",
    "一次不定方程式の整数解を求める方法として、拡張ユークリッドの互除法が知られている。"
   ]
  },
  {
   "cell_type": "markdown",
   "metadata": {},
   "source": [
    "## ベズーの等式\n",
    "\n",
    "### 概要\n",
    "\n",
    "[Bézout's identity](https://en.wikipedia.org/wiki/B%C3%A9zout%27s_identity) (Wikipedia)\n",
    "\n",
    "$a, b$ を整数とし、$ax + by = \\gcd(a, b)$ という一次不定方程式を考える。このとき次が成り立つ。\n",
    "\n",
    "- $\\gcd(a, b)$ は $ax + by$ の形で表現できる最小の正の整数である。\n",
    "- どのような整数解 $(x, y)$ に対しても、 $ax + by$ は $\\gcd(a, b)$ の倍数になる。\n",
    "\n",
    "この定理をベズーの等式という。  \n",
    "これにより、一次不定方程式に整数解があるかどうかを調べることができる。\n",
    "\n",
    "### 整数解がある場合\n",
    "\n",
    "$8x + 6y = 10$ は整数解をもつ。\n",
    "\n",
    "$\\gcd(8, 6) = 2$ より、 $8x + 6y$ は $2$ の倍数。  \n",
    "右辺の $10$ は $2$ の倍数なので、この一次不定方程式は整数解をもつ。  \n",
    "実際、$(x, y) = (2, -1)$ や $(x, y) = (5, -5)$ が整数解となる。  \n",
    "\n",
    "整数解がある場合、整数解の候補は無限に存在する。\n",
    "\n",
    "### 整数解がない場合\n",
    "\n",
    "$8x + 6y = 3$ は整数解をもたない。\n",
    "\n",
    "右辺が $2$ の倍数でなければ整数解は存在しない。"
   ]
  },
  {
   "cell_type": "markdown",
   "metadata": {},
   "source": [
    "## 拡張ユークリッドの互除法\n",
    "\n",
    "[Extended Euclidean algorithm](https://en.wikipedia.org/wiki/Extended_Euclidean_algorithm) (Wikipedia)\n",
    "\n",
    "$ax + by = gcd(a, b)$ の整数解の1つを求めるアルゴリズム。  \n",
    "$a = bp + q$ とおくと左辺は\n",
    "\n",
    "$$\n",
    "\\begin{eqnarray}\n",
    "&& (bp + q)x + by \\\\\n",
    "&=& b(px + y) + qx\n",
    "\\end{eqnarray}\n",
    "$$\n",
    "\n",
    "と式変形できる。よって  $ax + by = \\gcd(a, b)$ の整数解 $(x, y)$ を求めるには\n",
    "\n",
    "1. $b(px + y) + qx = \\gcd(a, b)$ の整数解 $(x', y') = (px + y, q)$ を求める\n",
    "2. $(x, y) = (y', x' - py')$ を計算する\n",
    "\n",
    "と手順を定め、手順1を再帰的に実行すればよい。"
   ]
  },
  {
   "cell_type": "markdown",
   "metadata": {},
   "source": [
    "## 実装\n",
    "\n",
    "### 概要\n",
    "\n",
    "一次不定方程式 $ax + by = c$ の整数解の1つを求める。\n",
    "\n",
    "例えば $8x + 6y = 10$ の整数解の1つを求めるには以下の手順を踏む。  \n",
    "\n",
    "1. 拡張ユークリッドの互除法で $8x + 6y = 2$ の整数解の1つを求める。 $(x, y) = (1, -1)$ が求まる。\n",
    "2. ベズーの等式で解の存在判定を行う。 $\\gcd(8, 6) = 2$ であり、右辺 $10$ は $2$ の倍数なので、整数解が存在する。\n",
    "3. 手順1で得られた整数解を $10 / 2 = 5$ 倍すると、$8x + 6y = 10$ の整数解の1つが得られる。 $(x, y) = (5, -5)$ が求まる。\n",
    "\n",
    "手順3で整数解を $c/gcd(a, b)$ 倍しているが、これは直線 $ax + by = \\gcd(a,b)$ を拡大変換することに相当する。\n",
    "\n",
    "### 実装のポイント\n",
    "\n",
    "拡張ユークリッドの互除法では整数解だけでなく最大公約数も求まるので、手順2における解の存在判定にはそれを使えばよい。\n",
    "\n",
    "### 計算量\n",
    "\n",
    "- `extgcd(a, b)` $\\mathcal{O}(\\log{\\min(a, b)})$\n",
    "- `solve_linear_equation(a, b, c)` $\\mathcal{O}(\\log{\\min(a, b)})$"
   ]
  },
  {
   "cell_type": "markdown",
   "metadata": {},
   "source": [
    "## コード"
   ]
  },
  {
   "cell_type": "code",
   "execution_count": 1,
   "metadata": {
    "execution": {
     "iopub.execute_input": "2021-02-27T18:32:13.183669Z",
     "iopub.status.busy": "2021-02-27T18:32:13.173674Z",
     "iopub.status.idle": "2021-02-27T18:32:13.207648Z",
     "shell.execute_reply": "2021-02-27T18:32:13.207648Z"
    }
   },
   "outputs": [],
   "source": [
    "from __future__ import annotations\n",
    "\n",
    "\n",
    "def extgcd(a: int, b: int) -> tuple[int, int, int]:\n",
    "    if b == 0:\n",
    "        return (a, 1, 0) if a > 0 else (0, 0, 0)\n",
    "    p, q = divmod(a, b)\n",
    "    d, x, y = extgcd(b, q)\n",
    "    return (d, y, x - p * y)\n",
    "\n",
    "\n",
    "def solve_linear_equation(a: int, b: int, c: int) -> tuple[bool, int, int]:\n",
    "    d, x, y = extgcd(a, b)\n",
    "    p, q = divmod(c, d)\n",
    "    if q > 0:\n",
    "        return (False, 0, 0)\n",
    "    else:\n",
    "        return (True, x * p, y * p)"
   ]
  },
  {
   "cell_type": "markdown",
   "metadata": {},
   "source": [
    "## 使用例"
   ]
  },
  {
   "cell_type": "code",
   "execution_count": 2,
   "metadata": {
    "execution": {
     "iopub.execute_input": "2021-02-27T18:32:13.213679Z",
     "iopub.status.busy": "2021-02-27T18:32:13.212648Z",
     "iopub.status.idle": "2021-02-27T18:32:13.224648Z",
     "shell.execute_reply": "2021-02-27T18:32:13.223654Z"
    }
   },
   "outputs": [
    {
     "name": "stdout",
     "output_type": "stream",
     "text": [
      "5 -5\n"
     ]
    }
   ],
   "source": [
    "gcd, x, y = solve_linear_equation(8, 6, 10)\n",
    "print(x, y)"
   ]
  }
 ],
 "metadata": {
  "kernelspec": {
   "display_name": "py38env",
   "language": "python",
   "name": "py38env"
  },
  "language_info": {
   "codemirror_mode": {
    "name": "ipython",
    "version": 3
   },
   "file_extension": ".py",
   "mimetype": "text/x-python",
   "name": "python",
   "nbconvert_exporter": "python",
   "pygments_lexer": "ipython3",
   "version": "3.8.1"
  }
 },
 "nbformat": 4,
 "nbformat_minor": 2
}
