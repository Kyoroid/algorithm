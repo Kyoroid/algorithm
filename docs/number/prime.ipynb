{
 "cells": [
  {
   "cell_type": "markdown",
   "metadata": {},
   "source": [
    "# 素数"
   ]
  },
  {
   "cell_type": "markdown",
   "metadata": {},
   "source": [
    "## 素数の列挙\n",
    "\n",
    "[エラトステネスの篩](https://ja.wikipedia.org/wiki/%E3%82%A8%E3%83%A9%E3%83%88%E3%82%B9%E3%83%86%E3%83%8D%E3%82%B9%E3%81%AE%E7%AF%A9) により素数を列挙する。\n",
    "\n",
    "計算量は$\\mathcal{O}(N\\log{\\log{N}})$。"
   ]
  },
  {
   "cell_type": "code",
   "execution_count": 1,
   "metadata": {},
   "outputs": [],
   "source": [
    "def sieve(n):\n",
    "    \"\"\"\n",
    "    n以下の素数を昇順に列挙する\n",
    "    \"\"\"\n",
    "    factor = [-1 for i in range(n+1)]\n",
    "    for i in range(2, n+1):\n",
    "        if factor[i] == -1:\n",
    "            for j in range(i, n+1, i):\n",
    "                factor[j] = i\n",
    "    return [i for i in range(2, n+1) if factor[i] == i]"
   ]
  },
  {
   "cell_type": "code",
   "execution_count": 2,
   "metadata": {},
   "outputs": [
    {
     "name": "stdout",
     "output_type": "stream",
     "text": [
      "[2, 3, 5, 7, 11, 13, 17, 19, 23, 29, 31, 37]\n"
     ]
    }
   ],
   "source": [
    "print(sieve(37))"
   ]
  },
  {
   "cell_type": "markdown",
   "metadata": {},
   "source": [
    "## 素因数分解"
   ]
  },
  {
   "cell_type": "markdown",
   "metadata": {},
   "source": [
    "[試し割り法](https://ja.wikipedia.org/wiki/%E8%A9%A6%E3%81%97%E5%89%B2%E3%82%8A%E6%B3%95) により素因数分解を求める。  \n",
    "事前にエラトステネスの篩で最小の素因数を列挙しておくことで、試し割り法において割り切れない試行を排除できる。\n",
    "\n",
    "計算量は事前計算 (最小の素因数の列挙) に$\\mathcal{O}(N\\log{\\log{N}})$、クエリ毎に$\\mathcal{O}(\\log{N})$。"
   ]
  },
  {
   "cell_type": "code",
   "execution_count": 3,
   "metadata": {},
   "outputs": [],
   "source": [
    "def prime_factorization_preprocess(n):\n",
    "    \"\"\"\n",
    "    エラトステネスの篩を用いて、最小の素因数を列挙する\n",
    "    \"\"\"\n",
    "    prime_factors = [-1 for i in range(n+1)]\n",
    "    for i in range(2, n+1):\n",
    "        if prime_factors[i] == -1:\n",
    "            for j in range(i, n+1, i):\n",
    "                prime_factors[j] = i\n",
    "    return prime_factors\n",
    "\n",
    "\n",
    "def prime_factorization(x, prime_factors):\n",
    "    \"\"\"\n",
    "    試し割り法により、数値の素因数分解を求める\n",
    "    \"\"\"\n",
    "    factors = list()\n",
    "    while x > 1:\n",
    "        factors.append(prime_factors[x])\n",
    "        x //= prime_factors[x]\n",
    "    return factors"
   ]
  },
  {
   "cell_type": "code",
   "execution_count": 4,
   "metadata": {},
   "outputs": [
    {
     "name": "stdout",
     "output_type": "stream",
     "text": [
      "{617: 1, 5: 1, 2: 3}\n"
     ]
    }
   ],
   "source": [
    "from collections import Counter\n",
    "\n",
    "prime_factors = prime_factorization_preprocess(10**5)\n",
    "factors = prime_factorization(24680, prime_factors)\n",
    "print(dict(Counter(factors)))"
   ]
  }
 ],
 "metadata": {
  "file_extension": ".py",
  "kernelspec": {
   "display_name": "Python 3.8.1 64-bit ('py38env': venv)",
   "name": "python38164bitpy38envvenvdb5a67ba2d164185bbc60d730ae2e1eb"
  },
  "language_info": {
   "codemirror_mode": {
    "name": "ipython",
    "version": 3
   },
   "file_extension": ".py",
   "mimetype": "text/x-python",
   "name": "python",
   "nbconvert_exporter": "python",
   "pygments_lexer": "ipython3",
   "version": "3.8.1"
  },
  "mimetype": "text/x-python",
  "name": "python",
  "npconvert_exporter": "python",
  "pygments_lexer": "ipython3",
  "version": 3
 },
 "nbformat": 4,
 "nbformat_minor": 2
}
