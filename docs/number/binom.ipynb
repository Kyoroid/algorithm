{
 "cells": [
  {
   "cell_type": "markdown",
   "metadata": {},
   "source": [
    "# 二項係数・組み合わせ\n",
    "\n",
    "https://drken1215.hatenablog.com/entry/2018/06/08/210000"
   ]
  },
  {
   "cell_type": "markdown",
   "metadata": {},
   "source": [
    "## 二項係数\n",
    "\n",
    "[二項係数](https://ja.wikipedia.org/wiki/%E4%BA%8C%E9%A0%85%E4%BF%82%E6%95%B0) (binomial coefficient) は、$(1+x)^n$ を展開した時に現れる係数のこと。  \n",
    "$_n\\mathrm{C}_k$ または $\\binom{n}{k}$ と表記する。\n",
    "$$\n",
    "\\begin{eqnarray}\n",
    "(1+x)^0 &=& 1 \\\\\n",
    "(1+x)^1 &=& 1 + x \\\\\n",
    "(1+x)^2 &=& 1 + 2x + x^2 \\\\\n",
    "(1+x)^3 &=& 1 + 3x + 3x^2 + x^3 \\\\\n",
    "&\\vdots& \\\\\n",
    "(1+x)^n &=& _n\\mathrm{C}_0x^0 + _n\\mathrm{C}_1x + _n\\mathrm{C}_2x^2 + \\ldots + _n\\mathrm{C}_nx^n \\\\\n",
    "&=& \\sum^{n}_{k=0} \\binom{n}{k} x^k\n",
    "\\end{eqnarray}\n",
    "$$\n",
    "\n",
    "二項係数は組み合わせ (combinations) の数でもある。  \n",
    "二項係数は「$n$個の中から$k$個を選ぶ組み合わせの総数」「$n$個の中から$k$個を選ぶ場合の数」と言い換えることができる。\n",
    "$$\n",
    "\\begin{eqnarray}\n",
    "_n\\mathrm{C}_k = \\frac{_n\\mathrm{P}_k}{k!} = \\frac{n!}{k!(n-k)!}\n",
    "\\end{eqnarray}\n",
    "$$"
   ]
  },
  {
   "cell_type": "markdown",
   "metadata": {},
   "source": [
    "## 性質\n",
    "次の等式が成り立つ。\n",
    "$$\n",
    "\\begin{eqnarray}\n",
    "\\binom{n}{k} &=& \\binom{n}{n-k} \\\\\n",
    "\\end{eqnarray}\n",
    "$$\n",
    "次の漸化式が成り立つ。\n",
    "$$\n",
    "\\begin{eqnarray}\n",
    "\\binom{n}{0} &=& 1 \\\\\n",
    "\\binom{n}{k} &=& \\begin{cases}\n",
    "    0 & (k > n) \\\\\n",
    "    \\binom{n-1}{k-1} + \\binom{n-1}{k} & (k <= n) \\\\\n",
    "\\end{cases}\n",
    "\\end{eqnarray}\n",
    "$$"
   ]
  },
  {
   "cell_type": "code",
   "execution_count": 1,
   "metadata": {},
   "outputs": [],
   "source": [
    "import numpy as np\n",
    "N = 5\n",
    "dp = np.zeros((N+1, N+1), dtype=np.int)\n",
    "dp[:, 0] = 1\n",
    "for n in range(1, N+1):\n",
    "    for k in range(1, n+1):\n",
    "        dp[n, k] = dp[n-1, k-1] + dp[n-1, k]"
   ]
  },
  {
   "cell_type": "code",
   "execution_count": 2,
   "metadata": {},
   "outputs": [
    {
     "data": {
      "image/png": "[encoded data removed]",
      "text/plain": [
       "<Figure size 432x288 with 1 Axes>"
      ]
     },
     "metadata": {
      "needs_background": "light"
     },
     "output_type": "display_data"
    }
   ],
   "source": [
    "import matplotlib.pyplot as plt\n",
    "fig, ax = plt.subplots()\n",
    "cellColours = [['w' for k in range(N+1)] for n in range(N+1)]\n",
    "cellColours[3][1] = 'lightblue'\n",
    "cellColours[3][2] = 'lightblue'\n",
    "cellColours[4][2] = 'steelblue'\n",
    "ax.table(dp,\n",
    "    rowLabels=[\"n={}\".format(i) for i in range(N+1)],\n",
    "    colLabels=[\"k={}\".format(i) for i in range(N+1)],\n",
    "    loc='center',\n",
    "    bbox=[0.1, 0, 1, 1],\n",
    "    cellColours=cellColours)\n",
    "ax.axis('off')\n",
    "plt.show()"
   ]
  },
  {
   "cell_type": "markdown",
   "metadata": {},
   "source": [
    "上の数表には、階段状に数字が並ぶ。この並び方は[パスカルの三角形](https://ja.wikipedia.org/wiki/%E3%83%91%E3%82%B9%E3%82%AB%E3%83%AB%E3%81%AE%E4%B8%89%E8%A7%92%E5%BD%A2)と呼ばれる。"
   ]
  },
  {
   "cell_type": "markdown",
   "metadata": {},
   "source": [
    "## 二項係数の和\n",
    "\n",
    "二項係数に関して $k=1$ または $k=2$ としたときの和は、和の公式や[三角数](https://ja.wikipedia.org/wiki/%E4%B8%89%E8%A7%92%E6%95%B0)と呼ばれる。  \n",
    "$\\gcd(n, m)=1$となる法 $m$ に関して計算量 $\\mathcal{O}(\\log{m})$ で和が求まる。\n",
    "\n",
    "$$\n",
    "\\begin{eqnarray}\n",
    "1 + 2 + 3 + 4 + \\ldots + \\binom{n}{1} &=& \\frac{n(n+1)}{2} \\\\\n",
    "1 + 3 + 6 + 10 + \\ldots + \\binom{n}{2} &=& \\frac{n(n+1)(n+2)}{6} \\\\\n",
    "\\end{eqnarray}\n",
    "$$\n",
    "\n",
    "任意の $k$ に対しては、[二項係数を計算](#二項係数の計算)してその和をとればよい。この場合は計算量が少し落ち、 $\\mathcal{O}(n\\log{m})$ となる。"
   ]
  },
  {
   "cell_type": "markdown",
   "metadata": {},
   "source": [
    "## 組み合わせの列挙\n",
    "\n",
    "組み合わせを列挙するには `itertools.combinations(iterable, r)` を用いる。  \n",
    "`iterable` には長さ $n$ のリストを渡す。\n",
    "\n",
    "5個の中から2個選ぶ組み合わせの列挙は次の通り。$N=5, K=2$ に対応する。  \n",
    "実際、組み合わせの数は $_5\\mathrm{C}_2 = 10$ 通りである。"
   ]
  },
  {
   "cell_type": "code",
   "execution_count": 3,
   "metadata": {},
   "outputs": [
    {
     "name": "stdout",
     "output_type": "stream",
     "text": [
      "[(0, 1), (0, 2), (0, 3), (0, 4), (1, 2), (1, 3), (1, 4), (2, 3), (2, 4), (3, 4)]\n",
      "10\n"
     ]
    }
   ],
   "source": [
    "from itertools import combinations\n",
    "\n",
    "N = 5\n",
    "K = 2\n",
    "a = [p for p in combinations(range(N), K)]\n",
    "print(a)\n",
    "print(len(a))"
   ]
  },
  {
   "cell_type": "markdown",
   "metadata": {},
   "source": [
    "## 二項係数の計算\n",
    " \n",
    "一般に二項係数は巨大な数となるため、断りがない限り $\\gcd(n, p)=1$ となる素数の法 $p$ に関する合同を扱う。  \n",
    "(素数でなくとも、$\\gcd(n, m)=1$ となる整数の法 $m$ に関して成り立つ)"
   ]
  },
  {
   "cell_type": "markdown",
   "metadata": {},
   "source": [
    "### 方法1\n",
    "\n",
    "$n \\leq 10^6$ 程度まで対応可能。\n",
    "\n",
    "$$\n",
    "\\binom{n}{k} = \\frac{n!}{k!(n-k)!} = n!(k!)^{-1}((n-k)!)^{-1}\n",
    "$$\n",
    "\n",
    "$n$ 以下の全ての $k$ に対して $k!, (k!)^{-1}$ の2種類の値を事前計算しておくことで、クエリ毎に $\\mathcal{O}(1)$ で計算可能となる。  \n",
    "階乗 $k!$ はforループで求めればよい。逆元計算は[合同](mod.ipynb)を参照。"
   ]
  },
  {
   "cell_type": "code",
   "execution_count": 4,
   "metadata": {},
   "outputs": [],
   "source": [
    "def binom_preprocess(n, MOD=10**9+7):\n",
    "    f = [0 for i in range(n+1)]  # n!\n",
    "    invf = [0 for i in range(n+1)]  # (n!)^-1\n",
    "    f[0] = 1\n",
    "    f[1] = 1\n",
    "    invf[0] = 1\n",
    "    invf[1] = 1\n",
    "    for i in range(2, n+1):\n",
    "        f[i] = f[i-1] * i % MOD\n",
    "        invf[i] = pow(f[i], MOD-2, MOD)\n",
    "    return f, invf\n",
    "\n",
    "def binom(n, k, f, invf, MOD=10**9+7):\n",
    "    if n < k or n < 0 or k < 0:\n",
    "        return 0\n",
    "    else:\n",
    "        return (f[n] * invf[k] % MOD) * invf[n-k] % MOD"
   ]
  },
  {
   "cell_type": "markdown",
   "metadata": {},
   "source": [
    "前処理の `pow(f[i], p-2, p)` を含むループはさらに計算量を落とすことができる。  \n",
    "$a_k = (k!)^{-1}$ とおけば、漸化式 $a_{k-1} = k \\cdot a_k$ が成り立つので、 $a_n = (n!)^{-1}$ だけ計算すれば他は漸化式から求まる。\n",
    "\n",
    "計算量は事前計算に$\\mathcal{O}(n)$、クエリ毎に$\\mathcal{O}(1)$。"
   ]
  },
  {
   "cell_type": "code",
   "execution_count": 5,
   "metadata": {},
   "outputs": [],
   "source": [
    "def binom_preprocess(n, MOD=10**9+7):\n",
    "    f = [0 for i in range(n+1)]  # n!\n",
    "    invf = [0 for i in range(n+1)]  # (n!)^-1\n",
    "    f[0] = 1\n",
    "    f[1] = 1\n",
    "    invf[0] = 1\n",
    "    invf[1] = 1\n",
    "    for i in range(2, n+1):\n",
    "        f[i] = f[i-1] * i % MOD\n",
    "    invf[n] = pow(f[n], MOD-2, MOD)\n",
    "    for i in range(n, 2, -1):\n",
    "        invf[i-1] = invf[i] * i % MOD\n",
    "    return f, invf\n",
    "\n",
    "def binom(n, k, f, invf, MOD=10**9+7):\n",
    "    if n < k or n < 0 or k < 0:\n",
    "        return 0\n",
    "    else:\n",
    "        return (f[n] * invf[k] % MOD) * invf[n-k] % MOD"
   ]
  },
  {
   "cell_type": "code",
   "execution_count": 6,
   "metadata": {},
   "outputs": [
    {
     "name": "stdout",
     "output_type": "stream",
     "text": [
      "85121780\n"
     ]
    }
   ],
   "source": [
    "f, invf = binom_preprocess(10**6)\n",
    "print(binom(10**6, 4, f, invf))"
   ]
  },
  {
   "cell_type": "markdown",
   "metadata": {},
   "source": [
    "### 方法2\n",
    "\n",
    "$\\min(k, n-k) \\leq 10^6$ 程度まで対応可能。 $n$ が大きくても対応できることが特徴。\n",
    "\n",
    "$$\n",
    "\\binom{n}{k} = \\frac{n!}{k!(n-k)!} = \\frac{n(n-1) \\ldots (n-k+1)}{k(k-1) \\ldots 1}\n",
    "$$\n",
    "\n",
    "分母と分子を別々に計算し、それらの商をとる。  \n",
    "分母、分子はいずれも $k$ 回のループで求まるので、全体の計算量はクエリ毎に$\\mathcal{O}(k)$。"
   ]
  },
  {
   "cell_type": "code",
   "execution_count": 7,
   "metadata": {},
   "outputs": [],
   "source": [
    "def binom(n, k, MOD=10**9+7):\n",
    "    k = min(k, n-k)\n",
    "    a = 1\n",
    "    for i in range(n-k+1, n+1):\n",
    "        a = a * i % MOD\n",
    "    b = 1\n",
    "    for i in range(1, k+1):\n",
    "        b = b * i % MOD\n",
    "    return a * pow(b, MOD-2, MOD) % MOD"
   ]
  },
  {
   "cell_type": "code",
   "execution_count": 8,
   "metadata": {},
   "outputs": [
    {
     "name": "stdout",
     "output_type": "stream",
     "text": [
      "344082972\n"
     ]
    }
   ],
   "source": [
    "print(binom(10**12, 10**6))"
   ]
  }
 ],
 "metadata": {
  "file_extension": ".py",
  "kernelspec": {
   "display_name": "Python 3.8.1 64-bit ('py38env': venv)",
   "name": "python38164bitpy38envvenvdb5a67ba2d164185bbc60d730ae2e1eb"
  },
  "language_info": {
   "codemirror_mode": {
    "name": "ipython",
    "version": 3
   },
   "file_extension": ".py",
   "mimetype": "text/x-python",
   "name": "python",
   "nbconvert_exporter": "python",
   "pygments_lexer": "ipython3",
   "version": "3.8.1"
  },
  "mimetype": "text/x-python",
  "name": "python",
  "npconvert_exporter": "python",
  "pygments_lexer": "ipython3",
  "version": 3
 },
 "nbformat": 4,
 "nbformat_minor": 2
}
