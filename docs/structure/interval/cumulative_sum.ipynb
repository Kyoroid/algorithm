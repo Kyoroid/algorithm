{
 "cells": [
  {
   "cell_type": "markdown",
   "metadata": {},
   "source": [
    "# 累積和"
   ]
  },
  {
   "cell_type": "markdown",
   "metadata": {},
   "source": [
    "## 累積和とは\n",
    "\n",
    "区間を扱うデータ構造の1つ。  \n",
    "累積和を使うと、数列の部分和をを求めるクエリを $\\mathcal{O}(1)$ で処理できる。\n",
    "\n",
    "数列 $a_n$ の累積和 $S_i$ を次のように定義する。\n",
    "\n",
    "$$\n",
    "\\begin{eqnarray}\n",
    "S_i &=& \\sum_{i=1}^{n} a_i = a_1 + a_2 + \\ldots + a_n \\\\\n",
    "\\end{eqnarray}\n",
    "$$\n",
    "\n",
    "2つの累積和の差を用いて、数列 $a_n$ の任意の部分和を表現できる。例えば区間 $[3, 5]$ の部分和は次の通り。\n",
    "\n",
    "$$\n",
    "\\begin{eqnarray}\n",
    "S_5 - S_{(3-1)} &=& (a_1 + a_2 + a_3 + a_4 + a_5) - (a_1 + a_2 + a_3) \\\\\n",
    "&=& a_3 + a_4 + a_5 \\\\\n",
    "\\end{eqnarray}\n",
    "$$"
   ]
  },
  {
   "cell_type": "markdown",
   "metadata": {},
   "source": [
    "## 実装\n",
    "\n",
    "### 概要\n",
    "\n",
    "配列 $a_n$ の累積和を求める。  \n",
    "Pythonでは [itertools.accumulate](https://docs.python.org/ja/3.8/library/itertools.html#itertools.accumulate) や [numpy.cumsum](https://numpy.org/doc/stable/reference/generated/numpy.cumsum.html) で実装されている。\n",
    "\n",
    "配列は 0-indexed であることに注意。累積和の定義は次の通り。\n",
    "\n",
    "\\begin{eqnarray}\n",
    "S_i &=& \\sum_{i=0}^{n-1} a_i = a_0 + a_1 + \\ldots + a_{n-1} \\\\\n",
    "\\end{eqnarray}\n",
    "\n",
    "区間 $[i, j]$ の区間和は次のように求める。\n",
    "\n",
    "$$\n",
    "\\sum_{i}^j a = \\begin{cases}\n",
    "S_j - S_{i-1} && (i > 0) \\\\\n",
    "S_j && (i = 0)\n",
    "\\end{cases}\n",
    "$$\n",
    "\n",
    "### 計算量\n",
    "\n",
    "- 前処理\n",
    "\n",
    "    | 操作 | メソッド | 計算量 |\n",
    "    | --- | --- | --- |\n",
    "    | 数列 $a$ の累積和 | `accumulate(a)` | $\\mathcal{O}(n)$ |\n",
    "\n",
    "- クエリ\n",
    "\n",
    "    | 操作 | メソッド | 計算量 |\n",
    "    | --- | --- | --- |\n",
    "    | 区間和 $\\sum_i^j a$ | `S[j]-S[i-1]` | $\\mathcal{O}(1)$ |"
   ]
  },
  {
   "cell_type": "markdown",
   "metadata": {},
   "source": [
    "## 使用例"
   ]
  },
  {
   "cell_type": "code",
   "execution_count": 1,
   "metadata": {
    "execution": {
     "shell.execute_reply": "2021-05-23T07:55:00.033816Z"
    }
   },
   "outputs": [],
   "source": [
    "from itertools import accumulate\n",
    "\n",
    "A = [3, 5, -1, 6, -5, 4]\n",
    "S = list(accumulate(A))\n",
    "print(*S)\n",
    "print(\"sum of [{}, {}] is {}\".format(0, 3, S[3]))\n",
    "print(\"sum of [{}, {}] is {}\".format(2, 4, S[4] - S[1]))"
   ]
  },
  {
   "cell_type": "code",
   "execution_count": 2,
   "metadata": {
    "execution": {
     "iopub.execute_input": "2021-05-23T07:55:04.065113Z",
     "iopub.status.busy": "2021-05-23T07:55:04.063118Z",
     "iopub.status.idle": "2021-05-23T07:55:04.176648Z",
     "shell.execute_reply": "2021-05-23T07:55:04.176648Z"
    }
   },
   "outputs": [
    {
     "name": "stdout",
     "output_type": "stream",
     "text": [
      "3 8 7 13 8 12\n",
      "sum of [0, 3] is 13\n",
      "sum of [2, 4] is 0\n"
     ]
    }
   ],
   "source": [
    "import numpy as np\n",
    "\n",
    "A = np.int64([3, 5, -1, 6, -5, 4])\n",
    "S = np.cumsum(A)\n",
    "print(*S)\n",
    "print(\"sum of [{}, {}] is {}\".format(0, 3, S[3]))\n",
    "print(\"sum of [{}, {}] is {}\".format(2, 4, S[4] - S[1]))"
   ]
  }
 ],
 "metadata": {
  "kernelspec": {
   "display_name": "Python 3",
   "language": "python",
   "name": "python3"
  },
  "language_info": {
   "codemirror_mode": {
    "name": "ipython",
    "version": 3
   },
   "file_extension": ".py",
   "mimetype": "text/x-python",
   "name": "python",
   "nbconvert_exporter": "python",
   "pygments_lexer": "ipython3",
   "version": "3.8.10"
  }
 },
 "nbformat": 4,
 "nbformat_minor": 2
}
